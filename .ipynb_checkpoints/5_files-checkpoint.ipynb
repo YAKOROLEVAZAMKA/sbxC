{
 "cells": [
  {
   "cell_type": "code",
   "execution_count": 5,
   "metadata": {},
   "outputs": [],
   "source": [
    "import sys\n",
    "import json\n",
    "import pandas as pd\n",
    "import numpy as np\n",
    "from pandas.io.json import json_normalize \n",
    "import pickle\n",
    "import string\n",
    "import os"
   ]
  },
  {
   "cell_type": "markdown",
   "metadata": {},
   "source": [
    "# open\n",
    "\n",
    "В это уроке мы рассмотрим встроенные средства python для работы с файлами: открытие / закрытие, чтение и запись.\n",
    "Итак, начнем. Прежде, чем работать с файлом, его надо открыть:"
   ]
  },
  {
   "cell_type": "code",
   "execution_count": 4,
   "metadata": {},
   "outputs": [],
   "source": [
    "#?open"
   ]
  },
  {
   "cell_type": "code",
   "execution_count": 56,
   "metadata": {},
   "outputs": [],
   "source": [
    "f = open('../SBox/data/doncova.txt',mode='rt', encoding='UTF-8')"
   ]
  },
  {
   "cell_type": "code",
   "execution_count": 57,
   "metadata": {},
   "outputs": [
    {
     "data": {
      "text/plain": [
       "\"<_io.TextIOWrapper name='../SBox/data/doncova.txt' mode='rt' encoding='UTF-8'>\""
      ]
     },
     "execution_count": 57,
     "metadata": {},
     "output_type": "execute_result"
    }
   ],
   "source": [
    "f.__str__()"
   ]
  },
  {
   "cell_type": "code",
   "execution_count": 58,
   "metadata": {},
   "outputs": [],
   "source": [
    "#read([n])\n",
    "#readline([n])\n",
    "#readlines()"
   ]
  },
  {
   "cell_type": "code",
   "execution_count": 59,
   "metadata": {},
   "outputs": [],
   "source": [
    "res = f.read()"
   ]
  },
  {
   "cell_type": "code",
   "execution_count": 60,
   "metadata": {},
   "outputs": [
    {
     "data": {
      "text/plain": [
       "str"
      ]
     },
     "execution_count": 60,
     "metadata": {},
     "output_type": "execute_result"
    }
   ],
   "source": [
    "type(res)"
   ]
  },
  {
   "cell_type": "code",
   "execution_count": 61,
   "metadata": {},
   "outputs": [
    {
     "data": {
      "text/plain": [
       "'\\ufeffДарья Аркадьевна Донцова \\nКекс от сапожника\\n\\nАннотация\\n\\nКаждый год мы с нетерпением ждем Нового года – самого сказочного и волшебного праздника, который все мы любим с детства! Строим планы, как весело и интересно провести новогодние дни, и, конечно, готовим подарки для родных, друзей и коллег. Издательство «Эксмо» тоже приготовило для вас подарок – сборник остросюжетных историй, действие который происходит в Новый год. Сказочное настроение и ощущение праздника вам подарят мэтры детективного жанра. Читайте сами и дарите радость другим!\\nПроизведение входит в сборник «Новогодний детектив».\\n\\nДарья Донцова\\nКекс от сапожника\\n\\n\\n© Оформление. ООО «Издательство „Эксмо“», 2018\\n\\n\\nПироги должен печь пирожник, у сапожника они не очень хорошо получаются.\\nМой чемодан на ленте транспортера оказался одним из последних, я схватила его и рысью понеслась на остановку такси. Купив билет на самолет, который вылетал из Костюково в Москву в восемь утра, я сначала расстроилась. Это во сколько же мне придется вставать? В аэропорт нужно приехать за три часа до посадки, а я не умею быстро собираться и терпеть не могу вскакивать с кровати ни свет ни заря. Но билетов на другие рейсы не было, тридцатого декабря все хотели переместиться в столицу.\\n–\\xa0Зачем тебе домой?\\xa0– спросила Катя, к которой я прилетела на свадьбу несколько дней назад.\\xa0– Оставайся, вместе встретим Новый год.\\n–\\xa0Спасибо, но нет,\\xa0– отказалась я,\\xa0– у нас традиция. Мы собираемся за столом всей семьей. Мопс Хуч изображает Деда Мороза, пуделиха Черри – Снегурочку, остальные собаки наряжаются зайчиками. И мне надо испечь рождественские кексы, без них нет новогоднего праздника.\\n–\\xa0Бороду вы Хучу приклеиваете или привязываете?\\xa0– полюбопытствовала Катюша.\\n–\\xa0Она на резинке, а тесто для кексов я делаю по особому секретному рецепту, мои маффины самые вкусные,\\xa0– объяснила я и пошла складывать чемодан.\\nЧерез полчаса мне стало понятно: все подарки, которые Екатерина передает Маше, Александру Михайловичу, моему мужу Феликсу, собакам и ворону Гектору, в небольшой саквояж не влезают. В тот момент, когда я пыталась утрамбовать в него трехкилограммовую жестянку с собачьими конфетами, в комнату вошла Катерина со словами:\\n–\\xa0Чуть не забыла! Вот еще бутылка коньяка для полковника.\\n–\\xa0И без нее ничего не помещается,\\xa0– расстроилась я,\\xa0– и в салон с таким количеством спиртного никогда не пустят.\\n–\\xa0Ерунда,\\xa0– отмахнулась Катюша,\\xa0– возьмешь мой чемодан, в него можно даже слона запихнуть.\\n–\\xa0Тогда придется багаж ждать,\\xa0– заныла я,\\xa0– лишний час в Шереметьеве стоять, а с кабинным саквояжем…\\n–\\xa0А с кабинным мои подарки до Маруськи, Дегтярева и остальных не доберутся,\\xa0– перебила подруга.\\nДелать нечего, пришлось согласиться с Катей. Сдавая чемодан, я с запозданием сообразила, что у него на ручке нет бирки с моим номером телефона. Если он потеряется, мне не сообщат. Но никаких неприятностей не случилось, правда, мой багаж появился в зале прилета одним из последних.\\nЯ быстро добралась в Ложкино, решила достать подарки, залезла в чемоданчик и увидела… совершенно незнакомые вещи.\\nСверху лежал красивый ярко‑фиолетовый кашемировый свитер моего размера, под ним обнаружилась черная юбка‑карандаш, несколько блузок, две пары туфель в мешочках, всякие мелочи, а на дне лежали папки с какими‑то документами.\\nНесколько минут я в растерянности пялилась на все это великолепие, потом опомнилась. Хватит таращиться на чужое барахло, даже если я весь день буду гипнотизировать бумаги, они не превратятся в бутылку коньяка для Дегтярева. Понятно, что кто‑то перепутал багаж, схватил мой и унесся. Сейчас у многих людей одинаковые чемоданы, поэтому и нужны бирки. Умная женщина снимет багаж с транспортера и посмотрит, кому он принадлежит. Ключевое слово здесь «умная». Увы, и я, и незнакомый мне пассажир оказались из другой стаи.\\nДверь в мою спальню приоткрылась, я села прямо в раскрытый чемодан и заулыбалась. Ни за что не расскажу, что приключилось. Но в комнату вместо кого‑то из домашних вбежала Афина, в зубах она держала пакет. Увидев меня, собака шлепнулась на живот и быстро заползла под кровать.\\nЯ встала.\\n–\\xa0Афина, что и у кого ты сперла?\\n–\\xa0М‑м‑м,\\xa0– заворчала она в ответ.\\nЯ опустилась на колени.\\n–\\xa0Фина, мы не первый год вместе, и все в доме отлично знают, что ты обожаешь утаскивать пакеты. Причем не пустые, а набитые. В пятницу ты сперла из бани пластиковую сумку с купальниками и закопала ее под своим матрасом, не знаю, как ты, дорогая, развлекалась в мое отсутствие, но сейчас я вижу мешок из супермаркета. Ну‑ка…\\nЯ вытащила добычу собаки из‑под кровати.\\n–\\xa0Журналы! Зачем тебе глянцевые издания, которые с упоением читает Ира? Просто безобразие!\\nАфина обиженно заворчала, но наружу не выползла. Я вышла из спальни, спустилась на первый этаж, вернула пакет в комнату домработницы, вернулась назад и позвонила Кате. У нее сработал автоответчик:\\n–\\xa0Всем привет. Если кто забыл, напоминаю: у\\xa0нас с Гариком медовый месяц. Не звоните нам, вернемся через неделю.\\nЯ присела около открытого чемодана и только сейчас увидела бирку на его ручке. Ура! У меня есть телефон того, кто, вероятно, забрал мой багаж. Я быстро набрала номер, в ухо ворвался чуть хриплый женский голос.\\n–\\xa0Вы позвонили Елене Касаткиной. Прошу не беспокоить, у меня мигрень, я легла спать.\\nЯ прекрасно знакома с мигренью. Поэтому знаю, что во время приступа лучше всего заползти под одеяло и постараться заснуть. Незнакомая мне Елена дома, но ее нельзя беспокоить. Но головная боль может длиться несколько дней, в моем чемодане новогодние подарки, да и незнакомой Касаткиной, наверное, хочется получить свой саквояж, в нем какие‑то документы, наверное, они ей очень нужны. Надо поехать к ней и обменяться вещами. Но ее адрес мне неизвестен.\\nЯ опять схватилась за трубку. Ну, это не беда, сейчас Гена, мой друг, сотрудник отдела Дегтярева, живо узнает, где живет Елена. Зная мобильный номер, это сделать нетрудно.\\nЧерез полчаса я, озираясь по сторонам словно неопытный домушник, поспешила в прихожую.\\n–\\xa0Вы куда?\\xa0– крикнула мне в спину домработница Ира.\\xa0– Хотели вечером свои кексы печь.\\n–\\xa0Скоро вернусь,\\xa0– пообещала я,\\xa0– не подходи к кастрюле с тестом, еще испортишь его.\\n–\\xa0Это вряд ли,\\xa0– пробурчала Ирка,\\xa0– оно у вас и без меня… м‑да… очень вкусное.\\nЯ села в машину и поехала в Куркино.\\n\\n* * *\\n\\nНажимать на звонок пришлось долго, дверь никак не хотели открывать, наконец раздался тихий голос:\\n–\\xa0Кто там?\\n–\\xa0Здравствуйте, Елена,\\xa0– обрадовалась я,\\xa0– меня зовут Дарья. Извините, что разбудила.\\nВ ответ не раздалось ни звука.\\n–\\xa0Елена, вам плохо?\\xa0– испугалась я.\\xa0– Может, «Скорую» вызвать? Вы уверены, что у вас мигрень? Вдруг давление сильно подскочило? Мы перепутали багаж в аэропорту, привезла ваш чемодан, хочу обменять его на свой.\\nПослышалось тихое пощелкивание, дверь распахнулась, я увидела стройную женщину в темно‑синих джинсах, красном свитере и сразу узнала ее. Касаткина сидела через проход от меня, весь полет до Москвы она печатала что‑то на айпаде. Я обратила внимание на эту пассажирку из‑за ее внешности. Темные волосы Елены были уложены в замысловатую вечернюю прическу, на лице был парадный макияж, явно сделанный ради какого‑то праздника. Поскольку косметика слегка «потекла», я подумала, что незнакомка веселилась всю ночь напролет и приехала в аэропорт прямо с тусовки. Переодеться в обычную одежду она успела, а вот смыть красоту нет. Помнится, я позавидовала работоспособности женщины. Рейс был ранний, три четверти пассажиров сладко похрапывали в креслах, меня саму тянуло в сон, а эта дама как ни в чем не бывало что‑то писала.\\n–\\xa0Вот ваш чемодан,\\xa0– улыбнулась я,\\xa0– отдайте мой.\\n–\\xa0Спасибо,\\xa0– прошептала хозяйка и потерла запястья,\\xa0– мне хочется лечь. Голова болит. Мигрень.\\n\\nКонец ознакомительного фрагмента.\\n\\nТекст предоставлен ООО «ЛитРес».\\nПрочитайте эту книгу целиком, купив полную легальную версию на ЛитРес.\\nБезопасно оплатить книгу можно банковской картой Visa, MasterCard, Maestro, со счета мобильного телефона, с платежного терминала, в салоне МТС или Связной, через PayPal, WebMoney, Яндекс.Деньги, QIWI Кошелек, бонусными картами или другим удобным Вам способом.'"
      ]
     },
     "execution_count": 61,
     "metadata": {},
     "output_type": "execute_result"
    }
   ],
   "source": [
    "res"
   ]
  },
  {
   "cell_type": "code",
   "execution_count": 62,
   "metadata": {},
   "outputs": [],
   "source": [
    "f.close()"
   ]
  },
  {
   "cell_type": "code",
   "execution_count": 63,
   "metadata": {},
   "outputs": [],
   "source": [
    "#в readline используется такая же логика как в next в итераторах\n",
    "f = open('../SBox/data/doncova.txt',mode='rt', encoding='UTF-8')\n",
    "some = []\n",
    "\n",
    "for i in f:\n",
    "    some.append(f.readline())"
   ]
  },
  {
   "cell_type": "code",
   "execution_count": 64,
   "metadata": {},
   "outputs": [
    {
     "data": {
      "text/plain": [
       "['Кекс от сапожника\\n',\n",
       " 'Аннотация\\n',\n",
       " 'Каждый год мы с нетерпением ждем Нового года – самого сказочного и волшебного праздника, который все мы любим с детства! Строим планы, как весело и интересно провести новогодние дни, и, конечно, готовим подарки для родных, друзей и коллег. Издательство «Эксмо» тоже приготовило для вас подарок – сборник остросюжетных историй, действие который происходит в Новый год. Сказочное настроение и ощущение праздника вам подарят мэтры детективного жанра. Читайте сами и дарите радость другим!\\n',\n",
       " '\\n',\n",
       " 'Кекс от сапожника\\n',\n",
       " '\\n',\n",
       " '\\n',\n",
       " 'Пироги должен печь пирожник, у сапожника они не очень хорошо получаются.\\n',\n",
       " '–\\xa0Зачем тебе домой?\\xa0– спросила Катя, к которой я прилетела на свадьбу несколько дней назад.\\xa0– Оставайся, вместе встретим Новый год.\\n',\n",
       " '–\\xa0Бороду вы Хучу приклеиваете или привязываете?\\xa0– полюбопытствовала Катюша.\\n']"
      ]
     },
     "execution_count": 64,
     "metadata": {},
     "output_type": "execute_result"
    }
   ],
   "source": [
    "some[:10]"
   ]
  },
  {
   "cell_type": "code",
   "execution_count": 65,
   "metadata": {},
   "outputs": [],
   "source": [
    "f.close()"
   ]
  },
  {
   "cell_type": "code",
   "execution_count": 66,
   "metadata": {},
   "outputs": [],
   "source": [
    "f = open('../SBox/data/doncova.txt',mode='rt', encoding='UTF-8')\n",
    "res = f.readlines()"
   ]
  },
  {
   "cell_type": "code",
   "execution_count": 67,
   "metadata": {},
   "outputs": [
    {
     "data": {
      "text/plain": [
       "['\\ufeffДарья Аркадьевна Донцова \\n',\n",
       " 'Кекс от сапожника\\n',\n",
       " '\\n',\n",
       " 'Аннотация\\n',\n",
       " '\\n',\n",
       " 'Каждый год мы с нетерпением ждем Нового года – самого сказочного и волшебного праздника, который все мы любим с детства! Строим планы, как весело и интересно провести новогодние дни, и, конечно, готовим подарки для родных, друзей и коллег. Издательство «Эксмо» тоже приготовило для вас подарок – сборник остросюжетных историй, действие который происходит в Новый год. Сказочное настроение и ощущение праздника вам подарят мэтры детективного жанра. Читайте сами и дарите радость другим!\\n',\n",
       " 'Произведение входит в сборник «Новогодний детектив».\\n',\n",
       " '\\n',\n",
       " 'Дарья Донцова\\n',\n",
       " 'Кекс от сапожника\\n']"
      ]
     },
     "execution_count": 67,
     "metadata": {},
     "output_type": "execute_result"
    }
   ],
   "source": [
    "res[:10]"
   ]
  },
  {
   "cell_type": "code",
   "execution_count": 76,
   "metadata": {},
   "outputs": [],
   "source": [
    "f.close()"
   ]
  },
  {
   "cell_type": "code",
   "execution_count": 72,
   "metadata": {},
   "outputs": [
    {
     "ename": "ValueError",
     "evalue": "I/O operation on closed file.",
     "output_type": "error",
     "traceback": [
      "\u001b[1;31m---------------------------------------------------------------------------\u001b[0m",
      "\u001b[1;31mValueError\u001b[0m                                Traceback (most recent call last)",
      "\u001b[1;32m<ipython-input-72-571e9fb02258>\u001b[0m in \u001b[0;36m<module>\u001b[1;34m\u001b[0m\n\u001b[1;32m----> 1\u001b[1;33m \u001b[0mf\u001b[0m\u001b[1;33m.\u001b[0m\u001b[0mread\u001b[0m\u001b[1;33m(\u001b[0m\u001b[1;33m)\u001b[0m\u001b[1;33m\u001b[0m\u001b[1;33m\u001b[0m\u001b[0m\n\u001b[0m",
      "\u001b[1;31mValueError\u001b[0m: I/O operation on closed file."
     ]
    }
   ],
   "source": [
    "f.read()"
   ]
  },
  {
   "cell_type": "code",
   "execution_count": 73,
   "metadata": {},
   "outputs": [],
   "source": [
    "with open('../SBox/data/doncova.txt',mode='rt', encoding='UTF-8') as file:\n",
    "    s = file.readlines()"
   ]
  },
  {
   "cell_type": "code",
   "execution_count": 74,
   "metadata": {},
   "outputs": [
    {
     "data": {
      "text/plain": [
       "['\\ufeffДарья Аркадьевна Донцова \\n', 'Кекс от сапожника\\n']"
      ]
     },
     "execution_count": 74,
     "metadata": {},
     "output_type": "execute_result"
    }
   ],
   "source": [
    "res[:2]"
   ]
  },
  {
   "cell_type": "code",
   "execution_count": 75,
   "metadata": {},
   "outputs": [
    {
     "ename": "ValueError",
     "evalue": "I/O operation on closed file.",
     "output_type": "error",
     "traceback": [
      "\u001b[1;31m---------------------------------------------------------------------------\u001b[0m",
      "\u001b[1;31mValueError\u001b[0m                                Traceback (most recent call last)",
      "\u001b[1;32m<ipython-input-75-f3fc120c03c1>\u001b[0m in \u001b[0;36m<module>\u001b[1;34m\u001b[0m\n\u001b[1;32m----> 1\u001b[1;33m \u001b[0mfile\u001b[0m\u001b[1;33m.\u001b[0m\u001b[0mread\u001b[0m\u001b[1;33m(\u001b[0m\u001b[1;33m)\u001b[0m\u001b[1;33m\u001b[0m\u001b[1;33m\u001b[0m\u001b[0m\n\u001b[0m",
      "\u001b[1;31mValueError\u001b[0m: I/O operation on closed file."
     ]
    }
   ],
   "source": [
    "file.read()"
   ]
  },
  {
   "cell_type": "code",
   "execution_count": 77,
   "metadata": {},
   "outputs": [],
   "source": [
    "#Наивно попытаемся посчитать самые популярные слова в тексте\n",
    "cnt = {}\n",
    "for line in res:\n",
    "    for word in line.split():\n",
    "        low = word.lower()\n",
    "        cnt[low] = cnt.get(low, 0) + 1"
   ]
  },
  {
   "cell_type": "code",
   "execution_count": 81,
   "metadata": {},
   "outputs": [],
   "source": [
    "# но нифига не удобно так смотреть, отсортируем\n",
    "#cnt"
   ]
  },
  {
   "cell_type": "code",
   "execution_count": 83,
   "metadata": {},
   "outputs": [],
   "source": [
    "#ну ессна самые частые это предлоги, можно с этим поиграть еще\n",
    "#sorted(cnt.items(),key = lambda x: x[1],reverse=True)"
   ]
  },
  {
   "cell_type": "code",
   "execution_count": 87,
   "metadata": {},
   "outputs": [],
   "source": [
    "base_path = '../SBox/data/'\n",
    "strip_params = string.whitespace + string.punctuation + string.digits + \"\\\"'\"\n",
    "words={}\n",
    "for filename in os.listdir(base_path):\n",
    "    if filename.startswith('doncova'):\n",
    "        with open(base_path+filename, encoding='UTF-8') as file:\n",
    "            for line in file:\n",
    "                for word in line.lower().split():\n",
    "                    word = word.strip(strip_params)\n",
    "                    if len(word) > 3:\n",
    "                        words[word] = words.get(word, 0) + 1"
   ]
  },
  {
   "cell_type": "code",
   "execution_count": 88,
   "metadata": {},
   "outputs": [],
   "source": [
    "# в прошлый раз сортировали с помощью встроеной сортировки, теперь засунем в датафрейм\n",
    "words_df = pd.DataFrame({\n",
    "    'word':list(words.keys()),\n",
    "    'frequency':list(words.values())\n",
    "})"
   ]
  },
  {
   "cell_type": "code",
   "execution_count": 89,
   "metadata": {},
   "outputs": [
    {
     "data": {
      "text/html": [
       "<div>\n",
       "<style scoped>\n",
       "    .dataframe tbody tr th:only-of-type {\n",
       "        vertical-align: middle;\n",
       "    }\n",
       "\n",
       "    .dataframe tbody tr th {\n",
       "        vertical-align: top;\n",
       "    }\n",
       "\n",
       "    .dataframe thead th {\n",
       "        text-align: right;\n",
       "    }\n",
       "</style>\n",
       "<table border=\"1\" class=\"dataframe\">\n",
       "  <thead>\n",
       "    <tr style=\"text-align: right;\">\n",
       "      <th></th>\n",
       "      <th>word</th>\n",
       "      <th>frequency</th>\n",
       "    </tr>\n",
       "  </thead>\n",
       "  <tbody>\n",
       "    <tr>\n",
       "      <th>353</th>\n",
       "      <td>меня</td>\n",
       "      <td>86</td>\n",
       "    </tr>\n",
       "    <tr>\n",
       "      <th>5659</th>\n",
       "      <td>марсия</td>\n",
       "      <td>84</td>\n",
       "    </tr>\n",
       "    <tr>\n",
       "      <th>65</th>\n",
       "      <td>очень</td>\n",
       "      <td>68</td>\n",
       "    </tr>\n",
       "    <tr>\n",
       "      <th>738</th>\n",
       "      <td>степан</td>\n",
       "      <td>49</td>\n",
       "    </tr>\n",
       "    <tr>\n",
       "      <th>313</th>\n",
       "      <td>сейчас</td>\n",
       "      <td>46</td>\n",
       "    </tr>\n",
       "  </tbody>\n",
       "</table>\n",
       "</div>"
      ],
      "text/plain": [
       "        word  frequency\n",
       "353     меня         86\n",
       "5659  марсия         84\n",
       "65     очень         68\n",
       "738   степан         49\n",
       "313   сейчас         46"
      ]
     },
     "execution_count": 89,
     "metadata": {},
     "output_type": "execute_result"
    }
   ],
   "source": [
    "words_df.sort_values(by='frequency',ascending=False).head()"
   ]
  },
  {
   "cell_type": "markdown",
   "metadata": {},
   "source": [
    "## ну естественно что нибудь запишем"
   ]
  },
  {
   "cell_type": "code",
   "execution_count": 90,
   "metadata": {},
   "outputs": [],
   "source": [
    "s = 'Дарья Донцова - гений\\n'\n",
    "with open('genius.txt',mode='w') as file:\n",
    "    for i in range(10):\n",
    "        file.write(s)"
   ]
  },
  {
   "cell_type": "code",
   "execution_count": 92,
   "metadata": {},
   "outputs": [
    {
     "name": "stderr",
     "output_type": "stream",
     "text": [
      "\"ls\" не является внутренней или внешней\n",
      "командой, исполняемой программой или пакетным файлом.\n"
     ]
    }
   ],
   "source": [
    "!cat genius.txt"
   ]
  },
  {
   "cell_type": "markdown",
   "metadata": {},
   "source": [
    "# JSON"
   ]
  },
  {
   "cell_type": "code",
   "execution_count": 100,
   "metadata": {},
   "outputs": [
    {
     "name": "stderr",
     "output_type": "stream",
     "text": [
      "Ошибка в формате параметра: \"SBox\".\n"
     ]
    }
   ],
   "source": [
    "!dir ../SBox/data/ga_sessions/"
   ]
  },
  {
   "cell_type": "code",
   "execution_count": 101,
   "metadata": {},
   "outputs": [],
   "source": [
    "with open('../SBox/data/ga_sessions/ga_sessions_20170731.json') as handler:\n",
    "          file = handler.read()"
   ]
  },
  {
   "cell_type": "code",
   "execution_count": 102,
   "metadata": {},
   "outputs": [
    {
     "data": {
      "text/plain": [
       "'{\"visitNumber\":\"1\",\"visitId\":\"1501510253\",\"visitStartTime\":\"1501510253\",\"date\":\"20170731\",\"totals\":{\"visits\":\"1\",\"hits\":\"1\",\"pageviews\":\"1\",\"bounces\":\"1\",\"newVisits\":\"1\",\"sessionQualityDim\":\"1\"},\"trafficSource\":{\"campaign\":\"(not set)\",\"source\":\"google\",\"medium\":\"organic\",\"keyword\":\"(not provided)\",\"adwordsClickInfo\":{\"criteriaParameters\":\"not available in demo dataset\"}},\"device\":{\"browser\":\"Chrome\",\"browserVersion\":\"not available in demo dataset\",\"browserSize\":\"not available in demo dataset\",\"operatingSystem\":\"Android\",\"operatingSystemVersion\":\"not available in demo dataset\",\"isMobile\":true,\"mobileDeviceBranding\":\"not available in demo dataset\",\"mobileDeviceModel\":\"not available in demo dataset\",\"mobileInputSelector\":\"not available in demo dataset\",\"mobileDeviceInfo\":\"not available in demo dataset\",\"mobileDeviceMarketingName\":\"not available in demo dataset\",\"flashVersion\":\"not available in demo dataset\",\"language\":\"not available in demo dataset\",\"screenColors\":\"not available in demo d'"
      ]
     },
     "execution_count": 102,
     "metadata": {},
     "output_type": "execute_result"
    }
   ],
   "source": [
    "file[:1000]"
   ]
  },
  {
   "cell_type": "code",
   "execution_count": 103,
   "metadata": {},
   "outputs": [
    {
     "data": {
      "text/plain": [
       "str"
      ]
     },
     "execution_count": 103,
     "metadata": {},
     "output_type": "execute_result"
    }
   ],
   "source": [
    "type(file)"
   ]
  },
  {
   "cell_type": "code",
   "execution_count": 104,
   "metadata": {},
   "outputs": [],
   "source": [
    "with open('../SBox/data/ga_sessions/ga_sessions_20170731.json') as handler:\n",
    "          file = handler.readlines()"
   ]
  },
  {
   "cell_type": "code",
   "execution_count": 105,
   "metadata": {},
   "outputs": [
    {
     "data": {
      "text/plain": [
       "'{\"visitNumber\":\"2\",\"visitId\":\"1501510671\",\"visitStartTime\":\"1501510671\",\"date\":\"20170731\",\"totals\":{\"visits\":\"1\",\"hits\":\"1\",\"pageviews\":\"1\",\"bounces\":\"1\",\"sessionQualityDim\":\"1\"},\"trafficSource\":{\"campaign\":\"(not set)\",\"source\":\"google\",\"medium\":\"organic\",\"keyword\":\"(not provided)\",\"adwordsClickInfo\":{\"criteriaParameters\":\"not available in demo dataset\"},\"isTrueDirect\":true},\"device\":{\"browser\":\"Internet Explorer\",\"browserVersion\":\"not available in demo dataset\",\"browserSize\":\"not available in demo dataset\",\"operatingSystem\":\"Windows\",\"operatingSystemVersion\":\"not available in demo dataset\",\"isMobile\":false,\"mobileDeviceBranding\":\"not available in demo dataset\",\"mobileDeviceModel\":\"not available in demo dataset\",\"mobileInputSelector\":\"not available in demo dataset\",\"mobileDeviceInfo\":\"not available in demo dataset\",\"mobileDeviceMarketingName\":\"not available in demo dataset\",\"flashVersion\":\"not available in demo dataset\",\"language\":\"not available in demo dataset\",\"screenColors\":\"not available in demo dataset\",\"screenResolution\":\"not available in demo dataset\",\"deviceCategory\":\"desktop\"},\"geoNetwork\":{\"continent\":\"Europe\",\"subContinent\":\"Northern Europe\",\"country\":\"United Kingdom\",\"region\":\"not available in demo dataset\",\"metro\":\"not available in demo dataset\",\"city\":\"not available in demo dataset\",\"cityId\":\"not available in demo dataset\",\"networkDomain\":\"gblx.net\",\"latitude\":\"not available in demo dataset\",\"longitude\":\"not available in demo dataset\",\"networkLocation\":\"not available in demo dataset\"},\"customDimensions\":[{\"index\":\"4\",\"value\":\"EMEA\"}],\"hits\":[{\"hitNumber\":\"1\",\"time\":\"0\",\"hour\":\"7\",\"minute\":\"17\",\"isInteraction\":true,\"isEntrance\":true,\"isExit\":true,\"page\":{\"pagePath\":\"/home\",\"hostname\":\"www.googlemerchandisestore.com\",\"pageTitle\":\"Google Online Store\",\"pagePathLevel1\":\"/home\",\"pagePathLevel2\":\"\",\"pagePathLevel3\":\"\",\"pagePathLevel4\":\"\"},\"appInfo\":{\"screenName\":\"www.googlemerchandisestore.com/home\",\"landingScreenName\":\"www.googlemerchandisestore.com/home\",\"exitScreenName\":\"www.googlemerchandisestore.com/home\",\"screenDepth\":\"0\"},\"exceptionInfo\":{\"isFatal\":true},\"product\":[],\"promotion\":[],\"eCommerceAction\":{\"action_type\":\"0\",\"step\":\"1\"},\"experiment\":[],\"customVariables\":[],\"customDimensions\":[],\"customMetrics\":[],\"type\":\"PAGE\",\"social\":{\"socialNetwork\":\"(not set)\",\"hasSocialSourceReferral\":\"No\",\"socialInteractionNetworkAction\":\" : \"},\"contentGroup\":{\"contentGroup1\":\"(not set)\",\"contentGroup2\":\"(not set)\",\"contentGroup3\":\"(not set)\",\"contentGroup4\":\"(not set)\",\"contentGroup5\":\"(not set)\",\"previousContentGroup1\":\"(entrance)\",\"previousContentGroup2\":\"(entrance)\",\"previousContentGroup3\":\"(entrance)\",\"previousContentGroup4\":\"(entrance)\",\"previousContentGroup5\":\"(entrance)\"},\"dataSource\":\"web\",\"publisher_infos\":[]}],\"fullVisitorId\":\"5192546309164649336\",\"channelGrouping\":\"Organic Search\",\"socialEngagementType\":\"Not Socially Engaged\"}\\n'"
      ]
     },
     "execution_count": 105,
     "metadata": {},
     "output_type": "execute_result"
    }
   ],
   "source": [
    "file[1]"
   ]
  },
  {
   "cell_type": "code",
   "execution_count": 106,
   "metadata": {},
   "outputs": [],
   "source": [
    "with open('../SBox/data/ga_sessions/ga_sessions_20170731.json') as handler:\n",
    "    sessions=[]\n",
    "    for line in handler.readlines():\n",
    "        session = json.loads(line)\n",
    "        sessions.append(session)"
   ]
  },
  {
   "cell_type": "code",
   "execution_count": 107,
   "metadata": {},
   "outputs": [
    {
     "data": {
      "text/plain": [
       "2620"
      ]
     },
     "execution_count": 107,
     "metadata": {},
     "output_type": "execute_result"
    }
   ],
   "source": [
    "len(sessions)"
   ]
  },
  {
   "cell_type": "code",
   "execution_count": 108,
   "metadata": {},
   "outputs": [
    {
     "data": {
      "text/plain": [
       "{'visitNumber': '1',\n",
       " 'visitId': '1501510253',\n",
       " 'visitStartTime': '1501510253',\n",
       " 'date': '20170731',\n",
       " 'totals': {'visits': '1',\n",
       "  'hits': '1',\n",
       "  'pageviews': '1',\n",
       "  'bounces': '1',\n",
       "  'newVisits': '1',\n",
       "  'sessionQualityDim': '1'},\n",
       " 'trafficSource': {'campaign': '(not set)',\n",
       "  'source': 'google',\n",
       "  'medium': 'organic',\n",
       "  'keyword': '(not provided)',\n",
       "  'adwordsClickInfo': {'criteriaParameters': 'not available in demo dataset'}},\n",
       " 'device': {'browser': 'Chrome',\n",
       "  'browserVersion': 'not available in demo dataset',\n",
       "  'browserSize': 'not available in demo dataset',\n",
       "  'operatingSystem': 'Android',\n",
       "  'operatingSystemVersion': 'not available in demo dataset',\n",
       "  'isMobile': True,\n",
       "  'mobileDeviceBranding': 'not available in demo dataset',\n",
       "  'mobileDeviceModel': 'not available in demo dataset',\n",
       "  'mobileInputSelector': 'not available in demo dataset',\n",
       "  'mobileDeviceInfo': 'not available in demo dataset',\n",
       "  'mobileDeviceMarketingName': 'not available in demo dataset',\n",
       "  'flashVersion': 'not available in demo dataset',\n",
       "  'language': 'not available in demo dataset',\n",
       "  'screenColors': 'not available in demo dataset',\n",
       "  'screenResolution': 'not available in demo dataset',\n",
       "  'deviceCategory': 'mobile'},\n",
       " 'geoNetwork': {'continent': 'Europe',\n",
       "  'subContinent': 'Northern Europe',\n",
       "  'country': 'Ireland',\n",
       "  'region': 'County Dublin',\n",
       "  'metro': '(not set)',\n",
       "  'city': 'Dublin',\n",
       "  'cityId': 'not available in demo dataset',\n",
       "  'networkDomain': 'ntlworld.ie',\n",
       "  'latitude': 'not available in demo dataset',\n",
       "  'longitude': 'not available in demo dataset',\n",
       "  'networkLocation': 'not available in demo dataset'},\n",
       " 'customDimensions': [{'index': '4', 'value': 'EMEA'}],\n",
       " 'hits': [{'hitNumber': '1',\n",
       "   'time': '0',\n",
       "   'hour': '7',\n",
       "   'minute': '10',\n",
       "   'isInteraction': True,\n",
       "   'isEntrance': True,\n",
       "   'isExit': True,\n",
       "   'referer': 'http://www.google.ie/',\n",
       "   'page': {'pagePath': '/home',\n",
       "    'hostname': 'www.googlemerchandisestore.com',\n",
       "    'pageTitle': 'Google Online Store',\n",
       "    'pagePathLevel1': '/home',\n",
       "    'pagePathLevel2': '',\n",
       "    'pagePathLevel3': '',\n",
       "    'pagePathLevel4': ''},\n",
       "   'appInfo': {'screenName': 'www.googlemerchandisestore.com/home',\n",
       "    'landingScreenName': 'www.googlemerchandisestore.com/home',\n",
       "    'exitScreenName': 'www.googlemerchandisestore.com/home',\n",
       "    'screenDepth': '0'},\n",
       "   'exceptionInfo': {'isFatal': True},\n",
       "   'product': [],\n",
       "   'promotion': [],\n",
       "   'eCommerceAction': {'action_type': '0', 'step': '1'},\n",
       "   'experiment': [],\n",
       "   'customVariables': [],\n",
       "   'customDimensions': [],\n",
       "   'customMetrics': [],\n",
       "   'type': 'PAGE',\n",
       "   'social': {'socialNetwork': '(not set)',\n",
       "    'hasSocialSourceReferral': 'No',\n",
       "    'socialInteractionNetworkAction': ' : '},\n",
       "   'contentGroup': {'contentGroup1': '(not set)',\n",
       "    'contentGroup2': '(not set)',\n",
       "    'contentGroup3': '(not set)',\n",
       "    'contentGroup4': '(not set)',\n",
       "    'contentGroup5': '(not set)',\n",
       "    'previousContentGroup1': '(entrance)',\n",
       "    'previousContentGroup2': '(entrance)',\n",
       "    'previousContentGroup3': '(entrance)',\n",
       "    'previousContentGroup4': '(entrance)',\n",
       "    'previousContentGroup5': '(entrance)'},\n",
       "   'dataSource': 'web',\n",
       "   'publisher_infos': []}],\n",
       " 'fullVisitorId': '772642434569045776',\n",
       " 'channelGrouping': 'Organic Search',\n",
       " 'socialEngagementType': 'Not Socially Engaged'}"
      ]
     },
     "execution_count": 108,
     "metadata": {},
     "output_type": "execute_result"
    }
   ],
   "source": [
    "sessions[0]"
   ]
  },
  {
   "cell_type": "code",
   "execution_count": 123,
   "metadata": {},
   "outputs": [
    {
     "data": {
      "text/plain": [
       "'5192546309164649336'"
      ]
     },
     "execution_count": 123,
     "metadata": {},
     "output_type": "execute_result"
    }
   ],
   "source": [
    "sessions[1]['fullVisitorId']"
   ]
  },
  {
   "cell_type": "code",
   "execution_count": 110,
   "metadata": {},
   "outputs": [
    {
     "data": {
      "text/html": [
       "<div>\n",
       "<style scoped>\n",
       "    .dataframe tbody tr th:only-of-type {\n",
       "        vertical-align: middle;\n",
       "    }\n",
       "\n",
       "    .dataframe tbody tr th {\n",
       "        vertical-align: top;\n",
       "    }\n",
       "\n",
       "    .dataframe thead th {\n",
       "        text-align: right;\n",
       "    }\n",
       "</style>\n",
       "<table border=\"1\" class=\"dataframe\">\n",
       "  <thead>\n",
       "    <tr style=\"text-align: right;\">\n",
       "      <th></th>\n",
       "      <th>channelGrouping</th>\n",
       "      <th>customDimensions</th>\n",
       "      <th>date</th>\n",
       "      <th>device.browser</th>\n",
       "      <th>device.browserSize</th>\n",
       "      <th>device.browserVersion</th>\n",
       "      <th>device.deviceCategory</th>\n",
       "      <th>device.flashVersion</th>\n",
       "      <th>device.isMobile</th>\n",
       "      <th>device.language</th>\n",
       "      <th>...</th>\n",
       "      <th>totals.sessionQualityDim</th>\n",
       "      <th>totals.visits</th>\n",
       "      <th>trafficSource.adwordsClickInfo.criteriaParameters</th>\n",
       "      <th>trafficSource.campaign</th>\n",
       "      <th>trafficSource.keyword</th>\n",
       "      <th>trafficSource.medium</th>\n",
       "      <th>trafficSource.source</th>\n",
       "      <th>visitId</th>\n",
       "      <th>visitNumber</th>\n",
       "      <th>visitStartTime</th>\n",
       "    </tr>\n",
       "  </thead>\n",
       "  <tbody>\n",
       "    <tr>\n",
       "      <th>0</th>\n",
       "      <td>Organic Search</td>\n",
       "      <td>[{'index': '4', 'value': 'EMEA'}]</td>\n",
       "      <td>20170731</td>\n",
       "      <td>Chrome</td>\n",
       "      <td>not available in demo dataset</td>\n",
       "      <td>not available in demo dataset</td>\n",
       "      <td>mobile</td>\n",
       "      <td>not available in demo dataset</td>\n",
       "      <td>True</td>\n",
       "      <td>not available in demo dataset</td>\n",
       "      <td>...</td>\n",
       "      <td>1</td>\n",
       "      <td>1</td>\n",
       "      <td>not available in demo dataset</td>\n",
       "      <td>(not set)</td>\n",
       "      <td>(not provided)</td>\n",
       "      <td>organic</td>\n",
       "      <td>google</td>\n",
       "      <td>1501510253</td>\n",
       "      <td>1</td>\n",
       "      <td>1501510253</td>\n",
       "    </tr>\n",
       "  </tbody>\n",
       "</table>\n",
       "<p>1 rows × 47 columns</p>\n",
       "</div>"
      ],
      "text/plain": [
       "  channelGrouping                   customDimensions      date device.browser  \\\n",
       "0  Organic Search  [{'index': '4', 'value': 'EMEA'}]  20170731         Chrome   \n",
       "\n",
       "              device.browserSize          device.browserVersion  \\\n",
       "0  not available in demo dataset  not available in demo dataset   \n",
       "\n",
       "  device.deviceCategory            device.flashVersion  device.isMobile  \\\n",
       "0                mobile  not available in demo dataset             True   \n",
       "\n",
       "                 device.language  ... totals.sessionQualityDim totals.visits  \\\n",
       "0  not available in demo dataset  ...                        1             1   \n",
       "\n",
       "  trafficSource.adwordsClickInfo.criteriaParameters trafficSource.campaign  \\\n",
       "0                     not available in demo dataset              (not set)   \n",
       "\n",
       "  trafficSource.keyword trafficSource.medium trafficSource.source     visitId  \\\n",
       "0        (not provided)              organic               google  1501510253   \n",
       "\n",
       "  visitNumber visitStartTime  \n",
       "0           1     1501510253  \n",
       "\n",
       "[1 rows x 47 columns]"
      ]
     },
     "execution_count": 110,
     "metadata": {},
     "output_type": "execute_result"
    }
   ],
   "source": [
    "json_normalize(sessions[0])"
   ]
  },
  {
   "cell_type": "code",
   "execution_count": 111,
   "metadata": {
    "scrolled": true
   },
   "outputs": [],
   "source": [
    "df = json_normalize(sessions).drop(['customDimensions','hits'],axis='columns')"
   ]
  },
  {
   "cell_type": "code",
   "execution_count": 112,
   "metadata": {},
   "outputs": [
    {
     "data": {
      "text/html": [
       "<div>\n",
       "<style scoped>\n",
       "    .dataframe tbody tr th:only-of-type {\n",
       "        vertical-align: middle;\n",
       "    }\n",
       "\n",
       "    .dataframe tbody tr th {\n",
       "        vertical-align: top;\n",
       "    }\n",
       "\n",
       "    .dataframe thead th {\n",
       "        text-align: right;\n",
       "    }\n",
       "</style>\n",
       "<table border=\"1\" class=\"dataframe\">\n",
       "  <thead>\n",
       "    <tr style=\"text-align: right;\">\n",
       "      <th></th>\n",
       "      <th>channelGrouping</th>\n",
       "      <th>date</th>\n",
       "      <th>device.browser</th>\n",
       "      <th>device.browserSize</th>\n",
       "      <th>device.browserVersion</th>\n",
       "      <th>device.deviceCategory</th>\n",
       "      <th>device.flashVersion</th>\n",
       "      <th>device.isMobile</th>\n",
       "      <th>device.language</th>\n",
       "      <th>device.mobileDeviceBranding</th>\n",
       "      <th>...</th>\n",
       "      <th>trafficSource.adwordsClickInfo.slot</th>\n",
       "      <th>trafficSource.campaign</th>\n",
       "      <th>trafficSource.isTrueDirect</th>\n",
       "      <th>trafficSource.keyword</th>\n",
       "      <th>trafficSource.medium</th>\n",
       "      <th>trafficSource.referralPath</th>\n",
       "      <th>trafficSource.source</th>\n",
       "      <th>visitId</th>\n",
       "      <th>visitNumber</th>\n",
       "      <th>visitStartTime</th>\n",
       "    </tr>\n",
       "  </thead>\n",
       "  <tbody>\n",
       "    <tr>\n",
       "      <th>0</th>\n",
       "      <td>Organic Search</td>\n",
       "      <td>20170731</td>\n",
       "      <td>Chrome</td>\n",
       "      <td>not available in demo dataset</td>\n",
       "      <td>not available in demo dataset</td>\n",
       "      <td>mobile</td>\n",
       "      <td>not available in demo dataset</td>\n",
       "      <td>True</td>\n",
       "      <td>not available in demo dataset</td>\n",
       "      <td>not available in demo dataset</td>\n",
       "      <td>...</td>\n",
       "      <td>NaN</td>\n",
       "      <td>(not set)</td>\n",
       "      <td>NaN</td>\n",
       "      <td>(not provided)</td>\n",
       "      <td>organic</td>\n",
       "      <td>NaN</td>\n",
       "      <td>google</td>\n",
       "      <td>1501510253</td>\n",
       "      <td>1</td>\n",
       "      <td>1501510253</td>\n",
       "    </tr>\n",
       "    <tr>\n",
       "      <th>1</th>\n",
       "      <td>Organic Search</td>\n",
       "      <td>20170731</td>\n",
       "      <td>Internet Explorer</td>\n",
       "      <td>not available in demo dataset</td>\n",
       "      <td>not available in demo dataset</td>\n",
       "      <td>desktop</td>\n",
       "      <td>not available in demo dataset</td>\n",
       "      <td>False</td>\n",
       "      <td>not available in demo dataset</td>\n",
       "      <td>not available in demo dataset</td>\n",
       "      <td>...</td>\n",
       "      <td>NaN</td>\n",
       "      <td>(not set)</td>\n",
       "      <td>True</td>\n",
       "      <td>(not provided)</td>\n",
       "      <td>organic</td>\n",
       "      <td>NaN</td>\n",
       "      <td>google</td>\n",
       "      <td>1501510671</td>\n",
       "      <td>2</td>\n",
       "      <td>1501510671</td>\n",
       "    </tr>\n",
       "    <tr>\n",
       "      <th>2</th>\n",
       "      <td>Organic Search</td>\n",
       "      <td>20170731</td>\n",
       "      <td>Chrome</td>\n",
       "      <td>not available in demo dataset</td>\n",
       "      <td>not available in demo dataset</td>\n",
       "      <td>desktop</td>\n",
       "      <td>not available in demo dataset</td>\n",
       "      <td>False</td>\n",
       "      <td>not available in demo dataset</td>\n",
       "      <td>not available in demo dataset</td>\n",
       "      <td>...</td>\n",
       "      <td>NaN</td>\n",
       "      <td>(not set)</td>\n",
       "      <td>NaN</td>\n",
       "      <td>(not provided)</td>\n",
       "      <td>organic</td>\n",
       "      <td>NaN</td>\n",
       "      <td>google</td>\n",
       "      <td>1501521633</td>\n",
       "      <td>1</td>\n",
       "      <td>1501521633</td>\n",
       "    </tr>\n",
       "    <tr>\n",
       "      <th>3</th>\n",
       "      <td>Direct</td>\n",
       "      <td>20170731</td>\n",
       "      <td>Chrome</td>\n",
       "      <td>not available in demo dataset</td>\n",
       "      <td>not available in demo dataset</td>\n",
       "      <td>desktop</td>\n",
       "      <td>not available in demo dataset</td>\n",
       "      <td>False</td>\n",
       "      <td>not available in demo dataset</td>\n",
       "      <td>not available in demo dataset</td>\n",
       "      <td>...</td>\n",
       "      <td>NaN</td>\n",
       "      <td>(not set)</td>\n",
       "      <td>True</td>\n",
       "      <td>NaN</td>\n",
       "      <td>(none)</td>\n",
       "      <td>NaN</td>\n",
       "      <td>(direct)</td>\n",
       "      <td>1501504214</td>\n",
       "      <td>1</td>\n",
       "      <td>1501504214</td>\n",
       "    </tr>\n",
       "    <tr>\n",
       "      <th>4</th>\n",
       "      <td>Organic Search</td>\n",
       "      <td>20170731</td>\n",
       "      <td>Safari</td>\n",
       "      <td>not available in demo dataset</td>\n",
       "      <td>not available in demo dataset</td>\n",
       "      <td>desktop</td>\n",
       "      <td>not available in demo dataset</td>\n",
       "      <td>False</td>\n",
       "      <td>not available in demo dataset</td>\n",
       "      <td>not available in demo dataset</td>\n",
       "      <td>...</td>\n",
       "      <td>NaN</td>\n",
       "      <td>(not set)</td>\n",
       "      <td>NaN</td>\n",
       "      <td>(not provided)</td>\n",
       "      <td>organic</td>\n",
       "      <td>NaN</td>\n",
       "      <td>google</td>\n",
       "      <td>1501488776</td>\n",
       "      <td>1</td>\n",
       "      <td>1501488776</td>\n",
       "    </tr>\n",
       "  </tbody>\n",
       "</table>\n",
       "<p>5 rows × 57 columns</p>\n",
       "</div>"
      ],
      "text/plain": [
       "  channelGrouping      date     device.browser             device.browserSize  \\\n",
       "0  Organic Search  20170731             Chrome  not available in demo dataset   \n",
       "1  Organic Search  20170731  Internet Explorer  not available in demo dataset   \n",
       "2  Organic Search  20170731             Chrome  not available in demo dataset   \n",
       "3          Direct  20170731             Chrome  not available in demo dataset   \n",
       "4  Organic Search  20170731             Safari  not available in demo dataset   \n",
       "\n",
       "           device.browserVersion device.deviceCategory  \\\n",
       "0  not available in demo dataset                mobile   \n",
       "1  not available in demo dataset               desktop   \n",
       "2  not available in demo dataset               desktop   \n",
       "3  not available in demo dataset               desktop   \n",
       "4  not available in demo dataset               desktop   \n",
       "\n",
       "             device.flashVersion  device.isMobile  \\\n",
       "0  not available in demo dataset             True   \n",
       "1  not available in demo dataset            False   \n",
       "2  not available in demo dataset            False   \n",
       "3  not available in demo dataset            False   \n",
       "4  not available in demo dataset            False   \n",
       "\n",
       "                 device.language    device.mobileDeviceBranding  ...  \\\n",
       "0  not available in demo dataset  not available in demo dataset  ...   \n",
       "1  not available in demo dataset  not available in demo dataset  ...   \n",
       "2  not available in demo dataset  not available in demo dataset  ...   \n",
       "3  not available in demo dataset  not available in demo dataset  ...   \n",
       "4  not available in demo dataset  not available in demo dataset  ...   \n",
       "\n",
       "  trafficSource.adwordsClickInfo.slot trafficSource.campaign  \\\n",
       "0                                 NaN              (not set)   \n",
       "1                                 NaN              (not set)   \n",
       "2                                 NaN              (not set)   \n",
       "3                                 NaN              (not set)   \n",
       "4                                 NaN              (not set)   \n",
       "\n",
       "  trafficSource.isTrueDirect trafficSource.keyword trafficSource.medium  \\\n",
       "0                        NaN        (not provided)              organic   \n",
       "1                       True        (not provided)              organic   \n",
       "2                        NaN        (not provided)              organic   \n",
       "3                       True                   NaN               (none)   \n",
       "4                        NaN        (not provided)              organic   \n",
       "\n",
       "  trafficSource.referralPath trafficSource.source     visitId visitNumber  \\\n",
       "0                        NaN               google  1501510253           1   \n",
       "1                        NaN               google  1501510671           2   \n",
       "2                        NaN               google  1501521633           1   \n",
       "3                        NaN             (direct)  1501504214           1   \n",
       "4                        NaN               google  1501488776           1   \n",
       "\n",
       "  visitStartTime  \n",
       "0     1501510253  \n",
       "1     1501510671  \n",
       "2     1501521633  \n",
       "3     1501504214  \n",
       "4     1501488776  \n",
       "\n",
       "[5 rows x 57 columns]"
      ]
     },
     "execution_count": 112,
     "metadata": {},
     "output_type": "execute_result"
    }
   ],
   "source": [
    "df.head()"
   ]
  },
  {
   "cell_type": "code",
   "execution_count": 124,
   "metadata": {},
   "outputs": [
    {
     "name": "stdout",
     "output_type": "stream",
     "text": [
      "<class 'pandas.core.frame.DataFrame'>\n",
      "RangeIndex: 2620 entries, 0 to 2619\n",
      "Data columns (total 57 columns):\n",
      "channelGrouping                                      2620 non-null object\n",
      "date                                                 2620 non-null object\n",
      "device.browser                                       2620 non-null object\n",
      "device.browserSize                                   2620 non-null object\n",
      "device.browserVersion                                2620 non-null object\n",
      "device.deviceCategory                                2620 non-null object\n",
      "device.flashVersion                                  2620 non-null object\n",
      "device.isMobile                                      2620 non-null bool\n",
      "device.language                                      2620 non-null object\n",
      "device.mobileDeviceBranding                          2620 non-null object\n",
      "device.mobileDeviceInfo                              2620 non-null object\n",
      "device.mobileDeviceMarketingName                     2620 non-null object\n",
      "device.mobileDeviceModel                             2620 non-null object\n",
      "device.mobileInputSelector                           2620 non-null object\n",
      "device.operatingSystem                               2620 non-null object\n",
      "device.operatingSystemVersion                        2620 non-null object\n",
      "device.screenColors                                  2620 non-null object\n",
      "device.screenResolution                              2620 non-null object\n",
      "fullVisitorId                                        2620 non-null object\n",
      "geoNetwork.city                                      2620 non-null object\n",
      "geoNetwork.cityId                                    2620 non-null object\n",
      "geoNetwork.continent                                 2620 non-null object\n",
      "geoNetwork.country                                   2620 non-null object\n",
      "geoNetwork.latitude                                  2620 non-null object\n",
      "geoNetwork.longitude                                 2620 non-null object\n",
      "geoNetwork.metro                                     2620 non-null object\n",
      "geoNetwork.networkDomain                             2620 non-null object\n",
      "geoNetwork.networkLocation                           2620 non-null object\n",
      "geoNetwork.region                                    2620 non-null object\n",
      "geoNetwork.subContinent                              2620 non-null object\n",
      "socialEngagementType                                 2620 non-null object\n",
      "totals.bounces                                       1289 non-null object\n",
      "totals.hits                                          2620 non-null object\n",
      "totals.newVisits                                     1874 non-null object\n",
      "totals.pageviews                                     2619 non-null object\n",
      "totals.sessionQualityDim                             2620 non-null object\n",
      "totals.timeOnSite                                    1327 non-null object\n",
      "totals.totalTransactionRevenue                       61 non-null object\n",
      "totals.transactionRevenue                            61 non-null object\n",
      "totals.transactions                                  61 non-null object\n",
      "totals.visits                                        2620 non-null object\n",
      "trafficSource.adContent                              4 non-null object\n",
      "trafficSource.adwordsClickInfo.adNetworkType         70 non-null object\n",
      "trafficSource.adwordsClickInfo.criteriaParameters    2620 non-null object\n",
      "trafficSource.adwordsClickInfo.gclId                 70 non-null object\n",
      "trafficSource.adwordsClickInfo.isVideoAd             70 non-null object\n",
      "trafficSource.adwordsClickInfo.page                  70 non-null object\n",
      "trafficSource.adwordsClickInfo.slot                  70 non-null object\n",
      "trafficSource.campaign                               2620 non-null object\n",
      "trafficSource.isTrueDirect                           964 non-null object\n",
      "trafficSource.keyword                                1454 non-null object\n",
      "trafficSource.medium                                 2620 non-null object\n",
      "trafficSource.referralPath                           633 non-null object\n",
      "trafficSource.source                                 2620 non-null object\n",
      "visitId                                              2620 non-null object\n",
      "visitNumber                                          2620 non-null object\n",
      "visitStartTime                                       2620 non-null object\n",
      "dtypes: bool(1), object(56)\n",
      "memory usage: 1.1+ MB\n"
     ]
    }
   ],
   "source": [
    "df.info()"
   ]
  },
  {
   "cell_type": "markdown",
   "metadata": {},
   "source": [
    " # Запись файлов"
   ]
  },
  {
   "cell_type": "code",
   "execution_count": null,
   "metadata": {},
   "outputs": [],
   "source": [
    "df.to_csv('first_file.csv')"
   ]
  },
  {
   "cell_type": "code",
   "execution_count": 113,
   "metadata": {},
   "outputs": [
    {
     "name": "stderr",
     "output_type": "stream",
     "text": [
      "\"ls\" не является внутренней или внешней\n",
      "командой, исполняемой программой или пакетным файлом.\n"
     ]
    }
   ],
   "source": [
    "!ls"
   ]
  },
  {
   "cell_type": "code",
   "execution_count": null,
   "metadata": {},
   "outputs": [],
   "source": [
    "df.to_excel('first_file.xlsx')"
   ]
  },
  {
   "cell_type": "code",
   "execution_count": 116,
   "metadata": {},
   "outputs": [
    {
     "data": {
      "text/plain": [
       "<function nt.listdir(path=None)>"
      ]
     },
     "execution_count": 116,
     "metadata": {},
     "output_type": "execute_result"
    }
   ],
   "source": [
    "os.listdir"
   ]
  },
  {
   "cell_type": "markdown",
   "metadata": {},
   "source": [
    "The pickle module implements binary protocols for serializing and de-serializing a Python object structure. “Pickling” is the process whereby a Python object hierarchy is converted into a byte stream, and “unpickling” is the inverse operation, whereby a byte stream (from a binary file or bytes-like object) is converted back into an object hierarchy. Pickling (and unpickling) is alternatively known as “serialization”, “marshalling,” [1] or “flattening”; however, to avoid confusion, the terms used here are “pickling” and “unpickling”."
   ]
  },
  {
   "cell_type": "code",
   "execution_count": 117,
   "metadata": {},
   "outputs": [],
   "source": [
    "with open('df.pickle', 'wb') as handler:\n",
    "    pickle.dump(df, handler)"
   ]
  },
  {
   "cell_type": "code",
   "execution_count": null,
   "metadata": {},
   "outputs": [],
   "source": [
    "!ls"
   ]
  },
  {
   "cell_type": "code",
   "execution_count": 118,
   "metadata": {},
   "outputs": [],
   "source": [
    "with open('df.pickle', 'rb') as handler:\n",
    "    df_loaded = pickle.load(handler)"
   ]
  },
  {
   "cell_type": "code",
   "execution_count": 119,
   "metadata": {},
   "outputs": [
    {
     "data": {
      "text/plain": [
       "True"
      ]
     },
     "execution_count": 119,
     "metadata": {},
     "output_type": "execute_result"
    }
   ],
   "source": [
    "# чекаем одинаковые ли они или нет\n",
    "df.equals(df_loaded)"
   ]
  },
  {
   "cell_type": "code",
   "execution_count": null,
   "metadata": {},
   "outputs": [],
   "source": []
  }
 ],
 "metadata": {
  "kernelspec": {
   "display_name": "Python 3",
   "language": "python",
   "name": "python3"
  },
  "language_info": {
   "codemirror_mode": {
    "name": "ipython",
    "version": 3
   },
   "file_extension": ".py",
   "mimetype": "text/x-python",
   "name": "python",
   "nbconvert_exporter": "python",
   "pygments_lexer": "ipython3",
   "version": "3.7.3"
  }
 },
 "nbformat": 4,
 "nbformat_minor": 2
}
