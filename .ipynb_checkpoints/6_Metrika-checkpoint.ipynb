{
 "cells": [
  {
   "cell_type": "code",
   "execution_count": 1,
   "metadata": {},
   "outputs": [],
   "source": [
    "import requests\n",
    "import sys"
   ]
  },
  {
   "cell_type": "code",
   "execution_count": 9,
   "metadata": {},
   "outputs": [
    {
     "name": "stdout",
     "output_type": "stream",
     "text": [
      "total Count_1 ['1095119.0']\n",
      "total Count_2 ['32677.0']\n",
      "total Count_3 ['6853.0']\n"
     ]
    }
   ],
   "source": [
    "ids = {\n",
    "\n",
    "    'Count_1': 34714790,\n",
    "    'Count_2': 11456137,\n",
    "    'Count_3': 22765705,\n",
    "}\n",
    "\n",
    "\n",
    "payload = {\n",
    "    'metrics': 'ym:s:visits',\n",
    "    'date1': '2018-09-01',\n",
    "    'date2': '2018-11-30',\n",
    "    'ids': 49948510,\n",
    "    'accuracy': 'full',\n",
    "    'pretty': True,\n",
    "    'oauth_token': 'AgAAAAAiIIS0AAXYRojVKKCyhUTLhPmjj5dzV0k'\n",
    "}\n",
    "\n",
    "i = 1\n",
    "for key, value in ids.items():\n",
    "    payload['ids'] = value\n",
    "    r = requests.get('https://api-metrika.yandex.ru/stat/v1/data', params=payload)\n",
    "    data = str(r.json()['max'])[1:-1].split(\",\")\n",
    "    i += 1\n",
    "    payload['ids'] = value\n",
    "    print('total', key, data)\n",
    "\n"
   ]
  },
  {
   "cell_type": "markdown",
   "metadata": {},
   "source": [
    "# book1"
   ]
  },
  {
   "cell_type": "code",
   "execution_count": 10,
   "metadata": {},
   "outputs": [
    {
     "name": "stdout",
     "output_type": "stream",
     "text": [
      "total Count_1 ['643855.0', ' 3180.0']\n",
      "total Count_2 ['195617.0', ' 22210.0']\n",
      "total Count_3 ['82184.0', ' 3294.0']\n"
     ]
    }
   ],
   "source": [
    "#import requests\n",
    "#import sys\n",
    "\n",
    "\n",
    "ids = {\n",
    "    \n",
    "    'Count_1': 34714790,\n",
    "    'Count_2': 11456137,\n",
    "    'Count_3': 22765705,\n",
    "}\n",
    "\n",
    "\n",
    "payload = {\n",
    "    'metrics': 'ym:s:pageviews, ym:s:users',\n",
    "    'date1': '2018-09-01',\n",
    "    'date2': '2018-11-30',\n",
    "    'filters': \"ym:s:deviceCategory!='mobile'\",\n",
    "    'ids': 49948510,\n",
    "    'accuracy': 'full',\n",
    "    'pretty': True,\n",
    "    'oauth_token': 'AgAAAAAiIIS0AAXYRojVKKCyhUTLhPmjj5dzV0k'\n",
    "}\n",
    "\n",
    "i = 1\n",
    "for key, value in ids.items():\n",
    "    payload['ids'] = value\n",
    "    r = requests.get('https://api-metrika.yandex.ru/stat/v1/data', params=payload)\n",
    "    data = str(r.json()['max'])[1:-1].split(\",\")\n",
    "    i += 1\n",
    "    payload['ids'] = value\n",
    "    print('total', key, data)\n",
    "\n",
    "\n"
   ]
  },
  {
   "cell_type": "code",
   "execution_count": 12,
   "metadata": {},
   "outputs": [
    {
     "name": "stdout",
     "output_type": "stream",
     "text": [
      "Счетчик Count_1 ['643855.0', ' 3180.0', ' 14303.0']\n",
      "Счетчик Count_2 ['195617.0', ' 22210.0', ' 26393.0']\n",
      "Счетчик Count_3 ['82184.0', ' 3294.0', ' 5734.0']\n"
     ]
    }
   ],
   "source": [
    "import requests\n",
    "import xlsxwriter\n",
    "\n",
    "\n",
    "workbook = xlsxwriter.Workbook('../SBox/File.xlsx')\n",
    "worksheet = workbook.add_worksheet()\n",
    "bold = workbook.add_format({'bold': True})\n",
    "worksheet.write(0, 0, 'Название счетчика', bold)\n",
    "worksheet.write(0, 1, 'Номер счетчика', bold)\n",
    "worksheet.write(0, 2, 'Pageviews', bold)\n",
    "worksheet.write(0, 3, 'Users', bold)\n",
    "worksheet.write(0, 4, 'Visits', bold)\n",
    "\n",
    "\n",
    "ids = {\n",
    "    \n",
    "    'Count_1': 34714790,\n",
    "    'Count_2': 11456137,\n",
    "    'Count_3': 22765705,\n",
    "}\n",
    "\n",
    "payload = {\n",
    "    'metrics': 'ym:s:pageviews, ym:s:users, ym:s:visits',\n",
    "    'date1': '2018-09-01',\n",
    "    'date2': '2018-11-30',\n",
    "    'filters': \"ym:s:deviceCategory!='mobile'\",\n",
    "    'ids': 49948510,\n",
    "    'accuracy': 'high',\n",
    "    'limit': 10000,\n",
    "    'pretty': True,\n",
    "    'oauth_token':'AgAAAAAiIIS0AAXYRojVKKCyhUTLhPmjj5dzV0k'\n",
    "}\n",
    "\n",
    "i = 1\n",
    "for key, value in ids.items():\n",
    "    payload['ids'] = value\n",
    "    r = requests.get('https://api-metrika.yandex.ru/stat/v1/data', params=payload)\n",
    "    worksheet.write(i, 0, key)\n",
    "    worksheet.write(i, 1, str(payload['ids']))\n",
    "    data = str(r.json()['max'])[1:-1].split(\",\")\n",
    "    worksheet.write(i, 2, data[0])\n",
    "    worksheet.write(i, 3, data[1])\n",
    "    worksheet.write(i, 4, data[2])\n",
    "    i += 1\n",
    "    payload['ids'] = value\n",
    "    print('Счетчик', key, data)\n",
    "\n",
    "\n",
    "workbook.close()\n"
   ]
  },
  {
   "cell_type": "code",
   "execution_count": null,
   "metadata": {},
   "outputs": [],
   "source": []
  },
  {
   "cell_type": "code",
   "execution_count": null,
   "metadata": {},
   "outputs": [],
   "source": []
  }
 ],
 "metadata": {
  "kernelspec": {
   "display_name": "Python 3",
   "language": "python",
   "name": "python3"
  },
  "language_info": {
   "codemirror_mode": {
    "name": "ipython",
    "version": 3
   },
   "file_extension": ".py",
   "mimetype": "text/x-python",
   "name": "python",
   "nbconvert_exporter": "python",
   "pygments_lexer": "ipython3",
   "version": "3.7.3"
  }
 },
 "nbformat": 4,
 "nbformat_minor": 2
}
