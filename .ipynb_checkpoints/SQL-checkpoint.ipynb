{
 "cells": [
  {
   "cell_type": "code",
   "execution_count": 1,
   "metadata": {},
   "outputs": [],
   "source": [
    "import pymysql\n",
    "import pandas as pd\n",
    "import pickle\n",
    "from sqlalchemy import create_engine\n",
    "import pymssql"
   ]
  },
  {
   "cell_type": "code",
   "execution_count": 2,
   "metadata": {},
   "outputs": [],
   "source": [
    "passwd = 'Ss8672!'"
   ]
  },
  {
   "cell_type": "code",
   "execution_count": 3,
   "metadata": {},
   "outputs": [],
   "source": [
    "connection = pymssql.connect(host = r'sqlbase',\n",
    "                             user = r'NEARMEDIC\\Ssmykov',\n",
    "                             password = passwd,\n",
    "                             database = 'KPI')"
   ]
  },
  {
   "cell_type": "code",
   "execution_count": 4,
   "metadata": {},
   "outputs": [
    {
     "data": {
      "text/plain": [
       "<pymssql.Connection at 0x26095abb388>"
      ]
     },
     "execution_count": 4,
     "metadata": {},
     "output_type": "execute_result"
    }
   ],
   "source": [
    "connection"
   ]
  },
  {
   "cell_type": "code",
   "execution_count": 5,
   "metadata": {},
   "outputs": [],
   "source": [
    "cursor = connection.cursor()\n",
    "\n",
    "query = 'SELECT * FROM [KPI].[dbo].[Activity2019]'\n",
    "\n",
    "cursor.execute(query)"
   ]
  },
  {
   "cell_type": "code",
   "execution_count": null,
   "metadata": {},
   "outputs": [],
   "source": []
  },
  {
   "cell_type": "code",
   "execution_count": 6,
   "metadata": {},
   "outputs": [],
   "source": [
    "table1 = pd.read_sql_query('SELECT * FROM [KPI].[dbo].[Activity2019]', connection)"
   ]
  },
  {
   "cell_type": "code",
   "execution_count": 7,
   "metadata": {},
   "outputs": [],
   "source": [
    "connection.close()"
   ]
  },
  {
   "cell_type": "code",
   "execution_count": 8,
   "metadata": {},
   "outputs": [
    {
     "data": {
      "text/html": [
       "<div>\n",
       "<style scoped>\n",
       "    .dataframe tbody tr th:only-of-type {\n",
       "        vertical-align: middle;\n",
       "    }\n",
       "\n",
       "    .dataframe tbody tr th {\n",
       "        vertical-align: top;\n",
       "    }\n",
       "\n",
       "    .dataframe thead th {\n",
       "        text-align: right;\n",
       "    }\n",
       "</style>\n",
       "<table border=\"1\" class=\"dataframe\">\n",
       "  <thead>\n",
       "    <tr style=\"text-align: right;\">\n",
       "      <th></th>\n",
       "      <th>ID</th>\n",
       "      <th>Title</th>\n",
       "      <th>Category</th>\n",
       "      <th>CategoryId</th>\n",
       "      <th>Year</th>\n",
       "      <th>SalePlanQuarter</th>\n",
       "      <th>Duration(Day)</th>\n",
       "      <th>StartDate</th>\n",
       "      <th>DueDate</th>\n",
       "      <th>MedicalRepresentative</th>\n",
       "      <th>USRID</th>\n",
       "      <th>Doctor</th>\n",
       "      <th>DoctorID</th>\n",
       "      <th>DoctorSpecialty</th>\n",
       "      <th>DoctorRequired</th>\n",
       "      <th>Account</th>\n",
       "      <th>AccountID</th>\n",
       "      <th>AccountAddress</th>\n",
       "      <th>AccountRequired</th>\n",
       "    </tr>\n",
       "  </thead>\n",
       "  <tbody>\n",
       "    <tr>\n",
       "      <th>0</th>\n",
       "      <td>319680</td>\n",
       "      <td>Визит в аптеку: ГорЗдрав, Россия, Москва, 3-я ...</td>\n",
       "      <td>Визит в аптеку</td>\n",
       "      <td>8b16d130-313e-4b12-a12e-73a2dd8d33cf</td>\n",
       "      <td>2019</td>\n",
       "      <td>1</td>\n",
       "      <td>1.0</td>\n",
       "      <td>2019-01-24 12:25:00.0000000</td>\n",
       "      <td>2019-01-24 12:45:00.0000000</td>\n",
       "      <td>Колесников Вячеслав Юрьевич</td>\n",
       "      <td>1561432148</td>\n",
       "      <td>None</td>\n",
       "      <td>None</td>\n",
       "      <td>None</td>\n",
       "      <td>NaN</td>\n",
       "      <td>ГорЗдрав</td>\n",
       "      <td>1F4A6332-202A-469B-A32F-A1C918AA2B4B          ...</td>\n",
       "      <td>Россия, Москва, 3-я Владимирская улица, 4     ...</td>\n",
       "      <td>1.0</td>\n",
       "    </tr>\n",
       "    <tr>\n",
       "      <th>1</th>\n",
       "      <td>319681</td>\n",
       "      <td>Визит в аптеку: Аптека Столички, Россия, Костр...</td>\n",
       "      <td>Визит в аптеку</td>\n",
       "      <td>8b16d130-313e-4b12-a12e-73a2dd8d33cf</td>\n",
       "      <td>2019</td>\n",
       "      <td>1</td>\n",
       "      <td>1.0</td>\n",
       "      <td>2019-03-21 11:30:00.0000000</td>\n",
       "      <td>2019-03-21 12:00:00.0000000</td>\n",
       "      <td>Филимонова Ольга Николаевна</td>\n",
       "      <td>f1718659213</td>\n",
       "      <td>Чайковская Надежда Анатольевна</td>\n",
       "      <td>CA5C0CBA-131D-4C82-9FA3-767D4BC33088          ...</td>\n",
       "      <td>None</td>\n",
       "      <td>1.0</td>\n",
       "      <td>Аптека Столички</td>\n",
       "      <td>B995795D-322A-465A-8649-033F97FD9652          ...</td>\n",
       "      <td>Россия, Кострома, улица Свердлова, 78         ...</td>\n",
       "      <td>1.0</td>\n",
       "    </tr>\n",
       "    <tr>\n",
       "      <th>2</th>\n",
       "      <td>319682</td>\n",
       "      <td>Визит в аптеку: АС Вита лайн, Россия, Самара, ...</td>\n",
       "      <td>Визит в аптеку</td>\n",
       "      <td>8b16d130-313e-4b12-a12e-73a2dd8d33cf</td>\n",
       "      <td>2019</td>\n",
       "      <td>1</td>\n",
       "      <td>1.0</td>\n",
       "      <td>2019-03-18 06:00:00.0000000</td>\n",
       "      <td>2019-03-18 06:30:00.0000000</td>\n",
       "      <td>Стукалова Татьяна Петровна</td>\n",
       "      <td>753096365</td>\n",
       "      <td>None</td>\n",
       "      <td>None</td>\n",
       "      <td>None</td>\n",
       "      <td>NaN</td>\n",
       "      <td>АС Вита лайн</td>\n",
       "      <td>8FFC01E4-AF11-45AB-95EC-3851E58FDB1A          ...</td>\n",
       "      <td>Россия, Самара, улица Аминева, 8Б             ...</td>\n",
       "      <td>0.0</td>\n",
       "    </tr>\n",
       "    <tr>\n",
       "      <th>3</th>\n",
       "      <td>319683</td>\n",
       "      <td>Визит в аптеку: Столички, Ткацкая ул., 43</td>\n",
       "      <td>Визит в аптеку</td>\n",
       "      <td>8b16d130-313e-4b12-a12e-73a2dd8d33cf</td>\n",
       "      <td>2019</td>\n",
       "      <td>1</td>\n",
       "      <td>1.0</td>\n",
       "      <td>2019-02-04 12:50:00.0000000</td>\n",
       "      <td>2019-02-04 13:15:00.0000000</td>\n",
       "      <td>Колесников Вячеслав Юрьевич</td>\n",
       "      <td>1561432148</td>\n",
       "      <td>None</td>\n",
       "      <td>None</td>\n",
       "      <td>None</td>\n",
       "      <td>NaN</td>\n",
       "      <td>Столички</td>\n",
       "      <td>6DBC0FB3-084C-4E5B-B00A-29FD55CE8CC8          ...</td>\n",
       "      <td>Россия, Москва, Ткацкая улица, 43             ...</td>\n",
       "      <td>1.0</td>\n",
       "    </tr>\n",
       "    <tr>\n",
       "      <th>4</th>\n",
       "      <td>319684</td>\n",
       "      <td>Визит в аптеку: Трика, Россия, Москва, улица Ю...</td>\n",
       "      <td>Визит в аптеку</td>\n",
       "      <td>8b16d130-313e-4b12-a12e-73a2dd8d33cf</td>\n",
       "      <td>2019</td>\n",
       "      <td>1</td>\n",
       "      <td>1.0</td>\n",
       "      <td>2019-02-08 09:30:00.0000000</td>\n",
       "      <td>2019-02-08 10:00:00.0000000</td>\n",
       "      <td>Никиточкин Роман Александрович</td>\n",
       "      <td>f61739299</td>\n",
       "      <td>None</td>\n",
       "      <td>None</td>\n",
       "      <td>None</td>\n",
       "      <td>NaN</td>\n",
       "      <td>Трика</td>\n",
       "      <td>44995D63-397D-4507-84EB-25328BAB3C8E          ...</td>\n",
       "      <td>Россия, Москва, улица Юных Ленинцев, 87с2     ...</td>\n",
       "      <td>0.0</td>\n",
       "    </tr>\n",
       "  </tbody>\n",
       "</table>\n",
       "</div>"
      ],
      "text/plain": [
       "       ID                                              Title        Category  \\\n",
       "0  319680  Визит в аптеку: ГорЗдрав, Россия, Москва, 3-я ...  Визит в аптеку   \n",
       "1  319681  Визит в аптеку: Аптека Столички, Россия, Костр...  Визит в аптеку   \n",
       "2  319682  Визит в аптеку: АС Вита лайн, Россия, Самара, ...  Визит в аптеку   \n",
       "3  319683          Визит в аптеку: Столички, Ткацкая ул., 43  Визит в аптеку   \n",
       "4  319684  Визит в аптеку: Трика, Россия, Москва, улица Ю...  Визит в аптеку   \n",
       "\n",
       "                             CategoryId  Year  SalePlanQuarter  Duration(Day)  \\\n",
       "0  8b16d130-313e-4b12-a12e-73a2dd8d33cf  2019                1            1.0   \n",
       "1  8b16d130-313e-4b12-a12e-73a2dd8d33cf  2019                1            1.0   \n",
       "2  8b16d130-313e-4b12-a12e-73a2dd8d33cf  2019                1            1.0   \n",
       "3  8b16d130-313e-4b12-a12e-73a2dd8d33cf  2019                1            1.0   \n",
       "4  8b16d130-313e-4b12-a12e-73a2dd8d33cf  2019                1            1.0   \n",
       "\n",
       "                     StartDate                      DueDate  \\\n",
       "0  2019-01-24 12:25:00.0000000  2019-01-24 12:45:00.0000000   \n",
       "1  2019-03-21 11:30:00.0000000  2019-03-21 12:00:00.0000000   \n",
       "2  2019-03-18 06:00:00.0000000  2019-03-18 06:30:00.0000000   \n",
       "3  2019-02-04 12:50:00.0000000  2019-02-04 13:15:00.0000000   \n",
       "4  2019-02-08 09:30:00.0000000  2019-02-08 10:00:00.0000000   \n",
       "\n",
       "            MedicalRepresentative        USRID  \\\n",
       "0     Колесников Вячеслав Юрьевич   1561432148   \n",
       "1     Филимонова Ольга Николаевна  f1718659213   \n",
       "2      Стукалова Татьяна Петровна    753096365   \n",
       "3     Колесников Вячеслав Юрьевич   1561432148   \n",
       "4  Никиточкин Роман Александрович    f61739299   \n",
       "\n",
       "                           Doctor  \\\n",
       "0                            None   \n",
       "1  Чайковская Надежда Анатольевна   \n",
       "2                            None   \n",
       "3                            None   \n",
       "4                            None   \n",
       "\n",
       "                                            DoctorID DoctorSpecialty  \\\n",
       "0                                               None            None   \n",
       "1  CA5C0CBA-131D-4C82-9FA3-767D4BC33088          ...            None   \n",
       "2                                               None            None   \n",
       "3                                               None            None   \n",
       "4                                               None            None   \n",
       "\n",
       "   DoctorRequired          Account  \\\n",
       "0             NaN         ГорЗдрав   \n",
       "1             1.0  Аптека Столички   \n",
       "2             NaN     АС Вита лайн   \n",
       "3             NaN         Столички   \n",
       "4             NaN            Трика   \n",
       "\n",
       "                                           AccountID  \\\n",
       "0  1F4A6332-202A-469B-A32F-A1C918AA2B4B          ...   \n",
       "1  B995795D-322A-465A-8649-033F97FD9652          ...   \n",
       "2  8FFC01E4-AF11-45AB-95EC-3851E58FDB1A          ...   \n",
       "3  6DBC0FB3-084C-4E5B-B00A-29FD55CE8CC8          ...   \n",
       "4  44995D63-397D-4507-84EB-25328BAB3C8E          ...   \n",
       "\n",
       "                                      AccountAddress  AccountRequired  \n",
       "0  Россия, Москва, 3-я Владимирская улица, 4     ...              1.0  \n",
       "1  Россия, Кострома, улица Свердлова, 78         ...              1.0  \n",
       "2  Россия, Самара, улица Аминева, 8Б             ...              0.0  \n",
       "3  Россия, Москва, Ткацкая улица, 43             ...              1.0  \n",
       "4  Россия, Москва, улица Юных Ленинцев, 87с2     ...              0.0  "
      ]
     },
     "execution_count": 8,
     "metadata": {},
     "output_type": "execute_result"
    }
   ],
   "source": [
    "table1.head()"
   ]
  },
  {
   "cell_type": "code",
   "execution_count": 10,
   "metadata": {},
   "outputs": [],
   "source": [
    "#table1.info()"
   ]
  },
  {
   "cell_type": "code",
   "execution_count": 12,
   "metadata": {},
   "outputs": [
    {
     "data": {
      "text/plain": [
       "array(['Визит в аптеку', 'Административная работа', 'Фармкружок',\n",
       "       'Круглый стол', 'Выполнить', 'Время в командировке', 'Совещание',\n",
       "       'Визит к дистрибьютору', 'Презентация', 'Тренинг', 'Визит к врачу',\n",
       "       'Конференция', 'Больничный', 'Отпуск', 'Презентация по продаже',\n",
       "       'Официальная встреча с клиентами', 'Визит к лидеру мнения',\n",
       "       'Визит в офис аптечной сети', 'Официальный обед',\n",
       "       'Задача по продаже', 'Визит в администрацию', 'С уведомлением',\n",
       "       'Согласование официальной встречи с клиентом',\n",
       "       'С уведомлением (Тройной визит)',\n",
       "       'Согласование официального обеда', 'Слепой визит'], dtype=object)"
      ]
     },
     "execution_count": 12,
     "metadata": {},
     "output_type": "execute_result"
    }
   ],
   "source": [
    "table1['Category'].unique()"
   ]
  },
  {
   "cell_type": "code",
   "execution_count": null,
   "metadata": {},
   "outputs": [],
   "source": []
  },
  {
   "cell_type": "code",
   "execution_count": null,
   "metadata": {},
   "outputs": [],
   "source": []
  },
  {
   "cell_type": "code",
   "execution_count": null,
   "metadata": {},
   "outputs": [],
   "source": []
  },
  {
   "cell_type": "code",
   "execution_count": null,
   "metadata": {},
   "outputs": [],
   "source": []
  },
  {
   "cell_type": "code",
   "execution_count": null,
   "metadata": {},
   "outputs": [],
   "source": []
  },
  {
   "cell_type": "code",
   "execution_count": null,
   "metadata": {},
   "outputs": [],
   "source": []
  }
 ],
 "metadata": {
  "kernelspec": {
   "display_name": "Python 3",
   "language": "python",
   "name": "python3"
  },
  "language_info": {
   "codemirror_mode": {
    "name": "ipython",
    "version": 3
   },
   "file_extension": ".py",
   "mimetype": "text/x-python",
   "name": "python",
   "nbconvert_exporter": "python",
   "pygments_lexer": "ipython3",
   "version": "3.7.3"
  }
 },
 "nbformat": 4,
 "nbformat_minor": 2
}
