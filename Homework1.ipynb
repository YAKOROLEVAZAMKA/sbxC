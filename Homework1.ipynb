{
 "cells": [
  {
   "cell_type": "code",
   "execution_count": null,
   "metadata": {},
   "outputs": [],
   "source": [
    "1) Загрузите файл mate.txt из папки data."
   ]
  },
  {
   "cell_type": "code",
   "execution_count": 1,
   "metadata": {},
   "outputs": [
    {
     "name": "stdout",
     "output_type": "stream",
     "text": [
      "asda\n",
      "\n",
      "123123\n",
      "\n",
      "dasfsd\n",
      "\n",
      "cx\n",
      "\n",
      "2333\n",
      "\n",
      "ewfew3\n"
     ]
    }
   ],
   "source": [
    "#path = '../SBox/'\n",
    "path = '../Data/'\n",
    "#file = open(path+'123.txt', mode='r')\n",
    "file = open(path+'mate.txt', mode='r')\n",
    "for line in file:\n",
    "    print(line)\n",
    "file.close()"
   ]
  },
  {
   "cell_type": "code",
   "execution_count": null,
   "metadata": {},
   "outputs": [],
   "source": [
    "2) Создайте список из 10 имен (с разными длинами очевидно) отсортируйте по убываю длины имени."
   ]
  },
  {
   "cell_type": "code",
   "execution_count": 5,
   "metadata": {},
   "outputs": [
    {
     "data": {
      "text/plain": [
       "['Александра',\n",
       " 'Анастасия',\n",
       " 'Арабелла',\n",
       " 'Альфреа',\n",
       " 'Анфиса',\n",
       " 'Сережа',\n",
       " 'Алина',\n",
       " 'Саша',\n",
       " 'Вася',\n",
       " 'Аня']"
      ]
     },
     "execution_count": 5,
     "metadata": {},
     "output_type": "execute_result"
    }
   ],
   "source": [
    "name_list = ['Аня', 'Саша', 'Алина', 'Анфиса', 'Альфреа', 'Арабелла', 'Анастасия', 'Александра', 'Вася', 'Сережа']\n",
    "name_list.sort(key=lambda x: len(x), reverse=True)\n",
    "name_list"
   ]
  },
  {
   "cell_type": "code",
   "execution_count": null,
   "metadata": {},
   "outputs": [],
   "source": [
    "3) Выведите список из 100 чисел через запятую. Циклами пользоваться нельзя."
   ]
  },
  {
   "cell_type": "code",
   "execution_count": 8,
   "metadata": {},
   "outputs": [],
   "source": [
    "new_list = []\n",
    "new_list = range(1, 101, 1)\n",
    "list_100 = list(new_list)\n",
    "#list_100"
   ]
  },
  {
   "cell_type": "code",
   "execution_count": null,
   "metadata": {},
   "outputs": [],
   "source": [
    "4) Напишите цикл для того чтобы убрать цифры из строки \"Skillbox курс 2018\""
   ]
  },
  {
   "cell_type": "code",
   "execution_count": 12,
   "metadata": {},
   "outputs": [
    {
     "name": "stdout",
     "output_type": "stream",
     "text": [
      "Skillbox курс \n"
     ]
    }
   ],
   "source": [
    "sbox = 'Skillbox курс 2018'\n",
    "sbox2 = ''\n",
    "for i in range(len(sbox)):\n",
    "    if sbox[i].isdigit() == True:\n",
    "        pass\n",
    "    else:\n",
    "        sbox2 += sbox[i]\n",
    "print(sbox2)"
   ]
  },
  {
   "cell_type": "code",
   "execution_count": null,
   "metadata": {},
   "outputs": [],
   "source": [
    "5) Уберите цифры из строки из задания 4 с помощью .join() и используйте list comprehension"
   ]
  },
  {
   "cell_type": "code",
   "execution_count": 19,
   "metadata": {},
   "outputs": [
    {
     "name": "stdout",
     "output_type": "stream",
     "text": [
      "Skillbox курс \n"
     ]
    }
   ],
   "source": [
    "sbox5 = 'Skillbox курс 2018'\n",
    "digits = ['1', '2', '3', '4', '5', '6', '7', '8', '9', '0']\n",
    "sbox5_2 = ''.join([s for s in sbox5 if not s in digits])\n",
    "print(sbox5_2)"
   ]
  },
  {
   "cell_type": "code",
   "execution_count": null,
   "metadata": {},
   "outputs": [],
   "source": []
  }
 ],
 "metadata": {
  "kernelspec": {
   "display_name": "Python 3",
   "language": "python",
   "name": "python3"
  },
  "language_info": {
   "codemirror_mode": {
    "name": "ipython",
    "version": 3
   },
   "file_extension": ".py",
   "mimetype": "text/x-python",
   "name": "python",
   "nbconvert_exporter": "python",
   "pygments_lexer": "ipython3",
   "version": "3.7.3"
  }
 },
 "nbformat": 4,
 "nbformat_minor": 2
}
