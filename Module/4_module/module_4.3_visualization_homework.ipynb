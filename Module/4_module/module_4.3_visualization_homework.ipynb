{
 "cells": [
  {
   "cell_type": "markdown",
   "metadata": {},
   "source": [
    "<center>\n",
    "<img src=\"https://cdn.megabonus.com/images/shop_logo/skillbox.png\"/> \n",
    "    \n",
    "# Курс аналитик данных на Python\n",
    "## Модуль 4.1. Домашнее задание Matplotlib и Seaborn."
   ]
  },
  {
   "cell_type": "code",
   "execution_count": null,
   "metadata": {},
   "outputs": [],
   "source": [
    "import numpy as np\n",
    "import pandas as pd\n",
    "import matplotlib.pyplot as plt\n",
    "import seaborn as sns"
   ]
  },
  {
   "cell_type": "markdown",
   "metadata": {},
   "source": [
    "<center>Используем классический датасет для тренировки с табличными данными и визуализацией - данные о пассажирах лайнера \"Титаник\".<br>\n",
    "\n",
    "<center>\n",
    "<img src=\"https://cdn2.img.ria.ru/images/47158/02/471580281.jpg\" width=800/> "
   ]
  },
  {
   "cell_type": "markdown",
   "metadata": {},
   "source": [
    "Для начала нам нужно скачать наш датасет с которым мы будем работать. <br>\n",
    "Не забудьте обновить папку `data` или [скачать](https://www.kaggle.com/c/titanic/download/train.csv). "
   ]
  },
  {
   "cell_type": "code",
   "execution_count": null,
   "metadata": {},
   "outputs": [],
   "source": [
    "titanic = pd.read_csv('../data/titanic.csv')\n",
    "titanic.set_index('PassengerId', inplace=True)"
   ]
  },
  {
   "cell_type": "markdown",
   "metadata": {},
   "source": [
    "Перед нами датасет с пассажирами лайнера Титаник с различными характеристиками, например имя/пол/возраст/класс которым они путешествовали, билет и его цена и тд. А так же присутствует разметка (поле `survived`) - выжил ли человек в катастрофе или нет.<br>\n",
    "\n",
    "Взглянем на первые 5 строк."
   ]
  },
  {
   "cell_type": "code",
   "execution_count": null,
   "metadata": {},
   "outputs": [],
   "source": [
    "titanic.head()"
   ]
  },
  {
   "cell_type": "markdown",
   "metadata": {},
   "source": [
    "В домашней работе есть вопросы на теоритическую часть, которую мы покрыли в лекции и задания на визуализацию.<br>\n",
    "Используйте графики в заданиях где это нужно, по возможности, а не таблицы pandas, чтобы потренироватсья именно в визуализации."
   ]
  },
  {
   "cell_type": "markdown",
   "metadata": {},
   "source": [
    "**1.** Какие признаки из нижеперечисленных являются _категорийными_?"
   ]
  },
  {
   "cell_type": "markdown",
   "metadata": {},
   "source": [
    "* Sex \n",
    "* Age\n",
    "* Embarked \n",
    "* Pclass"
   ]
  },
  {
   "cell_type": "markdown",
   "metadata": {},
   "source": [
    "**2.** Какие признаки из нижеперечисленных являются _непрерывной величиной_?"
   ]
  },
  {
   "cell_type": "markdown",
   "metadata": {},
   "source": [
    "- Age\n",
    "- Fare\n",
    "- Embarked \n",
    "- Pclass"
   ]
  },
  {
   "cell_type": "markdown",
   "metadata": {},
   "source": [
    "**3.** Какие из признаков являются _бинарными_?"
   ]
  },
  {
   "cell_type": "markdown",
   "metadata": {},
   "source": [
    "- Survived \n",
    "- Sex \n",
    "- Embarked \n",
    "- Pclass"
   ]
  },
  {
   "cell_type": "markdown",
   "metadata": {},
   "source": [
    "**4.** Построй график, который показывал бы медианное значение и плотность распределения возраста (`Age`) по классам (`Pclass`). В каком классе медианное значение выше, чем в других и плотность распрделения менее сконцентрированная?<br>\n",
    "(_P.S._ Лучше использовать либо boxplot, либо violinplot)"
   ]
  },
  {
   "cell_type": "code",
   "execution_count": null,
   "metadata": {},
   "outputs": [],
   "source": []
  },
  {
   "cell_type": "markdown",
   "metadata": {},
   "source": [
    "**5**. Построй график, который показывал бы соотношение погибших и выживших в зависимости от пола. <br>\n",
    "Верно ли что выживщих мужчин более чем в 2 раза меньше, чем женщин?<br>\n",
    "(_P.S._ Лучше использовать countplot)"
   ]
  },
  {
   "cell_type": "code",
   "execution_count": null,
   "metadata": {},
   "outputs": [],
   "source": []
  },
  {
   "cell_type": "markdown",
   "metadata": {},
   "source": [
    " **6.** В каком пунктов посадки (`Embarked`) медианная цена билета выше и в целом билеты вышли дороже?<br>\n",
    "(_P.S._ Лучше использовать либо boxplot, либо violinplot)<br>\n",
    "(_P.S.S._ Попробуйте вместо boxplot boxenplot)"
   ]
  },
  {
   "cell_type": "code",
   "execution_count": null,
   "metadata": {},
   "outputs": [],
   "source": []
  },
  {
   "cell_type": "markdown",
   "metadata": {},
   "source": [
    " **7.** Построй плотность распределения возраста для выживших и не выживших пассажиров.<br> \n",
    "Плотность какого класса (выжил/не выжил) больше в районе 20 лет?<br>\n",
    "(_P.S._ Так как данные с пропусками и неравномерные, то дучше всего использовать хитрые методы, например kdeplot)<br>"
   ]
  },
  {
   "cell_type": "code",
   "execution_count": null,
   "metadata": {},
   "outputs": [],
   "source": []
  },
  {
   "cell_type": "markdown",
   "metadata": {},
   "source": [
    " **8.** Посмотрим в каком классе больше всего погибших пассажиров.<br> \n",
    "(_P.S._ Лучше всего тут подойдет столбчатая диаграмма или countplot)"
   ]
  },
  {
   "cell_type": "code",
   "execution_count": null,
   "metadata": {},
   "outputs": [],
   "source": []
  },
  {
   "cell_type": "markdown",
   "metadata": {},
   "source": [
    " **9.** Далее посмотрим как соотносятся цена билета и выжил или не выжил пассажир. <br> \n",
    "(_P.S._ Так как разброс цены у нас довольно значительный, то возможно стоит отбросить какой-то диапазон. \n",
    "<br> Возьми пассажиров, которые заплатили за билет менее 300 долларов. И нарисуйте это boxplot)"
   ]
  },
  {
   "cell_type": "code",
   "execution_count": null,
   "metadata": {},
   "outputs": [],
   "source": []
  },
  {
   "cell_type": "markdown",
   "metadata": {},
   "source": [
    "**10.** И в конце, посмотрим еще раз на то как соотносится возраст и факт что пассажир выжил и ли не выжил.<br> \n",
    "Так как у нас возраст представлен в виде порядковой величины и уникальных категорий много, то с ней не особо приятно работать в контекте другой категориальной величины. <br> \n",
    "Давайте сделаем некотрые возрастные группы и посмотрим как распределились в них группы не/выживших. \n",
    "Для этого используем конструкцию c `lambda`."
   ]
  },
  {
   "cell_type": "markdown",
   "metadata": {},
   "source": [
    "Создадим 5 категорий до 20, до 30, до 40, до 50 и более 50 (включительно)."
   ]
  },
  {
   "cell_type": "code",
   "execution_count": null,
   "metadata": {},
   "outputs": [],
   "source": [
    "titanic['Age_cat'] = titanic['Age'].apply(lambda age: ... )"
   ]
  },
  {
   "cell_type": "markdown",
   "metadata": {},
   "source": [
    "В каких группах получилось больше выживших, чем погибших пассажиров?"
   ]
  },
  {
   "cell_type": "code",
   "execution_count": null,
   "metadata": {},
   "outputs": [],
   "source": []
  }
 ],
 "metadata": {
  "kernelspec": {
   "display_name": "Python 3",
   "language": "python",
   "name": "python3"
  },
  "language_info": {
   "codemirror_mode": {
    "name": "ipython",
    "version": 3
   },
   "file_extension": ".py",
   "mimetype": "text/x-python",
   "name": "python",
   "nbconvert_exporter": "python",
   "pygments_lexer": "ipython3",
   "version": "3.6.6"
  }
 },
 "nbformat": 4,
 "nbformat_minor": 2
}
