{
 "cells": [
  {
   "cell_type": "markdown",
   "metadata": {},
   "source": [
    "<center>\n",
    "<img src=\"https://cdn.megabonus.com/images/shop_logo/skillbox.png\"/> \n",
    "    \n",
    "# Курс аналитик данных на Python\n",
    "## Модуль 4.1. Визуализация с помощью Matplotlib."
   ]
  },
  {
   "cell_type": "markdown",
   "metadata": {},
   "source": [
    "Сегодня мы затронем одну из самых важных и в то же время самых сложных тем - визуализацию. <br>\n",
    "С одной стороны мы знаем, что **информация легче воспринимается визуально**. ** Лучше**  всего с помощью отоношений и представления **в 2-х или 3-х мерном простанствах**. \n",
    "<br>\n",
    "Даже сейчас когда вы прочитали **эти строки**, вы неосознанно обращаете внимание на **выделенные куски** предложения, тк ваше сознание считает их **более важными**, ввиду того что **они выделаются** и **отличаются** от остального текста.\n",
    "<br>\n",
    "\n",
    "С данными принято работать методами построения **графиков**,тк это позволяет **преобразить огромное количество однотонной** и одномерной **информации** в небольшую, но **передающую суть репрезентацию** - в график.\n",
    "С другой стороны перед нами встает задача со всей её сложностью - нужно не просто нарисовать какой-то графичек, а сделать так чтобы информация которая у нас есть была отображена корректно и отвечала на поставленый вопрос/давала какие-либо новые представления о данных, или по- простому: инсайты.\n",
    "<br>\n",
    "\n",
    "Сегодня мы рассмотрим **несколько библиотек** и **ключевые виды графиков** и посмотрим для каких ситуаций какие графики подходят."
   ]
  },
  {
   "cell_type": "markdown",
   "metadata": {},
   "source": [
    "Как и всегда сначала импортируем библиотеки. В этот раз на одну больше - ```matplotlib.pyplot```.<br>\n",
    "Также используем \"волшебную команду\" ```%matplotlib inline```  для отрисовки графиков сразу после выполнения ячеек.\n",
    "(нам больше не придется писать ```plt.show()```"
   ]
  },
  {
   "cell_type": "code",
   "execution_count": 1,
   "metadata": {},
   "outputs": [],
   "source": [
    "import numpy as np\n",
    "import pandas as pd\n",
    "import matplotlib.pyplot as plt\n",
    "\n",
    "%matplotlib inline"
   ]
  },
  {
   "cell_type": "markdown",
   "metadata": {},
   "source": [
    "В прошлом модуле мы уже строили график по оттоку пользователя переменной. <br>\n",
    "Это была **непрерывная величина**, тоесть величина которая **может принимать любое значение**, уместное в рамках контекста (например продажи или среднее значение цены не может отрицательными и тп). <br>\n",
    "Такой график называется ```lineplot``` и подходит когда нам нужно изобразить **изменение нашего числового ряда** или, например, выразить **изменение величины в течение какого-либо времени**, чтобы в дальнейшем выражать какие-либо гипотезы."
   ]
  },
  {
   "cell_type": "markdown",
   "metadata": {},
   "source": [
    "<img src=\"../data/mean_check/churn.png\"/> "
   ]
  },
  {
   "cell_type": "markdown",
   "metadata": {},
   "source": [
    "Когда мы работаем с другими типами данных, например с **категориальнымими**, как в отчете о среднем чеке, где у нас было много категорий и видов категорий( MCC коды, категории покупок и видов валют), выбвает полезными использовать **столбчатые диаграммы**, чтобы посмотреть количество наблюденй в каждой категории. В ```maplotlib``` они называются ```barplot```. \n",
    "\n",
    "Посмотрим примеры на классическом датасете с отзывами о разных видах вин.\n",
    "Также загрузим классический датасет для упражнений на питоне/R - titanic."
   ]
  },
  {
   "cell_type": "code",
   "execution_count": 3,
   "metadata": {},
   "outputs": [
    {
     "ename": "FileNotFoundError",
     "evalue": "[Errno 2] No such file or directory: '../SBox/data/winemag-data_first150k.csv.gz'",
     "output_type": "error",
     "traceback": [
      "\u001b[1;31m---------------------------------------------------------------------------\u001b[0m",
      "\u001b[1;31mFileNotFoundError\u001b[0m                         Traceback (most recent call last)",
      "\u001b[1;32m<ipython-input-3-fba5d01eeaf0>\u001b[0m in \u001b[0;36m<module>\u001b[1;34m\u001b[0m\n\u001b[1;32m----> 1\u001b[1;33m \u001b[0mreviews\u001b[0m \u001b[1;33m=\u001b[0m \u001b[0mpd\u001b[0m\u001b[1;33m.\u001b[0m\u001b[0mread_csv\u001b[0m\u001b[1;33m(\u001b[0m\u001b[1;34m'../SBox/data/winemag-data_first150k.csv.gz'\u001b[0m\u001b[1;33m,\u001b[0m\u001b[0mcompression\u001b[0m\u001b[1;33m=\u001b[0m\u001b[1;34m'gzip'\u001b[0m \u001b[1;33m)\u001b[0m\u001b[1;33m\u001b[0m\u001b[1;33m\u001b[0m\u001b[0m\n\u001b[0m\u001b[0;32m      2\u001b[0m \u001b[0mtitanic\u001b[0m \u001b[1;33m=\u001b[0m \u001b[0mpd\u001b[0m\u001b[1;33m.\u001b[0m\u001b[0mread_csv\u001b[0m\u001b[1;33m(\u001b[0m\u001b[1;34m'../SBox/data/titanic.csv'\u001b[0m \u001b[1;33m)\u001b[0m\u001b[1;33m\u001b[0m\u001b[1;33m\u001b[0m\u001b[0m\n",
      "\u001b[1;32mC:\\ProgramData\\Anaconda3\\lib\\site-packages\\pandas\\io\\parsers.py\u001b[0m in \u001b[0;36mparser_f\u001b[1;34m(filepath_or_buffer, sep, delimiter, header, names, index_col, usecols, squeeze, prefix, mangle_dupe_cols, dtype, engine, converters, true_values, false_values, skipinitialspace, skiprows, skipfooter, nrows, na_values, keep_default_na, na_filter, verbose, skip_blank_lines, parse_dates, infer_datetime_format, keep_date_col, date_parser, dayfirst, iterator, chunksize, compression, thousands, decimal, lineterminator, quotechar, quoting, doublequote, escapechar, comment, encoding, dialect, tupleize_cols, error_bad_lines, warn_bad_lines, delim_whitespace, low_memory, memory_map, float_precision)\u001b[0m\n\u001b[0;32m    700\u001b[0m                     skip_blank_lines=skip_blank_lines)\n\u001b[0;32m    701\u001b[0m \u001b[1;33m\u001b[0m\u001b[0m\n\u001b[1;32m--> 702\u001b[1;33m         \u001b[1;32mreturn\u001b[0m \u001b[0m_read\u001b[0m\u001b[1;33m(\u001b[0m\u001b[0mfilepath_or_buffer\u001b[0m\u001b[1;33m,\u001b[0m \u001b[0mkwds\u001b[0m\u001b[1;33m)\u001b[0m\u001b[1;33m\u001b[0m\u001b[1;33m\u001b[0m\u001b[0m\n\u001b[0m\u001b[0;32m    703\u001b[0m \u001b[1;33m\u001b[0m\u001b[0m\n\u001b[0;32m    704\u001b[0m     \u001b[0mparser_f\u001b[0m\u001b[1;33m.\u001b[0m\u001b[0m__name__\u001b[0m \u001b[1;33m=\u001b[0m \u001b[0mname\u001b[0m\u001b[1;33m\u001b[0m\u001b[1;33m\u001b[0m\u001b[0m\n",
      "\u001b[1;32mC:\\ProgramData\\Anaconda3\\lib\\site-packages\\pandas\\io\\parsers.py\u001b[0m in \u001b[0;36m_read\u001b[1;34m(filepath_or_buffer, kwds)\u001b[0m\n\u001b[0;32m    427\u001b[0m \u001b[1;33m\u001b[0m\u001b[0m\n\u001b[0;32m    428\u001b[0m     \u001b[1;31m# Create the parser.\u001b[0m\u001b[1;33m\u001b[0m\u001b[1;33m\u001b[0m\u001b[1;33m\u001b[0m\u001b[0m\n\u001b[1;32m--> 429\u001b[1;33m     \u001b[0mparser\u001b[0m \u001b[1;33m=\u001b[0m \u001b[0mTextFileReader\u001b[0m\u001b[1;33m(\u001b[0m\u001b[0mfilepath_or_buffer\u001b[0m\u001b[1;33m,\u001b[0m \u001b[1;33m**\u001b[0m\u001b[0mkwds\u001b[0m\u001b[1;33m)\u001b[0m\u001b[1;33m\u001b[0m\u001b[1;33m\u001b[0m\u001b[0m\n\u001b[0m\u001b[0;32m    430\u001b[0m \u001b[1;33m\u001b[0m\u001b[0m\n\u001b[0;32m    431\u001b[0m     \u001b[1;32mif\u001b[0m \u001b[0mchunksize\u001b[0m \u001b[1;32mor\u001b[0m \u001b[0miterator\u001b[0m\u001b[1;33m:\u001b[0m\u001b[1;33m\u001b[0m\u001b[1;33m\u001b[0m\u001b[0m\n",
      "\u001b[1;32mC:\\ProgramData\\Anaconda3\\lib\\site-packages\\pandas\\io\\parsers.py\u001b[0m in \u001b[0;36m__init__\u001b[1;34m(self, f, engine, **kwds)\u001b[0m\n\u001b[0;32m    893\u001b[0m             \u001b[0mself\u001b[0m\u001b[1;33m.\u001b[0m\u001b[0moptions\u001b[0m\u001b[1;33m[\u001b[0m\u001b[1;34m'has_index_names'\u001b[0m\u001b[1;33m]\u001b[0m \u001b[1;33m=\u001b[0m \u001b[0mkwds\u001b[0m\u001b[1;33m[\u001b[0m\u001b[1;34m'has_index_names'\u001b[0m\u001b[1;33m]\u001b[0m\u001b[1;33m\u001b[0m\u001b[1;33m\u001b[0m\u001b[0m\n\u001b[0;32m    894\u001b[0m \u001b[1;33m\u001b[0m\u001b[0m\n\u001b[1;32m--> 895\u001b[1;33m         \u001b[0mself\u001b[0m\u001b[1;33m.\u001b[0m\u001b[0m_make_engine\u001b[0m\u001b[1;33m(\u001b[0m\u001b[0mself\u001b[0m\u001b[1;33m.\u001b[0m\u001b[0mengine\u001b[0m\u001b[1;33m)\u001b[0m\u001b[1;33m\u001b[0m\u001b[1;33m\u001b[0m\u001b[0m\n\u001b[0m\u001b[0;32m    896\u001b[0m \u001b[1;33m\u001b[0m\u001b[0m\n\u001b[0;32m    897\u001b[0m     \u001b[1;32mdef\u001b[0m \u001b[0mclose\u001b[0m\u001b[1;33m(\u001b[0m\u001b[0mself\u001b[0m\u001b[1;33m)\u001b[0m\u001b[1;33m:\u001b[0m\u001b[1;33m\u001b[0m\u001b[1;33m\u001b[0m\u001b[0m\n",
      "\u001b[1;32mC:\\ProgramData\\Anaconda3\\lib\\site-packages\\pandas\\io\\parsers.py\u001b[0m in \u001b[0;36m_make_engine\u001b[1;34m(self, engine)\u001b[0m\n\u001b[0;32m   1120\u001b[0m     \u001b[1;32mdef\u001b[0m \u001b[0m_make_engine\u001b[0m\u001b[1;33m(\u001b[0m\u001b[0mself\u001b[0m\u001b[1;33m,\u001b[0m \u001b[0mengine\u001b[0m\u001b[1;33m=\u001b[0m\u001b[1;34m'c'\u001b[0m\u001b[1;33m)\u001b[0m\u001b[1;33m:\u001b[0m\u001b[1;33m\u001b[0m\u001b[1;33m\u001b[0m\u001b[0m\n\u001b[0;32m   1121\u001b[0m         \u001b[1;32mif\u001b[0m \u001b[0mengine\u001b[0m \u001b[1;33m==\u001b[0m \u001b[1;34m'c'\u001b[0m\u001b[1;33m:\u001b[0m\u001b[1;33m\u001b[0m\u001b[1;33m\u001b[0m\u001b[0m\n\u001b[1;32m-> 1122\u001b[1;33m             \u001b[0mself\u001b[0m\u001b[1;33m.\u001b[0m\u001b[0m_engine\u001b[0m \u001b[1;33m=\u001b[0m \u001b[0mCParserWrapper\u001b[0m\u001b[1;33m(\u001b[0m\u001b[0mself\u001b[0m\u001b[1;33m.\u001b[0m\u001b[0mf\u001b[0m\u001b[1;33m,\u001b[0m \u001b[1;33m**\u001b[0m\u001b[0mself\u001b[0m\u001b[1;33m.\u001b[0m\u001b[0moptions\u001b[0m\u001b[1;33m)\u001b[0m\u001b[1;33m\u001b[0m\u001b[1;33m\u001b[0m\u001b[0m\n\u001b[0m\u001b[0;32m   1123\u001b[0m         \u001b[1;32melse\u001b[0m\u001b[1;33m:\u001b[0m\u001b[1;33m\u001b[0m\u001b[1;33m\u001b[0m\u001b[0m\n\u001b[0;32m   1124\u001b[0m             \u001b[1;32mif\u001b[0m \u001b[0mengine\u001b[0m \u001b[1;33m==\u001b[0m \u001b[1;34m'python'\u001b[0m\u001b[1;33m:\u001b[0m\u001b[1;33m\u001b[0m\u001b[1;33m\u001b[0m\u001b[0m\n",
      "\u001b[1;32mC:\\ProgramData\\Anaconda3\\lib\\site-packages\\pandas\\io\\parsers.py\u001b[0m in \u001b[0;36m__init__\u001b[1;34m(self, src, **kwds)\u001b[0m\n\u001b[0;32m   1851\u001b[0m         \u001b[0mkwds\u001b[0m\u001b[1;33m[\u001b[0m\u001b[1;34m'usecols'\u001b[0m\u001b[1;33m]\u001b[0m \u001b[1;33m=\u001b[0m \u001b[0mself\u001b[0m\u001b[1;33m.\u001b[0m\u001b[0musecols\u001b[0m\u001b[1;33m\u001b[0m\u001b[1;33m\u001b[0m\u001b[0m\n\u001b[0;32m   1852\u001b[0m \u001b[1;33m\u001b[0m\u001b[0m\n\u001b[1;32m-> 1853\u001b[1;33m         \u001b[0mself\u001b[0m\u001b[1;33m.\u001b[0m\u001b[0m_reader\u001b[0m \u001b[1;33m=\u001b[0m \u001b[0mparsers\u001b[0m\u001b[1;33m.\u001b[0m\u001b[0mTextReader\u001b[0m\u001b[1;33m(\u001b[0m\u001b[0msrc\u001b[0m\u001b[1;33m,\u001b[0m \u001b[1;33m**\u001b[0m\u001b[0mkwds\u001b[0m\u001b[1;33m)\u001b[0m\u001b[1;33m\u001b[0m\u001b[1;33m\u001b[0m\u001b[0m\n\u001b[0m\u001b[0;32m   1854\u001b[0m         \u001b[0mself\u001b[0m\u001b[1;33m.\u001b[0m\u001b[0munnamed_cols\u001b[0m \u001b[1;33m=\u001b[0m \u001b[0mself\u001b[0m\u001b[1;33m.\u001b[0m\u001b[0m_reader\u001b[0m\u001b[1;33m.\u001b[0m\u001b[0munnamed_cols\u001b[0m\u001b[1;33m\u001b[0m\u001b[1;33m\u001b[0m\u001b[0m\n\u001b[0;32m   1855\u001b[0m \u001b[1;33m\u001b[0m\u001b[0m\n",
      "\u001b[1;32mpandas/_libs/parsers.pyx\u001b[0m in \u001b[0;36mpandas._libs.parsers.TextReader.__cinit__\u001b[1;34m()\u001b[0m\n",
      "\u001b[1;32mpandas/_libs/parsers.pyx\u001b[0m in \u001b[0;36mpandas._libs.parsers.TextReader._setup_parser_source\u001b[1;34m()\u001b[0m\n",
      "\u001b[1;32mC:\\ProgramData\\Anaconda3\\lib\\gzip.py\u001b[0m in \u001b[0;36m__init__\u001b[1;34m(self, filename, mode, compresslevel, fileobj, mtime)\u001b[0m\n\u001b[0;32m    161\u001b[0m             \u001b[0mmode\u001b[0m \u001b[1;33m+=\u001b[0m \u001b[1;34m'b'\u001b[0m\u001b[1;33m\u001b[0m\u001b[1;33m\u001b[0m\u001b[0m\n\u001b[0;32m    162\u001b[0m         \u001b[1;32mif\u001b[0m \u001b[0mfileobj\u001b[0m \u001b[1;32mis\u001b[0m \u001b[1;32mNone\u001b[0m\u001b[1;33m:\u001b[0m\u001b[1;33m\u001b[0m\u001b[1;33m\u001b[0m\u001b[0m\n\u001b[1;32m--> 163\u001b[1;33m             \u001b[0mfileobj\u001b[0m \u001b[1;33m=\u001b[0m \u001b[0mself\u001b[0m\u001b[1;33m.\u001b[0m\u001b[0mmyfileobj\u001b[0m \u001b[1;33m=\u001b[0m \u001b[0mbuiltins\u001b[0m\u001b[1;33m.\u001b[0m\u001b[0mopen\u001b[0m\u001b[1;33m(\u001b[0m\u001b[0mfilename\u001b[0m\u001b[1;33m,\u001b[0m \u001b[0mmode\u001b[0m \u001b[1;32mor\u001b[0m \u001b[1;34m'rb'\u001b[0m\u001b[1;33m)\u001b[0m\u001b[1;33m\u001b[0m\u001b[1;33m\u001b[0m\u001b[0m\n\u001b[0m\u001b[0;32m    164\u001b[0m         \u001b[1;32mif\u001b[0m \u001b[0mfilename\u001b[0m \u001b[1;32mis\u001b[0m \u001b[1;32mNone\u001b[0m\u001b[1;33m:\u001b[0m\u001b[1;33m\u001b[0m\u001b[1;33m\u001b[0m\u001b[0m\n\u001b[0;32m    165\u001b[0m             \u001b[0mfilename\u001b[0m \u001b[1;33m=\u001b[0m \u001b[0mgetattr\u001b[0m\u001b[1;33m(\u001b[0m\u001b[0mfileobj\u001b[0m\u001b[1;33m,\u001b[0m \u001b[1;34m'name'\u001b[0m\u001b[1;33m,\u001b[0m \u001b[1;34m''\u001b[0m\u001b[1;33m)\u001b[0m\u001b[1;33m\u001b[0m\u001b[1;33m\u001b[0m\u001b[0m\n",
      "\u001b[1;31mFileNotFoundError\u001b[0m: [Errno 2] No such file or directory: '../SBox/data/winemag-data_first150k.csv.gz'"
     ]
    }
   ],
   "source": [
    "reviews = pd.read_csv('../SBox/data/winemag-data_first150k.csv.gz',compression='gzip' )\n",
    "titanic = pd.read_csv('../SBox/data/titanic.csv' )"
   ]
  },
  {
   "cell_type": "markdown",
   "metadata": {},
   "source": [
    "<center>\n",
    "<img src=\"https://static.independent.co.uk/s3fs-public/thumbnails/image/2018/01/05/12/lifestyle.jpg?w968\"  width=\"500\">"
   ]
  },
  {
   "cell_type": "code",
   "execution_count": 171,
   "metadata": {},
   "outputs": [
    {
     "data": {
      "text/html": [
       "<div>\n",
       "<style scoped>\n",
       "    .dataframe tbody tr th:only-of-type {\n",
       "        vertical-align: middle;\n",
       "    }\n",
       "\n",
       "    .dataframe tbody tr th {\n",
       "        vertical-align: top;\n",
       "    }\n",
       "\n",
       "    .dataframe thead th {\n",
       "        text-align: right;\n",
       "    }\n",
       "</style>\n",
       "<table border=\"1\" class=\"dataframe\">\n",
       "  <thead>\n",
       "    <tr style=\"text-align: right;\">\n",
       "      <th></th>\n",
       "      <th>country</th>\n",
       "      <th>description</th>\n",
       "      <th>designation</th>\n",
       "      <th>points</th>\n",
       "      <th>price</th>\n",
       "      <th>province</th>\n",
       "      <th>region_1</th>\n",
       "      <th>region_2</th>\n",
       "      <th>variety</th>\n",
       "      <th>winery</th>\n",
       "    </tr>\n",
       "  </thead>\n",
       "  <tbody>\n",
       "    <tr>\n",
       "      <th>0</th>\n",
       "      <td>US</td>\n",
       "      <td>This tremendous 100% varietal wine hails from ...</td>\n",
       "      <td>Martha's Vineyard</td>\n",
       "      <td>96</td>\n",
       "      <td>235.0</td>\n",
       "      <td>California</td>\n",
       "      <td>Napa Valley</td>\n",
       "      <td>Napa</td>\n",
       "      <td>Cabernet Sauvignon</td>\n",
       "      <td>Heitz</td>\n",
       "    </tr>\n",
       "    <tr>\n",
       "      <th>1</th>\n",
       "      <td>Spain</td>\n",
       "      <td>Ripe aromas of fig, blackberry and cassis are ...</td>\n",
       "      <td>Carodorum Selección Especial Reserva</td>\n",
       "      <td>96</td>\n",
       "      <td>110.0</td>\n",
       "      <td>Northern Spain</td>\n",
       "      <td>Toro</td>\n",
       "      <td>NaN</td>\n",
       "      <td>Tinta de Toro</td>\n",
       "      <td>Bodega Carmen Rodríguez</td>\n",
       "    </tr>\n",
       "    <tr>\n",
       "      <th>2</th>\n",
       "      <td>US</td>\n",
       "      <td>Mac Watson honors the memory of a wine once ma...</td>\n",
       "      <td>Special Selected Late Harvest</td>\n",
       "      <td>96</td>\n",
       "      <td>90.0</td>\n",
       "      <td>California</td>\n",
       "      <td>Knights Valley</td>\n",
       "      <td>Sonoma</td>\n",
       "      <td>Sauvignon Blanc</td>\n",
       "      <td>Macauley</td>\n",
       "    </tr>\n",
       "  </tbody>\n",
       "</table>\n",
       "</div>"
      ],
      "text/plain": [
       "  country                                        description  \\\n",
       "0      US  This tremendous 100% varietal wine hails from ...   \n",
       "1   Spain  Ripe aromas of fig, blackberry and cassis are ...   \n",
       "2      US  Mac Watson honors the memory of a wine once ma...   \n",
       "\n",
       "                            designation  points  price        province  \\\n",
       "0                     Martha's Vineyard      96  235.0      California   \n",
       "1  Carodorum Selección Especial Reserva      96  110.0  Northern Spain   \n",
       "2         Special Selected Late Harvest      96   90.0      California   \n",
       "\n",
       "         region_1 region_2             variety                   winery  \n",
       "0     Napa Valley     Napa  Cabernet Sauvignon                    Heitz  \n",
       "1            Toro      NaN       Tinta de Toro  Bodega Carmen Rodríguez  \n",
       "2  Knights Valley   Sonoma     Sauvignon Blanc                 Macauley  "
      ]
     },
     "execution_count": 171,
     "metadata": {},
     "output_type": "execute_result"
    }
   ],
   "source": [
    "reviews.head(3)"
   ]
  },
  {
   "cell_type": "markdown",
   "metadata": {},
   "source": [
    "### Barplot"
   ]
  },
  {
   "cell_type": "markdown",
   "metadata": {},
   "source": [
    "Тут мы посчитали количество наблюдений в нашей выборке, разбив их по категории ```province``` и топ-10. <br>\n",
    "Также мы пожем повернуть ориентацию используя  ```.bar()``` вместо  ```.barh()```."
   ]
  },
  {
   "cell_type": "code",
   "execution_count": 192,
   "metadata": {},
   "outputs": [
    {
     "data": {
      "text/plain": [
       "<matplotlib.axes._subplots.AxesSubplot at 0x12d4cb668>"
      ]
     },
     "execution_count": 192,
     "metadata": {},
     "output_type": "execute_result"
    },
    {
     "data": {
      "image/png": "[encoded data removed]",
      "text/plain": [
       "<Figure size 432x288 with 1 Axes>"
      ]
     },
     "metadata": {},
     "output_type": "display_data"
    }
   ],
   "source": [
    "reviews['province'].value_counts().head(10).plot.bar()\n",
    "#reviews['province'].value_counts().head(10).plot(kind='bar')"
   ]
  },
  {
   "cell_type": "code",
   "execution_count": 193,
   "metadata": {},
   "outputs": [
    {
     "data": {
      "text/plain": [
       "<matplotlib.axes._subplots.AxesSubplot at 0x12e7389b0>"
      ]
     },
     "execution_count": 193,
     "metadata": {},
     "output_type": "execute_result"
    },
    {
     "data": {
      "image/png": "[encoded data removed]",
      "text/plain": [
       "<Figure size 432x288 with 1 Axes>"
      ]
     },
     "metadata": {},
     "output_type": "display_data"
    }
   ],
   "source": [
    "reviews['province'].value_counts().head(10).plot.barh()\n",
    "#reviews['province'].value_counts().head(10).plot(kind='barh')"
   ]
  },
  {
   "cell_type": "markdown",
   "metadata": {},
   "source": [
    "Количество посчитано, но очень часто нужн опросто посчитать проценты от тотала по категории. Это можно сделать, разделив наш топ -10 на длину всего датасета, вот так:"
   ]
  },
  {
   "cell_type": "code",
   "execution_count": 199,
   "metadata": {},
   "outputs": [
    {
     "data": {
      "text/plain": [
       "<matplotlib.axes._subplots.AxesSubplot at 0x1347236a0>"
      ]
     },
     "execution_count": 199,
     "metadata": {},
     "output_type": "execute_result"
    },
    {
     "data": {
      "image/png": "[encoded data removed]",
      "text/plain": [
       "<Figure size 432x288 with 1 Axes>"
      ]
     },
     "metadata": {},
     "output_type": "display_data"
    }
   ],
   "source": [
    "(reviews['province'].value_counts().head(10) / len(reviews)).plot.bar()"
   ]
  },
  {
   "cell_type": "markdown",
   "metadata": {},
   "source": [
    "**Столбчатые диагарамы** очень пластичный вид графиков, тк с помощью него можно представить любую информацию, где высота отображается по оси Y, а по оси X у нас категории.<br>\n",
    "\n",
    "Помимо этого категории могут быть как \"настоящими\" или **номинальными категориями** (в нашем датасете это _страна происхождения вина, провинция, винодельня и тд._, в реальной жизни это могут быть различные _коды, например MCC или валют, почтовые индексы, имена людей и прочее_). Их нет смысла упорядочивать, тк каждая категория имеет равный вклад и значение. <br>\n",
    "\n",
    "Интереснее становится, когда мы хотим проанализировать **порядковую категорию**, где есть какая-то внутренняя зависимость, например как в нашем случае ниже.<br>\n",
    "Если мы посчитаем сколько вин набрало какое количество баллов, то метод ```value_counts()``` отсортирует результаты по значеним, при этом в индексах будет полная белиберда, тк после 88 балла идет сразу 90, а после него 86. Но мы же знаем что баллы имеют нарастающую характеристику- **чем выше оценка, тем выше и заведение**. Все что нам нужно сделать это отсортировать по индексу и построить ```barplot```<br>\n"
   ]
  },
  {
   "cell_type": "code",
   "execution_count": 224,
   "metadata": {},
   "outputs": [
    {
     "data": {
      "text/plain": [
       "87    20747\n",
       "88    17871\n",
       "90    15973\n",
       "86    15573\n",
       "89    12921\n",
       "Name: points, dtype: int64"
      ]
     },
     "execution_count": 224,
     "metadata": {},
     "output_type": "execute_result"
    }
   ],
   "source": [
    "reviews['points'].value_counts().head()"
   ]
  },
  {
   "cell_type": "code",
   "execution_count": 226,
   "metadata": {},
   "outputs": [
    {
     "data": {
      "text/plain": [
       "<matplotlib.axes._subplots.AxesSubplot at 0x1342345f8>"
      ]
     },
     "execution_count": 226,
     "metadata": {},
     "output_type": "execute_result"
    },
    {
     "data": {
      "image/png": "[encoded data removed]",
      "text/plain": [
       "<Figure size 432x288 with 1 Axes>"
      ]
     },
     "metadata": {},
     "output_type": "display_data"
    }
   ],
   "source": [
    "reviews['points'].value_counts().plot('bar')"
   ]
  },
  {
   "cell_type": "code",
   "execution_count": 227,
   "metadata": {},
   "outputs": [
    {
     "data": {
      "text/plain": [
       "80      898\n",
       "81     1502\n",
       "82     4041\n",
       "83     6048\n",
       "84    10708\n",
       "Name: points, dtype: int64"
      ]
     },
     "execution_count": 227,
     "metadata": {},
     "output_type": "execute_result"
    }
   ],
   "source": [
    "reviews['points'].value_counts().sort_index().head()"
   ]
  },
  {
   "cell_type": "code",
   "execution_count": 228,
   "metadata": {},
   "outputs": [
    {
     "data": {
      "text/plain": [
       "<matplotlib.axes._subplots.AxesSubplot at 0x1147e67b8>"
      ]
     },
     "execution_count": 228,
     "metadata": {},
     "output_type": "execute_result"
    },
    {
     "data": {
      "image/png": "[encoded data removed]",
      "text/plain": [
       "<Figure size 432x288 with 1 Axes>"
      ]
     },
     "metadata": {},
     "output_type": "display_data"
    }
   ],
   "source": [
    "reviews['points'].value_counts().sort_index().plot('bar')"
   ]
  },
  {
   "cell_type": "markdown",
   "metadata": {},
   "source": [
    "### Lineplot"
   ]
  },
  {
   "cell_type": "markdown",
   "metadata": {},
   "source": [
    "Хорошо,в нашем случае было проставлено всего 20 пунктов оценок, но что если были бы все 100? <br>\n",
    "Каждый из столбцов в нашей диаграме был бы очень маленький. <br>\n",
    "Можно, конечно, увеличить наш график, но самое простое что можно сделать это использовать другой вид графика, а именно ```.line()```<br>"
   ]
  },
  {
   "cell_type": "code",
   "execution_count": 241,
   "metadata": {},
   "outputs": [
    {
     "data": {
      "text/plain": [
       "<matplotlib.axes._subplots.AxesSubplot at 0x12c019da0>"
      ]
     },
     "execution_count": 241,
     "metadata": {},
     "output_type": "execute_result"
    },
    {
     "data": {
      "image/png": "[encoded data removed]",
      "text/plain": [
       "<Figure size 432x288 with 1 Axes>"
      ]
     },
     "metadata": {},
     "output_type": "display_data"
    }
   ],
   "source": [
    "reviews['points'].value_counts().sort_index().plot.line(color='green')"
   ]
  },
  {
   "cell_type": "markdown",
   "metadata": {},
   "source": [
    "Так как это самый первый метод визуализации данных, то можно визуализировать разные срезы или категории и сопоставлять между собой:"
   ]
  },
  {
   "cell_type": "code",
   "execution_count": 240,
   "metadata": {},
   "outputs": [
    {
     "data": {
      "text/plain": [
       "<matplotlib.axes._subplots.AxesSubplot at 0x10b426f98>"
      ]
     },
     "execution_count": 240,
     "metadata": {},
     "output_type": "execute_result"
    },
    {
     "data": {
      "image/png": "[encoded data removed]",
      "text/plain": [
       "<Figure size 432x288 with 1 Axes>"
      ]
     },
     "metadata": {},
     "output_type": "display_data"
    }
   ],
   "source": [
    "reviews[reviews['province'] == 'Northern Spain']['points'].value_counts().sort_index().plot.line(color='green')\n",
    "reviews[reviews['province'] == 'Northeastern Italy']['points'].value_counts().sort_index().plot.line(color='blue')"
   ]
  },
  {
   "cell_type": "markdown",
   "metadata": {},
   "source": [
    "Однако одно из главных минусов линейныых графиков это неприспособленность к номинальным категориям.\n",
    "\n",
    "Обычно, если есть много категорий/подкатегорий и разрезов, то обращаются к  столбчатым диаграмам( ```.barplot()```), <br>\n",
    "если у нас непрерывные числовые величины, то первым что строят это линейные графики."
   ]
  },
  {
   "cell_type": "code",
   "execution_count": 281,
   "metadata": {},
   "outputs": [],
   "source": [
    "# reviews[reviews['variety'].isin(list(reviews['variety'].value_counts().head(5).index))]\\\n",
    "#                     .groupby(['variety','points'])['price'].count().unstack().T\n"
   ]
  },
  {
   "cell_type": "markdown",
   "metadata": {},
   "source": [
    "### Areaplot"
   ]
  },
  {
   "cell_type": "markdown",
   "metadata": {},
   "source": [
    "Также мы можем закрасить площадь под линейным графиком и унас уже получится график с областями. <br>\n",
    "Бывает полезным при построение небольших графиков с несколькими областями, которые перекрывают друг друга."
   ]
  },
  {
   "cell_type": "code",
   "execution_count": 282,
   "metadata": {},
   "outputs": [
    {
     "data": {
      "text/plain": [
       "<matplotlib.axes._subplots.AxesSubplot at 0x134c032b0>"
      ]
     },
     "execution_count": 282,
     "metadata": {},
     "output_type": "execute_result"
    },
    {
     "data": {
      "image/png": "[encoded data removed]",
      "text/plain": [
       "<Figure size 432x288 with 1 Axes>"
      ]
     },
     "metadata": {},
     "output_type": "display_data"
    }
   ],
   "source": [
    "reviews['points'].value_counts().sort_index().plot.area()"
   ]
  },
  {
   "cell_type": "markdown",
   "metadata": {},
   "source": [
    "### Гистограма"
   ]
  },
  {
   "cell_type": "markdown",
   "metadata": {},
   "source": [
    "Гистограмма или гистограмма частот вобщем-то является столбчатым графиком, а точнее ее **частным случаем**. <br>\n",
    "Единственное отличие состоит в том, что **значения, которые мы передаем на вход в гистограмму сначала разбиваются** на <br>\n",
    "N равных диапазонов/интервалов, а далее подсчитывается **сколько наблюдений попало в тот или иной диапазон**.\n"
   ]
  },
  {
   "cell_type": "code",
   "execution_count": 287,
   "metadata": {},
   "outputs": [
    {
     "data": {
      "text/plain": [
       "<matplotlib.axes._subplots.AxesSubplot at 0x140653f28>"
      ]
     },
     "execution_count": 287,
     "metadata": {},
     "output_type": "execute_result"
    },
    {
     "data": {
      "image/png": "[encoded data removed]",
      "text/plain": [
       "<Figure size 432x288 with 1 Axes>"
      ]
     },
     "metadata": {},
     "output_type": "display_data"
    }
   ],
   "source": [
    "reviews['price'].plot.hist()"
   ]
  },
  {
   "cell_type": "markdown",
   "metadata": {},
   "source": [
    "Но что-то не очень похоже на информативный график.<br>\n",
    "Проблема заключается в том, что гистограмма очень восприимчива к экстремальным значениям, <br>\n",
    "так как интервалы разбиения у нас строятся,учитывая разброс наших данных.<br>\n",
    "\n",
    "Попробуем убрать выбросы. Для этого можно воспользоваться кодом из 3 урока, если мы хотим вычяислить определенный квантиль.<br>\n",
    "Сейчас просто воспользуемся методом```.describe()``` и уберем все что выше 75ого квантиля, <br>\n",
    "тоесть все значения, которые выше 75% от цеыы в нашем распределении цен."
   ]
  },
  {
   "cell_type": "code",
   "execution_count": 289,
   "metadata": {},
   "outputs": [
    {
     "data": {
      "text/html": [
       "<div>\n",
       "<style scoped>\n",
       "    .dataframe tbody tr th:only-of-type {\n",
       "        vertical-align: middle;\n",
       "    }\n",
       "\n",
       "    .dataframe tbody tr th {\n",
       "        vertical-align: top;\n",
       "    }\n",
       "\n",
       "    .dataframe thead th {\n",
       "        text-align: right;\n",
       "    }\n",
       "</style>\n",
       "<table border=\"1\" class=\"dataframe\">\n",
       "  <thead>\n",
       "    <tr style=\"text-align: right;\">\n",
       "      <th></th>\n",
       "      <th>points</th>\n",
       "      <th>price</th>\n",
       "    </tr>\n",
       "  </thead>\n",
       "  <tbody>\n",
       "    <tr>\n",
       "      <th>count</th>\n",
       "      <td>150930.000000</td>\n",
       "      <td>137235.000000</td>\n",
       "    </tr>\n",
       "    <tr>\n",
       "      <th>mean</th>\n",
       "      <td>87.888418</td>\n",
       "      <td>33.131482</td>\n",
       "    </tr>\n",
       "    <tr>\n",
       "      <th>std</th>\n",
       "      <td>3.222392</td>\n",
       "      <td>36.322536</td>\n",
       "    </tr>\n",
       "    <tr>\n",
       "      <th>min</th>\n",
       "      <td>80.000000</td>\n",
       "      <td>4.000000</td>\n",
       "    </tr>\n",
       "    <tr>\n",
       "      <th>25%</th>\n",
       "      <td>86.000000</td>\n",
       "      <td>16.000000</td>\n",
       "    </tr>\n",
       "    <tr>\n",
       "      <th>50%</th>\n",
       "      <td>88.000000</td>\n",
       "      <td>24.000000</td>\n",
       "    </tr>\n",
       "    <tr>\n",
       "      <th>75%</th>\n",
       "      <td>90.000000</td>\n",
       "      <td>40.000000</td>\n",
       "    </tr>\n",
       "    <tr>\n",
       "      <th>max</th>\n",
       "      <td>100.000000</td>\n",
       "      <td>2300.000000</td>\n",
       "    </tr>\n",
       "  </tbody>\n",
       "</table>\n",
       "</div>"
      ],
      "text/plain": [
       "              points          price\n",
       "count  150930.000000  137235.000000\n",
       "mean       87.888418      33.131482\n",
       "std         3.222392      36.322536\n",
       "min        80.000000       4.000000\n",
       "25%        86.000000      16.000000\n",
       "50%        88.000000      24.000000\n",
       "75%        90.000000      40.000000\n",
       "max       100.000000    2300.000000"
      ]
     },
     "execution_count": 289,
     "metadata": {},
     "output_type": "execute_result"
    }
   ],
   "source": [
    "reviews.describe()"
   ]
  },
  {
   "cell_type": "code",
   "execution_count": 294,
   "metadata": {},
   "outputs": [
    {
     "data": {
      "text/plain": [
       "<matplotlib.axes._subplots.AxesSubplot at 0x110c212e8>"
      ]
     },
     "execution_count": 294,
     "metadata": {},
     "output_type": "execute_result"
    },
    {
     "data": {
      "image/png": "[encoded data removed]",
      "text/plain": [
       "<Figure size 432x288 with 1 Axes>"
      ]
     },
     "metadata": {},
     "output_type": "display_data"
    }
   ],
   "source": [
    "reviews[reviews['price'] < 40]['price'].plot.hist()"
   ]
  },
  {
   "cell_type": "markdown",
   "metadata": {},
   "source": [
    "Получили распрделение по ценам от минимального до 75-ого квартиля (тоетсь от 4 до 40 долларов).<br>\n",
    "\n",
    "Также можно построить гистограмму для порядковых значений, например как баллы. <br>\n",
    "Так как в баллах у нас нет разброса, то нам не нужно убирать экстрималные значения/выбросы и \n",
    "мы можем сразу увидеть распределение, довольно похожее на нормальное с небольшим смещением в правую сторону."
   ]
  },
  {
   "cell_type": "code",
   "execution_count": 286,
   "metadata": {},
   "outputs": [
    {
     "data": {
      "text/plain": [
       "<matplotlib.axes._subplots.AxesSubplot at 0x134c424e0>"
      ]
     },
     "execution_count": 286,
     "metadata": {},
     "output_type": "execute_result"
    },
    {
     "data": {
      "image/png": "[encoded data removed]",
      "text/plain": [
       "<Figure size 432x288 with 1 Axes>"
      ]
     },
     "metadata": {},
     "output_type": "display_data"
    }
   ],
   "source": [
    "reviews['points'].plot.hist()"
   ]
  },
  {
   "cell_type": "code",
   "execution_count": null,
   "metadata": {},
   "outputs": [],
   "source": []
  },
  {
   "cell_type": "code",
   "execution_count": null,
   "metadata": {},
   "outputs": [],
   "source": []
  },
  {
   "cell_type": "code",
   "execution_count": null,
   "metadata": {},
   "outputs": [],
   "source": []
  },
  {
   "cell_type": "markdown",
   "metadata": {},
   "source": [
    "## Полезные ссылки"
   ]
  },
  {
   "cell_type": "markdown",
   "metadata": {},
   "source": [
    "* [Примеры графиков с кодом в matplotlib](https://matplotlib.org/gallery/index.html)\n",
    "* [Очень продвинутый гайд по библиотеке](https://realpython.com/python-matplotlib-guide/)\n",
    "* [Большой список цветов в matplotlib](https://matplotlib.org/examples/color/named_colors.html)"
   ]
  },
  {
   "cell_type": "code",
   "execution_count": null,
   "metadata": {},
   "outputs": [],
   "source": []
  },
  {
   "cell_type": "code",
   "execution_count": null,
   "metadata": {},
   "outputs": [],
   "source": []
  },
  {
   "cell_type": "code",
   "execution_count": null,
   "metadata": {},
   "outputs": [],
   "source": []
  },
  {
   "cell_type": "code",
   "execution_count": null,
   "metadata": {},
   "outputs": [],
   "source": []
  },
  {
   "cell_type": "code",
   "execution_count": null,
   "metadata": {},
   "outputs": [],
   "source": []
  },
  {
   "cell_type": "code",
   "execution_count": null,
   "metadata": {},
   "outputs": [],
   "source": []
  },
  {
   "cell_type": "code",
   "execution_count": 157,
   "metadata": {},
   "outputs": [],
   "source": [
    "import time\n",
    "import datetime as dt\n",
    "import vk\n",
    "import vk_api\n",
    "from tqdm import tqdm_notebook\n",
    "from pandas.io.json import json_normalize\n",
    "\n",
    "# Получаем токен и авторизуиуремся в vk api\n",
    "TOKEN ='3ea3cd2b5291a156abf031512ee87abe97274409f6387c683acb2cd588dfc101e57dc3abaf1e18c90d302'#&expires_in=0&user_id=32313854\n",
    "MY_ID = '32313854'\n",
    "VERSION = 5.87\n",
    "\n",
    "session = vk.Session(access_token = TOKEN)\n",
    "api = vk.API(session,v = VERSION)"
   ]
  },
  {
   "cell_type": "code",
   "execution_count": 158,
   "metadata": {},
   "outputs": [],
   "source": [
    "def get_my_friends(user_id, VERSION):\n",
    "    my_friends = api('friends.get',user_id = user_id,v = VERSION)\n",
    "    count = my_friends['count']\n",
    "    ids = my_friends['items']\n",
    "    return count, ids\n",
    "\n",
    "def get_user_info(id_list,VERSION):\n",
    "    \n",
    "    frame = pd.DataFrame([])\n",
    "\n",
    "    for i in range(len(id_list)//1000+1):\n",
    "        time.sleep(0.5)\n",
    "        users = api.users.get(user_ids=id_list[i*1000:(i+1)*1000], access_token = TOKEN,\n",
    "                                  fields=['sex', 'bdate', 'city', 'home_town', 'personal','last_seen',\n",
    "                                          'relation','universities','verified', 'followers_count'], v = VERSION)\n",
    "        frame = frame.append(pd.DataFrame(users))\n",
    "    frame = frame[frame.deactivated.isnull()]\n",
    "    return frame"
   ]
  },
  {
   "cell_type": "code",
   "execution_count": 159,
   "metadata": {},
   "outputs": [
    {
     "ename": "VkAPIError",
     "evalue": "5. User authorization failed: invalid session.. request_params = {'oauth': '1', 'method': 'friends.get', 'v': '5.87', 'user_id': '32313854'}",
     "output_type": "error",
     "traceback": [
      "\u001b[0;31m---------------------------------------------------------------------------\u001b[0m",
      "\u001b[0;31mVkAPIError\u001b[0m                                Traceback (most recent call last)",
      "\u001b[0;32m<ipython-input-159-081d34103067>\u001b[0m in \u001b[0;36m<module>\u001b[0;34m()\u001b[0m\n\u001b[0;32m----> 1\u001b[0;31m \u001b[0mfriend_count\u001b[0m\u001b[0;34m,\u001b[0m \u001b[0mfriend_ids\u001b[0m \u001b[0;34m=\u001b[0m \u001b[0mget_my_friends\u001b[0m\u001b[0;34m(\u001b[0m\u001b[0mMY_ID\u001b[0m\u001b[0;34m,\u001b[0m\u001b[0mVERSION\u001b[0m\u001b[0;34m)\u001b[0m\u001b[0;34m\u001b[0m\u001b[0m\n\u001b[0m\u001b[1;32m      2\u001b[0m \u001b[0;34m\u001b[0m\u001b[0m\n\u001b[1;32m      3\u001b[0m \u001b[0mfriend_count_list\u001b[0m \u001b[0;34m=\u001b[0m \u001b[0;34m[\u001b[0m\u001b[0;34m]\u001b[0m\u001b[0;34m\u001b[0m\u001b[0m\n\u001b[1;32m      4\u001b[0m \u001b[0mfriend_ids_list\u001b[0m \u001b[0;34m=\u001b[0m \u001b[0;34m[\u001b[0m\u001b[0;34m]\u001b[0m\u001b[0;34m\u001b[0m\u001b[0m\n\u001b[1;32m      5\u001b[0m \u001b[0;34m\u001b[0m\u001b[0m\n",
      "\u001b[0;32m<ipython-input-158-43e7f9a18ecb>\u001b[0m in \u001b[0;36mget_my_friends\u001b[0;34m(user_id, VERSION)\u001b[0m\n\u001b[1;32m      1\u001b[0m \u001b[0;32mdef\u001b[0m \u001b[0mget_my_friends\u001b[0m\u001b[0;34m(\u001b[0m\u001b[0muser_id\u001b[0m\u001b[0;34m,\u001b[0m \u001b[0mVERSION\u001b[0m\u001b[0;34m)\u001b[0m\u001b[0;34m:\u001b[0m\u001b[0;34m\u001b[0m\u001b[0m\n\u001b[0;32m----> 2\u001b[0;31m     \u001b[0mmy_friends\u001b[0m \u001b[0;34m=\u001b[0m \u001b[0mapi\u001b[0m\u001b[0;34m(\u001b[0m\u001b[0;34m'friends.get'\u001b[0m\u001b[0;34m,\u001b[0m\u001b[0muser_id\u001b[0m \u001b[0;34m=\u001b[0m \u001b[0muser_id\u001b[0m\u001b[0;34m,\u001b[0m\u001b[0mv\u001b[0m \u001b[0;34m=\u001b[0m \u001b[0mVERSION\u001b[0m\u001b[0;34m)\u001b[0m\u001b[0;34m\u001b[0m\u001b[0m\n\u001b[0m\u001b[1;32m      3\u001b[0m     \u001b[0mcount\u001b[0m \u001b[0;34m=\u001b[0m \u001b[0mmy_friends\u001b[0m\u001b[0;34m[\u001b[0m\u001b[0;34m'count'\u001b[0m\u001b[0;34m]\u001b[0m\u001b[0;34m\u001b[0m\u001b[0m\n\u001b[1;32m      4\u001b[0m     \u001b[0mids\u001b[0m \u001b[0;34m=\u001b[0m \u001b[0mmy_friends\u001b[0m\u001b[0;34m[\u001b[0m\u001b[0;34m'items'\u001b[0m\u001b[0;34m]\u001b[0m\u001b[0;34m\u001b[0m\u001b[0m\n\u001b[1;32m      5\u001b[0m     \u001b[0;32mreturn\u001b[0m \u001b[0mcount\u001b[0m\u001b[0;34m,\u001b[0m \u001b[0mids\u001b[0m\u001b[0;34m\u001b[0m\u001b[0m\n",
      "\u001b[0;32m/anaconda/lib/python3.6/site-packages/vk/api.py\u001b[0m in \u001b[0;36m__call__\u001b[0;34m(self, method_name, **method_kwargs)\u001b[0m\n\u001b[1;32m    156\u001b[0m \u001b[0;34m\u001b[0m\u001b[0m\n\u001b[1;32m    157\u001b[0m     \u001b[0;32mdef\u001b[0m \u001b[0m__call__\u001b[0m\u001b[0;34m(\u001b[0m\u001b[0mself\u001b[0m\u001b[0;34m,\u001b[0m \u001b[0mmethod_name\u001b[0m\u001b[0;34m,\u001b[0m \u001b[0;34m**\u001b[0m\u001b[0mmethod_kwargs\u001b[0m\u001b[0;34m)\u001b[0m\u001b[0;34m:\u001b[0m\u001b[0;34m\u001b[0m\u001b[0m\n\u001b[0;32m--> 158\u001b[0;31m         \u001b[0;32mreturn\u001b[0m \u001b[0mgetattr\u001b[0m\u001b[0;34m(\u001b[0m\u001b[0mself\u001b[0m\u001b[0;34m,\u001b[0m \u001b[0mmethod_name\u001b[0m\u001b[0;34m)\u001b[0m\u001b[0;34m(\u001b[0m\u001b[0;34m**\u001b[0m\u001b[0mmethod_kwargs\u001b[0m\u001b[0;34m)\u001b[0m\u001b[0;34m\u001b[0m\u001b[0m\n\u001b[0m\u001b[1;32m    159\u001b[0m \u001b[0;34m\u001b[0m\u001b[0m\n\u001b[1;32m    160\u001b[0m \u001b[0;34m\u001b[0m\u001b[0m\n",
      "\u001b[0;32m/anaconda/lib/python3.6/site-packages/vk/api.py\u001b[0m in \u001b[0;36m__call__\u001b[0;34m(self, **method_args)\u001b[0m\n\u001b[1;32m    171\u001b[0m     \u001b[0;32mdef\u001b[0m \u001b[0m__call__\u001b[0m\u001b[0;34m(\u001b[0m\u001b[0mself\u001b[0m\u001b[0;34m,\u001b[0m \u001b[0;34m**\u001b[0m\u001b[0mmethod_args\u001b[0m\u001b[0;34m)\u001b[0m\u001b[0;34m:\u001b[0m\u001b[0;34m\u001b[0m\u001b[0m\n\u001b[1;32m    172\u001b[0m         \u001b[0mself\u001b[0m\u001b[0;34m.\u001b[0m\u001b[0m_method_args\u001b[0m \u001b[0;34m=\u001b[0m \u001b[0mmethod_args\u001b[0m\u001b[0;34m\u001b[0m\u001b[0m\n\u001b[0;32m--> 173\u001b[0;31m         \u001b[0;32mreturn\u001b[0m \u001b[0mself\u001b[0m\u001b[0;34m.\u001b[0m\u001b[0m_api\u001b[0m\u001b[0;34m.\u001b[0m\u001b[0m_session\u001b[0m\u001b[0;34m.\u001b[0m\u001b[0mmake_request\u001b[0m\u001b[0;34m(\u001b[0m\u001b[0mself\u001b[0m\u001b[0;34m)\u001b[0m\u001b[0;34m\u001b[0m\u001b[0m\n\u001b[0m\u001b[1;32m    174\u001b[0m \u001b[0;34m\u001b[0m\u001b[0m\n\u001b[1;32m    175\u001b[0m \u001b[0;34m\u001b[0m\u001b[0m\n",
      "\u001b[0;32m/anaconda/lib/python3.6/site-packages/vk/api.py\u001b[0m in \u001b[0;36mmake_request\u001b[0;34m(self, method_request, captcha_response)\u001b[0m\n\u001b[1;32m    100\u001b[0m \u001b[0;34m\u001b[0m\u001b[0m\n\u001b[1;32m    101\u001b[0m                 \u001b[0;32melse\u001b[0m\u001b[0;34m:\u001b[0m\u001b[0;34m\u001b[0m\u001b[0m\n\u001b[0;32m--> 102\u001b[0;31m                     \u001b[0;32mraise\u001b[0m \u001b[0merror\u001b[0m\u001b[0;34m\u001b[0m\u001b[0m\n\u001b[0m\u001b[1;32m    103\u001b[0m \u001b[0;34m\u001b[0m\u001b[0m\n\u001b[1;32m    104\u001b[0m     \u001b[0;32mdef\u001b[0m \u001b[0msend_api_request\u001b[0m\u001b[0;34m(\u001b[0m\u001b[0mself\u001b[0m\u001b[0;34m,\u001b[0m \u001b[0mrequest\u001b[0m\u001b[0;34m,\u001b[0m \u001b[0mcaptcha_response\u001b[0m\u001b[0;34m=\u001b[0m\u001b[0;32mNone\u001b[0m\u001b[0;34m)\u001b[0m\u001b[0;34m:\u001b[0m\u001b[0;34m\u001b[0m\u001b[0m\n",
      "\u001b[0;31mVkAPIError\u001b[0m: 5. User authorization failed: invalid session.. request_params = {'oauth': '1', 'method': 'friends.get', 'v': '5.87', 'user_id': '32313854'}"
     ]
    }
   ],
   "source": [
    "friend_count, friend_ids = get_my_friends(MY_ID,VERSION)\n",
    "\n",
    "friend_count_list = []\n",
    "friend_ids_list = []\n",
    "\n",
    "for friend in tqdm_notebook(friend_ids):\n",
    "    try:\n",
    "        friend_count, friend_ids = get_my_friends(friend,VERSION)\n",
    "        friend_count_list.append(friend_count)\n",
    "        friend_ids_list += friend_ids\n",
    "        time.sleep(0.3)\n",
    "    except Exception:\n",
    "            continue\n",
    "            "
   ]
  },
  {
   "cell_type": "code",
   "execution_count": 146,
   "metadata": {},
   "outputs": [],
   "source": [
    "unique_friend_ids_list = np.unique(friend_ids_list)"
   ]
  },
  {
   "cell_type": "code",
   "execution_count": null,
   "metadata": {},
   "outputs": [],
   "source": []
  },
  {
   "cell_type": "code",
   "execution_count": null,
   "metadata": {},
   "outputs": [],
   "source": []
  },
  {
   "cell_type": "code",
   "execution_count": 153,
   "metadata": {},
   "outputs": [
    {
     "data": {
      "application/vnd.jupyter.widget-view+json": {
       "model_id": "b1206f959ee243bcbeadeddac234a61e"
      }
     },
     "metadata": {},
     "output_type": "display_data"
    },
    {
     "ename": "NameError",
     "evalue": "name 'json_normalize' is not defined",
     "output_type": "error",
     "traceback": [
      "\u001b[0;31m---------------------------------------------------------------------------\u001b[0m",
      "\u001b[0;31mNameError\u001b[0m                                 Traceback (most recent call last)",
      "\u001b[0;32m<ipython-input-153-e4cdeca86614>\u001b[0m in \u001b[0;36m<module>\u001b[0;34m()\u001b[0m\n\u001b[1;32m      9\u001b[0m     \u001b[0musers\u001b[0m \u001b[0;34m+=\u001b[0m \u001b[0muser\u001b[0m\u001b[0;34m\u001b[0m\u001b[0m\n\u001b[1;32m     10\u001b[0m \u001b[0;34m\u001b[0m\u001b[0m\n\u001b[0;32m---> 11\u001b[0;31m \u001b[0musers\u001b[0m \u001b[0;34m=\u001b[0m \u001b[0mjson_normalize\u001b[0m\u001b[0;34m(\u001b[0m\u001b[0musers\u001b[0m\u001b[0;34m)\u001b[0m \u001b[0;31m# преобразуем в фрейм\u001b[0m\u001b[0;34m\u001b[0m\u001b[0m\n\u001b[0m\u001b[1;32m     12\u001b[0m \u001b[0musers\u001b[0m \u001b[0;34m=\u001b[0m \u001b[0musers\u001b[0m\u001b[0;34m[\u001b[0m\u001b[0musers\u001b[0m\u001b[0;34m.\u001b[0m\u001b[0mdeactivated\u001b[0m\u001b[0;34m.\u001b[0m\u001b[0misnull\u001b[0m\u001b[0;34m(\u001b[0m\u001b[0;34m)\u001b[0m\u001b[0;34m]\u001b[0m \u001b[0;31m# очищаем от забаненных и заблокированных\u001b[0m\u001b[0;34m\u001b[0m\u001b[0m\n",
      "\u001b[0;31mNameError\u001b[0m: name 'json_normalize' is not defined"
     ]
    }
   ],
   "source": [
    "users = []\n",
    "\n",
    "for i in tqdm_notebook(range(len(unique_friend_ids_list)//1000+1), unit='request'):\n",
    "    time.sleep(0.3)\n",
    "    user = api.users.get(user_ids=unique_friend_ids_list[i*1000:(i+1)*1000], access_token = TOKEN,\n",
    "                         fields=['sex', 'bdate', 'city', 'home_town', 'personal', 'last_seen',\n",
    "                                 'relation','universities','verified', 'followers_count'])\n",
    "\n",
    "    users += user\n",
    "    \n",
    "users = json_normalize(users) # преобразуем в фрейм\n",
    "users = users[users.deactivated.isnull()] # очищаем от забаненных и заблокированных"
   ]
  },
  {
   "cell_type": "code",
   "execution_count": null,
   "metadata": {},
   "outputs": [],
   "source": [
    "users.head()"
   ]
  },
  {
   "cell_type": "code",
   "execution_count": 131,
   "metadata": {},
   "outputs": [],
   "source": [
    "d = api('users.search',q = 'Максим Суровый')['items']"
   ]
  },
  {
   "cell_type": "code",
   "execution_count": 140,
   "metadata": {},
   "outputs": [
    {
     "data": {
      "text/plain": [
       "False"
      ]
     },
     "execution_count": 140,
     "metadata": {},
     "output_type": "execute_result"
    }
   ],
   "source": [
    "MY_ID in [d[i]['id'] for i in range(0,len(d))]"
   ]
  },
  {
   "cell_type": "code",
   "execution_count": null,
   "metadata": {},
   "outputs": [],
   "source": []
  },
  {
   "cell_type": "code",
   "execution_count": null,
   "metadata": {},
   "outputs": [],
   "source": []
  },
  {
   "cell_type": "code",
   "execution_count": null,
   "metadata": {},
   "outputs": [],
   "source": []
  },
  {
   "cell_type": "code",
   "execution_count": null,
   "metadata": {},
   "outputs": [],
   "source": []
  },
  {
   "cell_type": "markdown",
   "metadata": {},
   "source": [
    "Итак, в этом уроке мы попробуем решить совсем прикладную задачу и научимся работать с табличными данными.<br>\n",
    "А именно:\n",
    "* узнаем как работать с файлом, который весит **30+ мегабайт**.;\n",
    "* посчитаем **базовые статистики** в разных **разрезах и сегментах пользователей** и **уберем выбросы**;\n",
    "* поймем **как объединить таблицы** по ключу;\n",
    "* оформим **отчет по среднему чеку по дате и в разрезе категорий** и **отчет по оттоку пользователей**;\n",
    "* сделаем **отдельную функцию для отправления на почту**;\n",
    "<br>\n",
    "Но обо всем по порядку!\n"
   ]
  },
  {
   "cell_type": "markdown",
   "metadata": {},
   "source": [
    "Для начала прочитаем данные с помощью библиотеки [**pandas**](http://pandas.pydata.org/pandas-docs/stable/).<br>\n",
    "Наши довольно большие. Таблица более миллиона строк и в распакованном виде весит около **30 мб**<br>\n",
    "Это не так много, но вопрос сколько времени excel это будет читать оставляю вам на размышление)"
   ]
  },
  {
   "cell_type": "markdown",
   "metadata": {},
   "source": [
    "## 1. Загрузим наш файл."
   ]
  },
  {
   "cell_type": "code",
   "execution_count": 3,
   "metadata": {
    "scrolled": true
   },
   "outputs": [],
   "source": [
    "data = pd.read_csv('../data/mean_check/data.csv.gz', compression='gzip')"
   ]
  },
  {
   "cell_type": "markdown",
   "metadata": {},
   "source": [
    "Как и прежде, первое с чего нужно начать это с того чтобы понять что перел нами за данные.<br>\n",
    "Посмотрим на количество строк, колонки и типы данных. Также заметим что в распакованном виде наши **данные раздулись до 53+ мб**."
   ]
  },
  {
   "cell_type": "code",
   "execution_count": 4,
   "metadata": {},
   "outputs": [
    {
     "name": "stdout",
     "output_type": "stream",
     "text": [
      "У нас 1008889 строк и 7 колонок.\n",
      "---\n",
      "<class 'pandas.core.frame.DataFrame'>\n",
      "RangeIndex: 1008889 entries, 0 to 1008888\n",
      "Data columns (total 7 columns):\n",
      "mcc             1008889 non-null int64\n",
      "period          1008889 non-null object\n",
      "trdatetime      1008889 non-null object\n",
      "amount          1008889 non-null float64\n",
      "cl_id           1008889 non-null int64\n",
      "currency        1008889 non-null int64\n",
      "trx_category    1008889 non-null object\n",
      "dtypes: float64(1), int64(3), object(3)\n",
      "memory usage: 53.9+ MB\n",
      "None\n"
     ]
    }
   ],
   "source": [
    "print('У нас %s строк и %s колонок.'%data.shape)\n",
    "print('---')\n",
    "print(data.info())"
   ]
  },
  {
   "cell_type": "code",
   "execution_count": 5,
   "metadata": {},
   "outputs": [
    {
     "data": {
      "text/html": [
       "<div>\n",
       "<style scoped>\n",
       "    .dataframe tbody tr th:only-of-type {\n",
       "        vertical-align: middle;\n",
       "    }\n",
       "\n",
       "    .dataframe tbody tr th {\n",
       "        vertical-align: top;\n",
       "    }\n",
       "\n",
       "    .dataframe thead th {\n",
       "        text-align: right;\n",
       "    }\n",
       "</style>\n",
       "<table border=\"1\" class=\"dataframe\">\n",
       "  <thead>\n",
       "    <tr style=\"text-align: right;\">\n",
       "      <th></th>\n",
       "      <th>mcc</th>\n",
       "      <th>amount</th>\n",
       "      <th>cl_id</th>\n",
       "      <th>currency</th>\n",
       "    </tr>\n",
       "  </thead>\n",
       "  <tbody>\n",
       "    <tr>\n",
       "      <th>count</th>\n",
       "      <td>1.008889e+06</td>\n",
       "      <td>1.008889e+06</td>\n",
       "      <td>1.008889e+06</td>\n",
       "      <td>1.008889e+06</td>\n",
       "    </tr>\n",
       "    <tr>\n",
       "      <th>mean</th>\n",
       "      <td>5.695758e+03</td>\n",
       "      <td>5.613910e+03</td>\n",
       "      <td>4.792338e+03</td>\n",
       "      <td>8.106325e+02</td>\n",
       "    </tr>\n",
       "    <tr>\n",
       "      <th>std</th>\n",
       "      <td>6.629852e+02</td>\n",
       "      <td>6.258510e+04</td>\n",
       "      <td>2.956989e+03</td>\n",
       "      <td>3.869616e+01</td>\n",
       "    </tr>\n",
       "    <tr>\n",
       "      <th>min</th>\n",
       "      <td>7.420000e+02</td>\n",
       "      <td>1.000000e-02</td>\n",
       "      <td>0.000000e+00</td>\n",
       "      <td>3.200000e+01</td>\n",
       "    </tr>\n",
       "    <tr>\n",
       "      <th>25%</th>\n",
       "      <td>5.411000e+03</td>\n",
       "      <td>2.200000e+02</td>\n",
       "      <td>2.184000e+03</td>\n",
       "      <td>8.100000e+02</td>\n",
       "    </tr>\n",
       "    <tr>\n",
       "      <th>50%</th>\n",
       "      <td>5.661000e+03</td>\n",
       "      <td>6.162000e+02</td>\n",
       "      <td>4.586000e+03</td>\n",
       "      <td>8.100000e+02</td>\n",
       "    </tr>\n",
       "    <tr>\n",
       "      <th>75%</th>\n",
       "      <td>5.941000e+03</td>\n",
       "      <td>2.147000e+03</td>\n",
       "      <td>7.350000e+03</td>\n",
       "      <td>8.100000e+02</td>\n",
       "    </tr>\n",
       "    <tr>\n",
       "      <th>max</th>\n",
       "      <td>9.405000e+03</td>\n",
       "      <td>3.583500e+07</td>\n",
       "      <td>1.021600e+04</td>\n",
       "      <td>9.860000e+02</td>\n",
       "    </tr>\n",
       "  </tbody>\n",
       "</table>\n",
       "</div>"
      ],
      "text/plain": [
       "                mcc        amount         cl_id      currency\n",
       "count  1.008889e+06  1.008889e+06  1.008889e+06  1.008889e+06\n",
       "mean   5.695758e+03  5.613910e+03  4.792338e+03  8.106325e+02\n",
       "std    6.629852e+02  6.258510e+04  2.956989e+03  3.869616e+01\n",
       "min    7.420000e+02  1.000000e-02  0.000000e+00  3.200000e+01\n",
       "25%    5.411000e+03  2.200000e+02  2.184000e+03  8.100000e+02\n",
       "50%    5.661000e+03  6.162000e+02  4.586000e+03  8.100000e+02\n",
       "75%    5.941000e+03  2.147000e+03  7.350000e+03  8.100000e+02\n",
       "max    9.405000e+03  3.583500e+07  1.021600e+04  9.860000e+02"
      ]
     },
     "execution_count": 5,
     "metadata": {},
     "output_type": "execute_result"
    }
   ],
   "source": [
    "data.describe()"
   ]
  },
  {
   "cell_type": "markdown",
   "metadata": {},
   "source": [
    "И посмотрим на первые 3 строчки."
   ]
  },
  {
   "cell_type": "code",
   "execution_count": 6,
   "metadata": {},
   "outputs": [
    {
     "data": {
      "text/html": [
       "<div>\n",
       "<style scoped>\n",
       "    .dataframe tbody tr th:only-of-type {\n",
       "        vertical-align: middle;\n",
       "    }\n",
       "\n",
       "    .dataframe tbody tr th {\n",
       "        vertical-align: top;\n",
       "    }\n",
       "\n",
       "    .dataframe thead th {\n",
       "        text-align: right;\n",
       "    }\n",
       "</style>\n",
       "<table border=\"1\" class=\"dataframe\">\n",
       "  <thead>\n",
       "    <tr style=\"text-align: right;\">\n",
       "      <th></th>\n",
       "      <th>mcc</th>\n",
       "      <th>period</th>\n",
       "      <th>trdatetime</th>\n",
       "      <th>amount</th>\n",
       "      <th>cl_id</th>\n",
       "      <th>currency</th>\n",
       "      <th>trx_category</th>\n",
       "    </tr>\n",
       "  </thead>\n",
       "  <tbody>\n",
       "    <tr>\n",
       "      <th>0</th>\n",
       "      <td>5200</td>\n",
       "      <td>01/10/2017</td>\n",
       "      <td>21OCT17:00:00:00</td>\n",
       "      <td>5023.0</td>\n",
       "      <td>0</td>\n",
       "      <td>810</td>\n",
       "      <td>POS</td>\n",
       "    </tr>\n",
       "    <tr>\n",
       "      <th>1</th>\n",
       "      <td>6011</td>\n",
       "      <td>01/10/2017</td>\n",
       "      <td>12OCT17:12:24:07</td>\n",
       "      <td>20000.0</td>\n",
       "      <td>0</td>\n",
       "      <td>810</td>\n",
       "      <td>DEPOSIT</td>\n",
       "    </tr>\n",
       "    <tr>\n",
       "      <th>2</th>\n",
       "      <td>5921</td>\n",
       "      <td>01/12/2017</td>\n",
       "      <td>05DEC17:00:00:00</td>\n",
       "      <td>767.0</td>\n",
       "      <td>0</td>\n",
       "      <td>810</td>\n",
       "      <td>POS</td>\n",
       "    </tr>\n",
       "  </tbody>\n",
       "</table>\n",
       "</div>"
      ],
      "text/plain": [
       "    mcc      period        trdatetime   amount  cl_id  currency trx_category\n",
       "0  5200  01/10/2017  21OCT17:00:00:00   5023.0      0       810          POS\n",
       "1  6011  01/10/2017  12OCT17:12:24:07  20000.0      0       810      DEPOSIT\n",
       "2  5921  01/12/2017  05DEC17:00:00:00    767.0      0       810          POS"
      ]
     },
     "execution_count": 6,
     "metadata": {},
     "output_type": "execute_result"
    }
   ],
   "source": [
    "data.head(3)"
   ]
  },
  {
   "cell_type": "markdown",
   "metadata": {},
   "source": [
    "Сразу можно заметить, что у нас транзакционный датасет. Так как это реальные данные, то некоторые поля заменяются приватными значения, как например тут категория валюты.<br> "
   ]
  },
  {
   "cell_type": "markdown",
   "metadata": {},
   "source": [
    "Мы можем посчитать сколько унас валют всего, чтобы понять масштабы."
   ]
  },
  {
   "cell_type": "code",
   "execution_count": 9,
   "metadata": {},
   "outputs": [
    {
     "data": {
      "text/plain": [
       "67"
      ]
     },
     "execution_count": 9,
     "metadata": {},
     "output_type": "execute_result"
    }
   ],
   "source": [
    "len(data['currency'].unique())"
   ]
  },
  {
   "cell_type": "markdown",
   "metadata": {},
   "source": [
    "И посмотреть что у нас за категории. Смутно можно понять, что они связаны с типом транзакции, например <br>\n",
    "`WD_ATM_PARTNER` это снятие с банкомата партнера, а `POS` это потребительский кредит, тоесть оплата с кредитной карты."
   ]
  },
  {
   "cell_type": "code",
   "execution_count": 11,
   "metadata": {},
   "outputs": [
    {
     "data": {
      "text/plain": [
       "array(['POS', 'DEPOSIT', 'C2C_OUT', 'WD_ATM_ROS', 'BACK_TRX',\n",
       "       'WD_ATM_PARTNER', 'WD_ATM_OTHER', 'C2C_IN', 'CAT', 'CASH_ADV'],\n",
       "      dtype=object)"
      ]
     },
     "execution_count": 11,
     "metadata": {},
     "output_type": "execute_result"
    }
   ],
   "source": [
    "data.trx_category.unique()"
   ]
  },
  {
   "cell_type": "code",
   "execution_count": 12,
   "metadata": {},
   "outputs": [
    {
     "data": {
      "text/html": [
       "<div>\n",
       "<style scoped>\n",
       "    .dataframe tbody tr th:only-of-type {\n",
       "        vertical-align: middle;\n",
       "    }\n",
       "\n",
       "    .dataframe tbody tr th {\n",
       "        vertical-align: top;\n",
       "    }\n",
       "\n",
       "    .dataframe thead th {\n",
       "        text-align: right;\n",
       "    }\n",
       "</style>\n",
       "<table border=\"1\" class=\"dataframe\">\n",
       "  <thead>\n",
       "    <tr style=\"text-align: right;\">\n",
       "      <th></th>\n",
       "      <th>mcc</th>\n",
       "      <th>period</th>\n",
       "      <th>trdatetime</th>\n",
       "      <th>amount</th>\n",
       "      <th>cl_id</th>\n",
       "      <th>currency</th>\n",
       "      <th>trx_category</th>\n",
       "    </tr>\n",
       "  </thead>\n",
       "  <tbody>\n",
       "    <tr>\n",
       "      <th>0</th>\n",
       "      <td>5200</td>\n",
       "      <td>01/10/2017</td>\n",
       "      <td>21OCT17:00:00:00</td>\n",
       "      <td>5023.0</td>\n",
       "      <td>0</td>\n",
       "      <td>810</td>\n",
       "      <td>POS</td>\n",
       "    </tr>\n",
       "    <tr>\n",
       "      <th>1</th>\n",
       "      <td>6011</td>\n",
       "      <td>01/10/2017</td>\n",
       "      <td>12OCT17:12:24:07</td>\n",
       "      <td>20000.0</td>\n",
       "      <td>0</td>\n",
       "      <td>810</td>\n",
       "      <td>DEPOSIT</td>\n",
       "    </tr>\n",
       "    <tr>\n",
       "      <th>2</th>\n",
       "      <td>5921</td>\n",
       "      <td>01/12/2017</td>\n",
       "      <td>05DEC17:00:00:00</td>\n",
       "      <td>767.0</td>\n",
       "      <td>0</td>\n",
       "      <td>810</td>\n",
       "      <td>POS</td>\n",
       "    </tr>\n",
       "    <tr>\n",
       "      <th>3</th>\n",
       "      <td>5411</td>\n",
       "      <td>01/10/2017</td>\n",
       "      <td>21OCT17:00:00:00</td>\n",
       "      <td>2031.0</td>\n",
       "      <td>0</td>\n",
       "      <td>810</td>\n",
       "      <td>POS</td>\n",
       "    </tr>\n",
       "    <tr>\n",
       "      <th>4</th>\n",
       "      <td>6012</td>\n",
       "      <td>01/10/2017</td>\n",
       "      <td>24OCT17:13:14:24</td>\n",
       "      <td>36562.0</td>\n",
       "      <td>0</td>\n",
       "      <td>810</td>\n",
       "      <td>C2C_OUT</td>\n",
       "    </tr>\n",
       "  </tbody>\n",
       "</table>\n",
       "</div>"
      ],
      "text/plain": [
       "    mcc      period        trdatetime   amount  cl_id  currency trx_category\n",
       "0  5200  01/10/2017  21OCT17:00:00:00   5023.0      0       810          POS\n",
       "1  6011  01/10/2017  12OCT17:12:24:07  20000.0      0       810      DEPOSIT\n",
       "2  5921  01/12/2017  05DEC17:00:00:00    767.0      0       810          POS\n",
       "3  5411  01/10/2017  21OCT17:00:00:00   2031.0      0       810          POS\n",
       "4  6012  01/10/2017  24OCT17:13:14:24  36562.0      0       810      C2C_OUT"
      ]
     },
     "execution_count": 12,
     "metadata": {},
     "output_type": "execute_result"
    }
   ],
   "source": [
    "data.head()"
   ]
  },
  {
   "cell_type": "markdown",
   "metadata": {},
   "source": [
    "Сразу бросается в глаза дата транзакции и ее формат, поэтому давайте приведем ее в нормальный вид.<br>\n",
    "А так же отдельные колонки для года/месяца/дня/времени и соединим месяц с годом, для удобства <br>\n",
    "(так как у нас данные за несколько лет), чтобы потом сделать помесячные отчеты.<br>\n",
    "Чтобы не потерять и не испортить данные, лучше делать отдельные колонки."
   ]
  },
  {
   "cell_type": "code",
   "execution_count": 13,
   "metadata": {},
   "outputs": [],
   "source": [
    "# преобразование даты\n",
    "data['period'] = pd.to_datetime(data['period'], format='%d/%m/%Y')\n",
    "\n",
    "# преобразование времени\n",
    "data['transac_time'] = data['trdatetime'].str[-11:-3]\n",
    "\n",
    "# разные компоненты даты по столбцам\n",
    "data['transac_day'] = data['trdatetime'].str[:2]\n",
    "month_dict={'JAN':'01', 'FEB':'02', 'MAR':'03', 'APR':'04', 'MAY':'05', 'JUN':'06', \n",
    "            'JUL':'07', 'AUG':'08', 'SEP':'09', 'OCT':'10', 'NOV':'11', 'DEC':'12'}\n",
    "data['transac_month'] = data['trdatetime'].str[2:5].map(month_dict)\n",
    "data['transac_year'] = '20'+data['trdatetime'].str[5:7]\n",
    "\n",
    "# комбинированное поле месяц-год\n",
    "#data['transac_year_month'] = data['period'].apply(lambda x: x.strftime('%m-%Y')) \n",
    "data['transac_year_month'] = '20'+data['trdatetime'].str[5:7]+'-'+data['trdatetime'].str[2:5].map(month_dict)"
   ]
  },
  {
   "cell_type": "code",
   "execution_count": 14,
   "metadata": {},
   "outputs": [
    {
     "data": {
      "text/html": [
       "<div>\n",
       "<style scoped>\n",
       "    .dataframe tbody tr th:only-of-type {\n",
       "        vertical-align: middle;\n",
       "    }\n",
       "\n",
       "    .dataframe tbody tr th {\n",
       "        vertical-align: top;\n",
       "    }\n",
       "\n",
       "    .dataframe thead th {\n",
       "        text-align: right;\n",
       "    }\n",
       "</style>\n",
       "<table border=\"1\" class=\"dataframe\">\n",
       "  <thead>\n",
       "    <tr style=\"text-align: right;\">\n",
       "      <th></th>\n",
       "      <th>mcc</th>\n",
       "      <th>period</th>\n",
       "      <th>trdatetime</th>\n",
       "      <th>amount</th>\n",
       "      <th>cl_id</th>\n",
       "      <th>currency</th>\n",
       "      <th>trx_category</th>\n",
       "      <th>transac_time</th>\n",
       "      <th>transac_day</th>\n",
       "      <th>transac_month</th>\n",
       "      <th>transac_year</th>\n",
       "      <th>transac_year_month</th>\n",
       "    </tr>\n",
       "  </thead>\n",
       "  <tbody>\n",
       "    <tr>\n",
       "      <th>0</th>\n",
       "      <td>5200</td>\n",
       "      <td>2017-10-01</td>\n",
       "      <td>21OCT17:00:00:00</td>\n",
       "      <td>5023.0</td>\n",
       "      <td>0</td>\n",
       "      <td>810</td>\n",
       "      <td>POS</td>\n",
       "      <td>17:00:00</td>\n",
       "      <td>21</td>\n",
       "      <td>10</td>\n",
       "      <td>2017</td>\n",
       "      <td>2017-10</td>\n",
       "    </tr>\n",
       "    <tr>\n",
       "      <th>1</th>\n",
       "      <td>6011</td>\n",
       "      <td>2017-10-01</td>\n",
       "      <td>12OCT17:12:24:07</td>\n",
       "      <td>20000.0</td>\n",
       "      <td>0</td>\n",
       "      <td>810</td>\n",
       "      <td>DEPOSIT</td>\n",
       "      <td>17:12:24</td>\n",
       "      <td>12</td>\n",
       "      <td>10</td>\n",
       "      <td>2017</td>\n",
       "      <td>2017-10</td>\n",
       "    </tr>\n",
       "    <tr>\n",
       "      <th>2</th>\n",
       "      <td>5921</td>\n",
       "      <td>2017-12-01</td>\n",
       "      <td>05DEC17:00:00:00</td>\n",
       "      <td>767.0</td>\n",
       "      <td>0</td>\n",
       "      <td>810</td>\n",
       "      <td>POS</td>\n",
       "      <td>17:00:00</td>\n",
       "      <td>05</td>\n",
       "      <td>12</td>\n",
       "      <td>2017</td>\n",
       "      <td>2017-12</td>\n",
       "    </tr>\n",
       "  </tbody>\n",
       "</table>\n",
       "</div>"
      ],
      "text/plain": [
       "    mcc     period        trdatetime   amount  cl_id  currency trx_category  \\\n",
       "0  5200 2017-10-01  21OCT17:00:00:00   5023.0      0       810          POS   \n",
       "1  6011 2017-10-01  12OCT17:12:24:07  20000.0      0       810      DEPOSIT   \n",
       "2  5921 2017-12-01  05DEC17:00:00:00    767.0      0       810          POS   \n",
       "\n",
       "  transac_time transac_day transac_month transac_year transac_year_month  \n",
       "0     17:00:00          21            10         2017            2017-10  \n",
       "1     17:12:24          12            10         2017            2017-10  \n",
       "2     17:00:00          05            12         2017            2017-12  "
      ]
     },
     "execution_count": 14,
     "metadata": {},
     "output_type": "execute_result"
    }
   ],
   "source": [
    "data.head(3)"
   ]
  },
  {
   "cell_type": "markdown",
   "metadata": {},
   "source": [
    "Отлично, давайте теперь посмотрим на экстримальные значения наших транзакций."
   ]
  },
  {
   "cell_type": "code",
   "execution_count": 18,
   "metadata": {},
   "outputs": [
    {
     "data": {
      "text/html": [
       "<div>\n",
       "<style scoped>\n",
       "    .dataframe tbody tr th:only-of-type {\n",
       "        vertical-align: middle;\n",
       "    }\n",
       "\n",
       "    .dataframe tbody tr th {\n",
       "        vertical-align: top;\n",
       "    }\n",
       "\n",
       "    .dataframe thead th {\n",
       "        text-align: right;\n",
       "    }\n",
       "</style>\n",
       "<table border=\"1\" class=\"dataframe\">\n",
       "  <thead>\n",
       "    <tr style=\"text-align: right;\">\n",
       "      <th></th>\n",
       "      <th>min</th>\n",
       "      <th>mean</th>\n",
       "      <th>median</th>\n",
       "      <th>max</th>\n",
       "    </tr>\n",
       "    <tr>\n",
       "      <th>currency</th>\n",
       "      <th></th>\n",
       "      <th></th>\n",
       "      <th></th>\n",
       "      <th></th>\n",
       "    </tr>\n",
       "  </thead>\n",
       "  <tbody>\n",
       "    <tr>\n",
       "      <th>978</th>\n",
       "      <td>0.01</td>\n",
       "      <td>105.797974</td>\n",
       "      <td>29.00</td>\n",
       "      <td>9690.00</td>\n",
       "    </tr>\n",
       "    <tr>\n",
       "      <th>980</th>\n",
       "      <td>1.50</td>\n",
       "      <td>885.639098</td>\n",
       "      <td>282.00</td>\n",
       "      <td>15451.17</td>\n",
       "    </tr>\n",
       "    <tr>\n",
       "      <th>981</th>\n",
       "      <td>0.80</td>\n",
       "      <td>94.718251</td>\n",
       "      <td>35.62</td>\n",
       "      <td>1306.00</td>\n",
       "    </tr>\n",
       "    <tr>\n",
       "      <th>985</th>\n",
       "      <td>0.99</td>\n",
       "      <td>101.715674</td>\n",
       "      <td>35.67</td>\n",
       "      <td>4800.00</td>\n",
       "    </tr>\n",
       "    <tr>\n",
       "      <th>986</th>\n",
       "      <td>6.00</td>\n",
       "      <td>88.106471</td>\n",
       "      <td>60.00</td>\n",
       "      <td>260.00</td>\n",
       "    </tr>\n",
       "  </tbody>\n",
       "</table>\n",
       "</div>"
      ],
      "text/plain": [
       "           min        mean  median       max\n",
       "currency                                    \n",
       "978       0.01  105.797974   29.00   9690.00\n",
       "980       1.50  885.639098  282.00  15451.17\n",
       "981       0.80   94.718251   35.62   1306.00\n",
       "985       0.99  101.715674   35.67   4800.00\n",
       "986       6.00   88.106471   60.00    260.00"
      ]
     },
     "execution_count": 18,
     "metadata": {},
     "output_type": "execute_result"
    }
   ],
   "source": [
    "data.groupby('currency')['amount'].agg(['min', 'mean', 'median','max']).tail()"
   ]
  },
  {
   "cell_type": "markdown",
   "metadata": {},
   "source": [
    "Ок, но не ясно что за валюты, может где-то можно найти соотвествие числовых кодов и хотябы привычных<br>\n",
    "трехбуквенных кодов вида **USD**, **EUR**, **RUB**?"
   ]
  },
  {
   "cell_type": "markdown",
   "metadata": {},
   "source": [
    "## 2. Расшифруем валютные коды."
   ]
  },
  {
   "cell_type": "code",
   "execution_count": 31,
   "metadata": {
    "scrolled": true
   },
   "outputs": [
    {
     "data": {
      "text/html": [
       "<div>\n",
       "<style scoped>\n",
       "    .dataframe tbody tr th:only-of-type {\n",
       "        vertical-align: middle;\n",
       "    }\n",
       "\n",
       "    .dataframe tbody tr th {\n",
       "        vertical-align: top;\n",
       "    }\n",
       "\n",
       "    .dataframe thead th {\n",
       "        text-align: right;\n",
       "    }\n",
       "</style>\n",
       "<table border=\"1\" class=\"dataframe\">\n",
       "  <thead>\n",
       "    <tr style=\"text-align: right;\">\n",
       "      <th></th>\n",
       "      <th>num_code</th>\n",
       "      <th>currency_code</th>\n",
       "      <th>title</th>\n",
       "    </tr>\n",
       "  </thead>\n",
       "  <tbody>\n",
       "    <tr>\n",
       "      <th>0</th>\n",
       "      <td>784</td>\n",
       "      <td>AED</td>\n",
       "      <td>United Arab Emirates dirham</td>\n",
       "    </tr>\n",
       "    <tr>\n",
       "      <th>1</th>\n",
       "      <td>971</td>\n",
       "      <td>AFN</td>\n",
       "      <td>Afghan afghani</td>\n",
       "    </tr>\n",
       "    <tr>\n",
       "      <th>2</th>\n",
       "      <td>8</td>\n",
       "      <td>ALL</td>\n",
       "      <td>Albanian lek</td>\n",
       "    </tr>\n",
       "    <tr>\n",
       "      <th>3</th>\n",
       "      <td>51</td>\n",
       "      <td>AMD</td>\n",
       "      <td>Armenian dram</td>\n",
       "    </tr>\n",
       "    <tr>\n",
       "      <th>4</th>\n",
       "      <td>532</td>\n",
       "      <td>ANG</td>\n",
       "      <td>Netherlands Antillean guilder</td>\n",
       "    </tr>\n",
       "  </tbody>\n",
       "</table>\n",
       "</div>"
      ],
      "text/plain": [
       "   num_code currency_code                          title\n",
       "0       784           AED    United Arab Emirates dirham\n",
       "1       971           AFN                 Afghan afghani\n",
       "2         8           ALL                   Albanian lek\n",
       "3        51           AMD                  Armenian dram\n",
       "4       532           ANG  Netherlands Antillean guilder"
      ]
     },
     "execution_count": 31,
     "metadata": {},
     "output_type": "execute_result"
    }
   ],
   "source": [
    "wiki_table = pd.read_csv('../data/mean_check/currency_codes_wiki.csv')\n",
    "wiki_table.head()"
   ]
  },
  {
   "cell_type": "code",
   "execution_count": 32,
   "metadata": {},
   "outputs": [
    {
     "name": "stdout",
     "output_type": "stream",
     "text": [
      "<class 'pandas.core.frame.DataFrame'>\n",
      "RangeIndex: 179 entries, 0 to 178\n",
      "Data columns (total 3 columns):\n",
      "num_code         179 non-null int64\n",
      "currency_code    179 non-null object\n",
      "title            178 non-null object\n",
      "dtypes: int64(1), object(2)\n",
      "memory usage: 4.3+ KB\n"
     ]
    }
   ],
   "source": [
    "wiki_table.info()"
   ]
  },
  {
   "cell_type": "code",
   "execution_count": 33,
   "metadata": {},
   "outputs": [
    {
     "name": "stdout",
     "output_type": "stream",
     "text": [
      "<class 'pandas.core.frame.DataFrame'>\n",
      "RangeIndex: 1008889 entries, 0 to 1008888\n",
      "Data columns (total 12 columns):\n",
      "mcc                   1008889 non-null int64\n",
      "period                1008889 non-null datetime64[ns]\n",
      "trdatetime            1008889 non-null object\n",
      "amount                1008889 non-null float64\n",
      "cl_id                 1008889 non-null int64\n",
      "currency              1008889 non-null int64\n",
      "trx_category          1008889 non-null object\n",
      "transac_time          1008889 non-null object\n",
      "transac_day           1008889 non-null object\n",
      "transac_month         1008889 non-null object\n",
      "transac_year          1008889 non-null object\n",
      "transac_year_month    1008889 non-null object\n",
      "dtypes: datetime64[ns](1), float64(1), int64(3), object(7)\n",
      "memory usage: 92.4+ MB\n"
     ]
    }
   ],
   "source": [
    "data.info()"
   ]
  },
  {
   "cell_type": "markdown",
   "metadata": {},
   "source": [
    "Переведем наши поля по которым будем мэтчить в один тип данных. Я выбрал `int`.<br>\n",
    "Приводить значения в таблице `wiki_table` нам не надо так как они уже в `int`."
   ]
  },
  {
   "cell_type": "code",
   "execution_count": 34,
   "metadata": {},
   "outputs": [],
   "source": [
    "#wiki_table['num_code'] = wiki_table['num_code'].astype(int)\n",
    "data['currency'] = data['currency'].astype(int)"
   ]
  },
  {
   "cell_type": "markdown",
   "metadata": {},
   "source": [
    "Чтобы совместить таблички нам нужно их \"смерджить\", то есть применить метод **.merge**, который дословно значит \"слить\".<br>\n",
    "Итак, смерджить таблички можно по-разному, как схематически показано ниже. И в зависимости от смысла задачи может требоваться <br>\n",
    "разный вид мерджа. В нашем случае нам нужен левый (left), чтобы притянуть все значения к левой табличке.<br>\n",
    "Про объединение таблиц и различного рода совмещения очень хорошо написано с примерами в [документации](https://pandas.pydata.org/pandas-docs/stable/merging.html).\n",
    "<img src=\"https://shanelynnwebsite-mid9n9g1q9y8tt.netdna-ssl.com/wp-content/uploads/2017/03/join-types-merge-names.jpg\"/> "
   ]
  },
  {
   "cell_type": "code",
   "execution_count": 37,
   "metadata": {},
   "outputs": [
    {
     "data": {
      "text/html": [
       "<div>\n",
       "<style scoped>\n",
       "    .dataframe tbody tr th:only-of-type {\n",
       "        vertical-align: middle;\n",
       "    }\n",
       "\n",
       "    .dataframe tbody tr th {\n",
       "        vertical-align: top;\n",
       "    }\n",
       "\n",
       "    .dataframe thead th {\n",
       "        text-align: right;\n",
       "    }\n",
       "</style>\n",
       "<table border=\"1\" class=\"dataframe\">\n",
       "  <thead>\n",
       "    <tr style=\"text-align: right;\">\n",
       "      <th></th>\n",
       "      <th>mcc</th>\n",
       "      <th>period</th>\n",
       "      <th>trdatetime</th>\n",
       "      <th>amount</th>\n",
       "      <th>cl_id</th>\n",
       "      <th>currency</th>\n",
       "      <th>trx_category</th>\n",
       "      <th>transac_time</th>\n",
       "      <th>transac_day</th>\n",
       "      <th>transac_month</th>\n",
       "      <th>transac_year</th>\n",
       "      <th>transac_year_month</th>\n",
       "      <th>num_code</th>\n",
       "      <th>currency_code</th>\n",
       "      <th>title</th>\n",
       "    </tr>\n",
       "  </thead>\n",
       "  <tbody>\n",
       "    <tr>\n",
       "      <th>0</th>\n",
       "      <td>5200</td>\n",
       "      <td>2017-10-01</td>\n",
       "      <td>21OCT17:00:00:00</td>\n",
       "      <td>5023.0</td>\n",
       "      <td>0</td>\n",
       "      <td>810</td>\n",
       "      <td>POS</td>\n",
       "      <td>17:00:00</td>\n",
       "      <td>21</td>\n",
       "      <td>10</td>\n",
       "      <td>2017</td>\n",
       "      <td>2017-10</td>\n",
       "      <td>NaN</td>\n",
       "      <td>NaN</td>\n",
       "      <td>NaN</td>\n",
       "    </tr>\n",
       "    <tr>\n",
       "      <th>1</th>\n",
       "      <td>6011</td>\n",
       "      <td>2017-10-01</td>\n",
       "      <td>12OCT17:12:24:07</td>\n",
       "      <td>20000.0</td>\n",
       "      <td>0</td>\n",
       "      <td>810</td>\n",
       "      <td>DEPOSIT</td>\n",
       "      <td>17:12:24</td>\n",
       "      <td>12</td>\n",
       "      <td>10</td>\n",
       "      <td>2017</td>\n",
       "      <td>2017-10</td>\n",
       "      <td>NaN</td>\n",
       "      <td>NaN</td>\n",
       "      <td>NaN</td>\n",
       "    </tr>\n",
       "    <tr>\n",
       "      <th>2</th>\n",
       "      <td>5921</td>\n",
       "      <td>2017-12-01</td>\n",
       "      <td>05DEC17:00:00:00</td>\n",
       "      <td>767.0</td>\n",
       "      <td>0</td>\n",
       "      <td>810</td>\n",
       "      <td>POS</td>\n",
       "      <td>17:00:00</td>\n",
       "      <td>05</td>\n",
       "      <td>12</td>\n",
       "      <td>2017</td>\n",
       "      <td>2017-12</td>\n",
       "      <td>NaN</td>\n",
       "      <td>NaN</td>\n",
       "      <td>NaN</td>\n",
       "    </tr>\n",
       "    <tr>\n",
       "      <th>3</th>\n",
       "      <td>5411</td>\n",
       "      <td>2017-10-01</td>\n",
       "      <td>21OCT17:00:00:00</td>\n",
       "      <td>2031.0</td>\n",
       "      <td>0</td>\n",
       "      <td>810</td>\n",
       "      <td>POS</td>\n",
       "      <td>17:00:00</td>\n",
       "      <td>21</td>\n",
       "      <td>10</td>\n",
       "      <td>2017</td>\n",
       "      <td>2017-10</td>\n",
       "      <td>NaN</td>\n",
       "      <td>NaN</td>\n",
       "      <td>NaN</td>\n",
       "    </tr>\n",
       "    <tr>\n",
       "      <th>4</th>\n",
       "      <td>6012</td>\n",
       "      <td>2017-10-01</td>\n",
       "      <td>24OCT17:13:14:24</td>\n",
       "      <td>36562.0</td>\n",
       "      <td>0</td>\n",
       "      <td>810</td>\n",
       "      <td>C2C_OUT</td>\n",
       "      <td>17:13:14</td>\n",
       "      <td>24</td>\n",
       "      <td>10</td>\n",
       "      <td>2017</td>\n",
       "      <td>2017-10</td>\n",
       "      <td>NaN</td>\n",
       "      <td>NaN</td>\n",
       "      <td>NaN</td>\n",
       "    </tr>\n",
       "  </tbody>\n",
       "</table>\n",
       "</div>"
      ],
      "text/plain": [
       "    mcc     period        trdatetime   amount  cl_id  currency trx_category  \\\n",
       "0  5200 2017-10-01  21OCT17:00:00:00   5023.0      0       810          POS   \n",
       "1  6011 2017-10-01  12OCT17:12:24:07  20000.0      0       810      DEPOSIT   \n",
       "2  5921 2017-12-01  05DEC17:00:00:00    767.0      0       810          POS   \n",
       "3  5411 2017-10-01  21OCT17:00:00:00   2031.0      0       810          POS   \n",
       "4  6012 2017-10-01  24OCT17:13:14:24  36562.0      0       810      C2C_OUT   \n",
       "\n",
       "  transac_time transac_day transac_month transac_year transac_year_month  \\\n",
       "0     17:00:00          21            10         2017            2017-10   \n",
       "1     17:12:24          12            10         2017            2017-10   \n",
       "2     17:00:00          05            12         2017            2017-12   \n",
       "3     17:00:00          21            10         2017            2017-10   \n",
       "4     17:13:14          24            10         2017            2017-10   \n",
       "\n",
       "   num_code currency_code title  \n",
       "0       NaN           NaN   NaN  \n",
       "1       NaN           NaN   NaN  \n",
       "2       NaN           NaN   NaN  \n",
       "3       NaN           NaN   NaN  \n",
       "4       NaN           NaN   NaN  "
      ]
     },
     "execution_count": 37,
     "metadata": {},
     "output_type": "execute_result"
    }
   ],
   "source": [
    "data.merge(wiki_table, left_on='currency', right_on='num_code', how='left').head()"
   ]
  },
  {
   "cell_type": "markdown",
   "metadata": {},
   "source": [
    "**WAT DA HELL?**"
   ]
  },
  {
   "cell_type": "markdown",
   "metadata": {},
   "source": [
    "Хух, ну вроде все верно, но что не так?"
   ]
  },
  {
   "cell_type": "code",
   "execution_count": 38,
   "metadata": {},
   "outputs": [
    {
     "data": {
      "text/plain": [
       "array([ nan, 978., 504., 704., 981., 985., 840., 949.,  51., 826., 214.,\n",
       "       764., 203., 702., 360., 756., 933., 975.,  36., 191., 784., 980.,\n",
       "       124., 398., 376., 944., 352., 417., 156., 752., 392., 484., 634.,\n",
       "       188., 643., 348., 356., 458., 986., 498., 578., 208., 344.,  32.,\n",
       "       410., 788., 480., 604., 941., 144., 946., 710., 690.,  44., 170.,\n",
       "       901., 608., 554., 462., 800., 977., 496., 516.,  48., 446., 404.,\n",
       "       524.])"
      ]
     },
     "execution_count": 38,
     "metadata": {},
     "output_type": "execute_result"
    }
   ],
   "source": [
    "data.merge(wiki_table, left_on='currency', right_on='num_code', how='left')['num_code'].unique()"
   ]
  },
  {
   "cell_type": "markdown",
   "metadata": {},
   "source": [
    "Дело в том, что в российских банках транзакции учитываюсь с кодом 810, который был введен **еще до деноминации 1998 года.** <br>\n",
    "<center>\n",
    "<img src=\"https://cs5.pikabu.ru/post_img/2015/12/04/5/1449210847155432089.jpg\"/> \n",
    "    \n",
    "А в международном стандарте у России код: 643, что мы и можем видеть в таблице ниже.<br>\n",
    "Внутренний код для платежей в рублях до сих пор 810, что немного смущет, если честно.<br>\n",
    "Вокруг этого ходит довольно много баек и мифов, но с другой стороны, по сути это всего лишь дирекция ЦБ России <br>\n",
    "и присутствие того или иного кода в платежке ни на что не влияет существенным образом.<br>\n",
    "Тем не менее, кому интересно, больше можно почитать [тут](https://goo.gl/Jb5rQG) и конкретно [тут](https://fincult.info/articles/valyuty/mify-i-pravda-o-valyutnykh-kodakh-rublya/).<br>\n",
    "Но вернемся к делу!"
   ]
  },
  {
   "cell_type": "code",
   "execution_count": 39,
   "metadata": {},
   "outputs": [
    {
     "data": {
      "text/html": [
       "<div>\n",
       "<style scoped>\n",
       "    .dataframe tbody tr th:only-of-type {\n",
       "        vertical-align: middle;\n",
       "    }\n",
       "\n",
       "    .dataframe tbody tr th {\n",
       "        vertical-align: top;\n",
       "    }\n",
       "\n",
       "    .dataframe thead th {\n",
       "        text-align: right;\n",
       "    }\n",
       "</style>\n",
       "<table border=\"1\" class=\"dataframe\">\n",
       "  <thead>\n",
       "    <tr style=\"text-align: right;\">\n",
       "      <th></th>\n",
       "      <th>num_code</th>\n",
       "      <th>currency_code</th>\n",
       "      <th>title</th>\n",
       "    </tr>\n",
       "  </thead>\n",
       "  <tbody>\n",
       "    <tr>\n",
       "      <th>120</th>\n",
       "      <td>643</td>\n",
       "      <td>RUB</td>\n",
       "      <td>Russian ruble</td>\n",
       "    </tr>\n",
       "  </tbody>\n",
       "</table>\n",
       "</div>"
      ],
      "text/plain": [
       "     num_code currency_code          title\n",
       "120       643           RUB  Russian ruble"
      ]
     },
     "execution_count": 39,
     "metadata": {},
     "output_type": "execute_result"
    }
   ],
   "source": [
    "wiki_table[wiki_table['title'] == 'Russian ruble']"
   ]
  },
  {
   "cell_type": "markdown",
   "metadata": {},
   "source": [
    "Поправим немного нашу таблицу, чтобы мы могли классифицировать наши транзакции полностью."
   ]
  },
  {
   "cell_type": "code",
   "execution_count": 40,
   "metadata": {},
   "outputs": [],
   "source": [
    "wiki_table = wiki_table.append({'num_code': 810, 'currency_code':'RUR','title':'Russian ruble'},ignore_index=True)"
   ]
  },
  {
   "cell_type": "markdown",
   "metadata": {},
   "source": [
    "В этот раз сохраним наши измениея, переназначив объект."
   ]
  },
  {
   "cell_type": "code",
   "execution_count": 54,
   "metadata": {},
   "outputs": [
    {
     "data": {
      "text/html": [
       "<div>\n",
       "<style scoped>\n",
       "    .dataframe tbody tr th:only-of-type {\n",
       "        vertical-align: middle;\n",
       "    }\n",
       "\n",
       "    .dataframe tbody tr th {\n",
       "        vertical-align: top;\n",
       "    }\n",
       "\n",
       "    .dataframe thead th {\n",
       "        text-align: right;\n",
       "    }\n",
       "</style>\n",
       "<table border=\"1\" class=\"dataframe\">\n",
       "  <thead>\n",
       "    <tr style=\"text-align: right;\">\n",
       "      <th></th>\n",
       "      <th>mcc</th>\n",
       "      <th>period</th>\n",
       "      <th>trdatetime</th>\n",
       "      <th>amount</th>\n",
       "      <th>cl_id</th>\n",
       "      <th>currency</th>\n",
       "      <th>trx_category</th>\n",
       "      <th>transac_time</th>\n",
       "      <th>transac_day</th>\n",
       "      <th>transac_month</th>\n",
       "      <th>transac_year</th>\n",
       "      <th>transac_year_month</th>\n",
       "      <th>num_code</th>\n",
       "      <th>currency_code</th>\n",
       "      <th>title</th>\n",
       "    </tr>\n",
       "  </thead>\n",
       "  <tbody>\n",
       "    <tr>\n",
       "      <th>0</th>\n",
       "      <td>5200</td>\n",
       "      <td>2017-10-01</td>\n",
       "      <td>21OCT17:00:00:00</td>\n",
       "      <td>5023.0</td>\n",
       "      <td>0</td>\n",
       "      <td>810</td>\n",
       "      <td>POS</td>\n",
       "      <td>17:00:00</td>\n",
       "      <td>21</td>\n",
       "      <td>10</td>\n",
       "      <td>2017</td>\n",
       "      <td>2017-10</td>\n",
       "      <td>810</td>\n",
       "      <td>RUR</td>\n",
       "      <td>Russian ruble</td>\n",
       "    </tr>\n",
       "    <tr>\n",
       "      <th>1</th>\n",
       "      <td>6011</td>\n",
       "      <td>2017-10-01</td>\n",
       "      <td>12OCT17:12:24:07</td>\n",
       "      <td>20000.0</td>\n",
       "      <td>0</td>\n",
       "      <td>810</td>\n",
       "      <td>DEPOSIT</td>\n",
       "      <td>17:12:24</td>\n",
       "      <td>12</td>\n",
       "      <td>10</td>\n",
       "      <td>2017</td>\n",
       "      <td>2017-10</td>\n",
       "      <td>810</td>\n",
       "      <td>RUR</td>\n",
       "      <td>Russian ruble</td>\n",
       "    </tr>\n",
       "    <tr>\n",
       "      <th>2</th>\n",
       "      <td>5921</td>\n",
       "      <td>2017-12-01</td>\n",
       "      <td>05DEC17:00:00:00</td>\n",
       "      <td>767.0</td>\n",
       "      <td>0</td>\n",
       "      <td>810</td>\n",
       "      <td>POS</td>\n",
       "      <td>17:00:00</td>\n",
       "      <td>05</td>\n",
       "      <td>12</td>\n",
       "      <td>2017</td>\n",
       "      <td>2017-12</td>\n",
       "      <td>810</td>\n",
       "      <td>RUR</td>\n",
       "      <td>Russian ruble</td>\n",
       "    </tr>\n",
       "    <tr>\n",
       "      <th>3</th>\n",
       "      <td>5411</td>\n",
       "      <td>2017-10-01</td>\n",
       "      <td>21OCT17:00:00:00</td>\n",
       "      <td>2031.0</td>\n",
       "      <td>0</td>\n",
       "      <td>810</td>\n",
       "      <td>POS</td>\n",
       "      <td>17:00:00</td>\n",
       "      <td>21</td>\n",
       "      <td>10</td>\n",
       "      <td>2017</td>\n",
       "      <td>2017-10</td>\n",
       "      <td>810</td>\n",
       "      <td>RUR</td>\n",
       "      <td>Russian ruble</td>\n",
       "    </tr>\n",
       "    <tr>\n",
       "      <th>4</th>\n",
       "      <td>6012</td>\n",
       "      <td>2017-10-01</td>\n",
       "      <td>24OCT17:13:14:24</td>\n",
       "      <td>36562.0</td>\n",
       "      <td>0</td>\n",
       "      <td>810</td>\n",
       "      <td>C2C_OUT</td>\n",
       "      <td>17:13:14</td>\n",
       "      <td>24</td>\n",
       "      <td>10</td>\n",
       "      <td>2017</td>\n",
       "      <td>2017-10</td>\n",
       "      <td>810</td>\n",
       "      <td>RUR</td>\n",
       "      <td>Russian ruble</td>\n",
       "    </tr>\n",
       "  </tbody>\n",
       "</table>\n",
       "</div>"
      ],
      "text/plain": [
       "    mcc     period        trdatetime   amount  cl_id  currency trx_category  \\\n",
       "0  5200 2017-10-01  21OCT17:00:00:00   5023.0      0       810          POS   \n",
       "1  6011 2017-10-01  12OCT17:12:24:07  20000.0      0       810      DEPOSIT   \n",
       "2  5921 2017-12-01  05DEC17:00:00:00    767.0      0       810          POS   \n",
       "3  5411 2017-10-01  21OCT17:00:00:00   2031.0      0       810          POS   \n",
       "4  6012 2017-10-01  24OCT17:13:14:24  36562.0      0       810      C2C_OUT   \n",
       "\n",
       "  transac_time transac_day transac_month transac_year transac_year_month  \\\n",
       "0     17:00:00          21            10         2017            2017-10   \n",
       "1     17:12:24          12            10         2017            2017-10   \n",
       "2     17:00:00          05            12         2017            2017-12   \n",
       "3     17:00:00          21            10         2017            2017-10   \n",
       "4     17:13:14          24            10         2017            2017-10   \n",
       "\n",
       "   num_code currency_code          title  \n",
       "0       810           RUR  Russian ruble  \n",
       "1       810           RUR  Russian ruble  \n",
       "2       810           RUR  Russian ruble  \n",
       "3       810           RUR  Russian ruble  \n",
       "4       810           RUR  Russian ruble  "
      ]
     },
     "execution_count": 54,
     "metadata": {},
     "output_type": "execute_result"
    }
   ],
   "source": [
    "data = data.merge(wiki_table, left_on='currency', right_on='num_code', how='left')\n",
    "data.head()"
   ]
  },
  {
   "cell_type": "markdown",
   "metadata": {},
   "source": [
    "Вот теперь совсем все хорошо и у нас все транзакции размечены нормальными названиями валют в которых они были совершены.\n",
    "Напомню, что числовы коды у нас типа `int`."
   ]
  },
  {
   "cell_type": "code",
   "execution_count": 55,
   "metadata": {},
   "outputs": [
    {
     "data": {
      "text/html": [
       "<div>\n",
       "<style scoped>\n",
       "    .dataframe tbody tr th:only-of-type {\n",
       "        vertical-align: middle;\n",
       "    }\n",
       "\n",
       "    .dataframe tbody tr th {\n",
       "        vertical-align: top;\n",
       "    }\n",
       "\n",
       "    .dataframe thead th {\n",
       "        text-align: right;\n",
       "    }\n",
       "</style>\n",
       "<table border=\"1\" class=\"dataframe\">\n",
       "  <thead>\n",
       "    <tr style=\"text-align: right;\">\n",
       "      <th></th>\n",
       "      <th>mcc</th>\n",
       "      <th>period</th>\n",
       "      <th>trdatetime</th>\n",
       "      <th>amount</th>\n",
       "      <th>cl_id</th>\n",
       "      <th>currency</th>\n",
       "      <th>trx_category</th>\n",
       "      <th>transac_time</th>\n",
       "      <th>transac_day</th>\n",
       "      <th>transac_month</th>\n",
       "      <th>transac_year</th>\n",
       "      <th>transac_year_month</th>\n",
       "      <th>num_code</th>\n",
       "      <th>currency_code</th>\n",
       "      <th>title</th>\n",
       "    </tr>\n",
       "  </thead>\n",
       "  <tbody>\n",
       "    <tr>\n",
       "      <th>0</th>\n",
       "      <td>5200</td>\n",
       "      <td>2017-10-01</td>\n",
       "      <td>21OCT17:00:00:00</td>\n",
       "      <td>5023.0</td>\n",
       "      <td>0</td>\n",
       "      <td>810</td>\n",
       "      <td>POS</td>\n",
       "      <td>17:00:00</td>\n",
       "      <td>21</td>\n",
       "      <td>10</td>\n",
       "      <td>2017</td>\n",
       "      <td>2017-10</td>\n",
       "      <td>810</td>\n",
       "      <td>RUR</td>\n",
       "      <td>Russian ruble</td>\n",
       "    </tr>\n",
       "    <tr>\n",
       "      <th>1</th>\n",
       "      <td>6011</td>\n",
       "      <td>2017-10-01</td>\n",
       "      <td>12OCT17:12:24:07</td>\n",
       "      <td>20000.0</td>\n",
       "      <td>0</td>\n",
       "      <td>810</td>\n",
       "      <td>DEPOSIT</td>\n",
       "      <td>17:12:24</td>\n",
       "      <td>12</td>\n",
       "      <td>10</td>\n",
       "      <td>2017</td>\n",
       "      <td>2017-10</td>\n",
       "      <td>810</td>\n",
       "      <td>RUR</td>\n",
       "      <td>Russian ruble</td>\n",
       "    </tr>\n",
       "    <tr>\n",
       "      <th>2</th>\n",
       "      <td>5921</td>\n",
       "      <td>2017-12-01</td>\n",
       "      <td>05DEC17:00:00:00</td>\n",
       "      <td>767.0</td>\n",
       "      <td>0</td>\n",
       "      <td>810</td>\n",
       "      <td>POS</td>\n",
       "      <td>17:00:00</td>\n",
       "      <td>05</td>\n",
       "      <td>12</td>\n",
       "      <td>2017</td>\n",
       "      <td>2017-12</td>\n",
       "      <td>810</td>\n",
       "      <td>RUR</td>\n",
       "      <td>Russian ruble</td>\n",
       "    </tr>\n",
       "  </tbody>\n",
       "</table>\n",
       "</div>"
      ],
      "text/plain": [
       "    mcc     period        trdatetime   amount  cl_id  currency trx_category  \\\n",
       "0  5200 2017-10-01  21OCT17:00:00:00   5023.0      0       810          POS   \n",
       "1  6011 2017-10-01  12OCT17:12:24:07  20000.0      0       810      DEPOSIT   \n",
       "2  5921 2017-12-01  05DEC17:00:00:00    767.0      0       810          POS   \n",
       "\n",
       "  transac_time transac_day transac_month transac_year transac_year_month  \\\n",
       "0     17:00:00          21            10         2017            2017-10   \n",
       "1     17:12:24          12            10         2017            2017-10   \n",
       "2     17:00:00          05            12         2017            2017-12   \n",
       "\n",
       "   num_code currency_code          title  \n",
       "0       810           RUR  Russian ruble  \n",
       "1       810           RUR  Russian ruble  \n",
       "2       810           RUR  Russian ruble  "
      ]
     },
     "execution_count": 55,
     "metadata": {},
     "output_type": "execute_result"
    }
   ],
   "source": [
    "data[data['num_code'] == 810].head(3)"
   ]
  },
  {
   "cell_type": "markdown",
   "metadata": {},
   "source": [
    "Пропусков нет! Мы разметили все транзакции."
   ]
  },
  {
   "cell_type": "code",
   "execution_count": 56,
   "metadata": {},
   "outputs": [
    {
     "data": {
      "text/plain": [
       "False    1008889\n",
       "Name: title, dtype: int64"
      ]
     },
     "execution_count": 56,
     "metadata": {},
     "output_type": "execute_result"
    }
   ],
   "source": [
    "data['title'].isna().value_counts()"
   ]
  },
  {
   "cell_type": "markdown",
   "metadata": {},
   "source": [
    "Вернемся к нашей сгруппированной табличке."
   ]
  },
  {
   "cell_type": "code",
   "execution_count": 57,
   "metadata": {},
   "outputs": [
    {
     "data": {
      "text/html": [
       "<div>\n",
       "<style scoped>\n",
       "    .dataframe tbody tr th:only-of-type {\n",
       "        vertical-align: middle;\n",
       "    }\n",
       "\n",
       "    .dataframe tbody tr th {\n",
       "        vertical-align: top;\n",
       "    }\n",
       "\n",
       "    .dataframe thead th {\n",
       "        text-align: right;\n",
       "    }\n",
       "</style>\n",
       "<table border=\"1\" class=\"dataframe\">\n",
       "  <thead>\n",
       "    <tr style=\"text-align: right;\">\n",
       "      <th></th>\n",
       "      <th>min</th>\n",
       "      <th>mean</th>\n",
       "      <th>median</th>\n",
       "      <th>max</th>\n",
       "    </tr>\n",
       "    <tr>\n",
       "      <th>title</th>\n",
       "      <th></th>\n",
       "      <th></th>\n",
       "      <th></th>\n",
       "      <th></th>\n",
       "    </tr>\n",
       "  </thead>\n",
       "  <tbody>\n",
       "    <tr>\n",
       "      <th>Ugandan shilling</th>\n",
       "      <td>855000.00</td>\n",
       "      <td>8.550000e+05</td>\n",
       "      <td>855000.00</td>\n",
       "      <td>855000.00</td>\n",
       "    </tr>\n",
       "    <tr>\n",
       "      <th>Ukrainian hryvnia</th>\n",
       "      <td>1.50</td>\n",
       "      <td>8.856391e+02</td>\n",
       "      <td>282.00</td>\n",
       "      <td>15451.17</td>\n",
       "    </tr>\n",
       "    <tr>\n",
       "      <th>United Arab Emirates dirham</th>\n",
       "      <td>2.00</td>\n",
       "      <td>4.905544e+02</td>\n",
       "      <td>96.00</td>\n",
       "      <td>24704.40</td>\n",
       "    </tr>\n",
       "    <tr>\n",
       "      <th>United States dollar</th>\n",
       "      <td>0.01</td>\n",
       "      <td>1.735173e+02</td>\n",
       "      <td>34.49</td>\n",
       "      <td>50000.00</td>\n",
       "    </tr>\n",
       "    <tr>\n",
       "      <th>Vietnamese đồng</th>\n",
       "      <td>10700.00</td>\n",
       "      <td>1.806074e+06</td>\n",
       "      <td>757500.00</td>\n",
       "      <td>35835000.00</td>\n",
       "    </tr>\n",
       "  </tbody>\n",
       "</table>\n",
       "</div>"
      ],
      "text/plain": [
       "                                   min          mean     median          max\n",
       "title                                                                       \n",
       "Ugandan shilling             855000.00  8.550000e+05  855000.00    855000.00\n",
       "Ukrainian hryvnia                 1.50  8.856391e+02     282.00     15451.17\n",
       "United Arab Emirates dirham       2.00  4.905544e+02      96.00     24704.40\n",
       "United States dollar              0.01  1.735173e+02      34.49     50000.00\n",
       "Vietnamese đồng               10700.00  1.806074e+06  757500.00  35835000.00"
      ]
     },
     "execution_count": 57,
     "metadata": {},
     "output_type": "execute_result"
    }
   ],
   "source": [
    "data.groupby('title')['amount'].agg(['min', 'mean', 'median','max']).tail()"
   ]
  },
  {
   "cell_type": "markdown",
   "metadata": {},
   "source": [
    "И сделаем её немного читабельнее.<br>\n",
    "Стоит заметить, что сортировка происходит по индексу, так что в случае с числовым кодом и названием валюты у нас <br>\n",
    "будет разный порядок."
   ]
  },
  {
   "cell_type": "code",
   "execution_count": 59,
   "metadata": {},
   "outputs": [
    {
     "data": {
      "text/html": [
       "<div>\n",
       "<style scoped>\n",
       "    .dataframe tbody tr th:only-of-type {\n",
       "        vertical-align: middle;\n",
       "    }\n",
       "\n",
       "    .dataframe tbody tr th {\n",
       "        vertical-align: top;\n",
       "    }\n",
       "\n",
       "    .dataframe thead th {\n",
       "        text-align: right;\n",
       "    }\n",
       "</style>\n",
       "<table border=\"1\" class=\"dataframe\">\n",
       "  <thead>\n",
       "    <tr style=\"text-align: right;\">\n",
       "      <th></th>\n",
       "      <th>min</th>\n",
       "      <th>mean</th>\n",
       "      <th>median</th>\n",
       "      <th>max</th>\n",
       "    </tr>\n",
       "    <tr>\n",
       "      <th>title</th>\n",
       "      <th></th>\n",
       "      <th></th>\n",
       "      <th></th>\n",
       "      <th></th>\n",
       "    </tr>\n",
       "  </thead>\n",
       "  <tbody>\n",
       "    <tr>\n",
       "      <th>Ugandan shilling</th>\n",
       "      <td>855000.0</td>\n",
       "      <td>855000.0</td>\n",
       "      <td>855000.0</td>\n",
       "      <td>855000.0</td>\n",
       "    </tr>\n",
       "    <tr>\n",
       "      <th>Ukrainian hryvnia</th>\n",
       "      <td>2.0</td>\n",
       "      <td>886.0</td>\n",
       "      <td>282.0</td>\n",
       "      <td>15451.0</td>\n",
       "    </tr>\n",
       "    <tr>\n",
       "      <th>United Arab Emirates dirham</th>\n",
       "      <td>2.0</td>\n",
       "      <td>491.0</td>\n",
       "      <td>96.0</td>\n",
       "      <td>24704.0</td>\n",
       "    </tr>\n",
       "    <tr>\n",
       "      <th>United States dollar</th>\n",
       "      <td>0.0</td>\n",
       "      <td>174.0</td>\n",
       "      <td>34.0</td>\n",
       "      <td>50000.0</td>\n",
       "    </tr>\n",
       "    <tr>\n",
       "      <th>Vietnamese đồng</th>\n",
       "      <td>10700.0</td>\n",
       "      <td>1806074.0</td>\n",
       "      <td>757500.0</td>\n",
       "      <td>35835000.0</td>\n",
       "    </tr>\n",
       "  </tbody>\n",
       "</table>\n",
       "</div>"
      ],
      "text/plain": [
       "                                  min       mean    median         max\n",
       "title                                                                 \n",
       "Ugandan shilling             855000.0   855000.0  855000.0    855000.0\n",
       "Ukrainian hryvnia                 2.0      886.0     282.0     15451.0\n",
       "United Arab Emirates dirham       2.0      491.0      96.0     24704.0\n",
       "United States dollar              0.0      174.0      34.0     50000.0\n",
       "Vietnamese đồng               10700.0  1806074.0  757500.0  35835000.0"
      ]
     },
     "execution_count": 59,
     "metadata": {},
     "output_type": "execute_result"
    }
   ],
   "source": [
    "data.groupby('title')['amount'].agg(['min', 'mean', 'median','max']).tail().apply(lambda x:round(x,0))"
   ]
  },
  {
   "cell_type": "markdown",
   "metadata": {},
   "source": [
    "## 3. Расшифруем MCC коды."
   ]
  },
  {
   "cell_type": "markdown",
   "metadata": {},
   "source": [
    "Также в интренете можно найти информаци о [MCC](https://en.wikipedia.org/wiki/Merchant_category_code). Это стандартизированный код категории покупки, который устанавливается на кассы предприятия. Потом банки исходя из этих кодов могут начислять кэшбек или бонусы за проведенные транзакции, если это предуматривает Ваш тариф. Имея текстовые репрезентации этих кодов довольно сильно поможет нам при построении осмысленного отчета.<br>\n",
    "\n",
    "У нас есть табличка с различными mcc кодами и их интерпритацией, которую я просто нагуглил."
   ]
  },
  {
   "cell_type": "code",
   "execution_count": 60,
   "metadata": {},
   "outputs": [],
   "source": [
    "mcc = pd.read_excel('../data/mean_check/mcc_codes.xls')"
   ]
  },
  {
   "cell_type": "code",
   "execution_count": 61,
   "metadata": {},
   "outputs": [
    {
     "data": {
      "text/html": [
       "<div>\n",
       "<style scoped>\n",
       "    .dataframe tbody tr th:only-of-type {\n",
       "        vertical-align: middle;\n",
       "    }\n",
       "\n",
       "    .dataframe tbody tr th {\n",
       "        vertical-align: top;\n",
       "    }\n",
       "\n",
       "    .dataframe thead th {\n",
       "        text-align: right;\n",
       "    }\n",
       "</style>\n",
       "<table border=\"1\" class=\"dataframe\">\n",
       "  <thead>\n",
       "    <tr style=\"text-align: right;\">\n",
       "      <th></th>\n",
       "      <th>STANDARD MERCHANT CATEGORY CODES\n",
       "**Please do not sort this spreadsheet**</th>\n",
       "      <th>Unnamed: 1</th>\n",
       "      <th>Unnamed: 2</th>\n",
       "    </tr>\n",
       "  </thead>\n",
       "  <tbody>\n",
       "    <tr>\n",
       "      <th>0</th>\n",
       "      <td>MCC CODE</td>\n",
       "      <td>Program Type:</td>\n",
       "      <td>NaN</td>\n",
       "    </tr>\n",
       "    <tr>\n",
       "      <th>1</th>\n",
       "      <td>0742</td>\n",
       "      <td>Veterinary Services</td>\n",
       "      <td>NaN</td>\n",
       "    </tr>\n",
       "    <tr>\n",
       "      <th>2</th>\n",
       "      <td>0763</td>\n",
       "      <td>Agricultural Cooperatives</td>\n",
       "      <td>NaN</td>\n",
       "    </tr>\n",
       "    <tr>\n",
       "      <th>3</th>\n",
       "      <td>0780</td>\n",
       "      <td>Landscaping and Horticultural Services</td>\n",
       "      <td>NaN</td>\n",
       "    </tr>\n",
       "    <tr>\n",
       "      <th>4</th>\n",
       "      <td>1520</td>\n",
       "      <td>General Contractor/Residential Building</td>\n",
       "      <td>NaN</td>\n",
       "    </tr>\n",
       "  </tbody>\n",
       "</table>\n",
       "</div>"
      ],
      "text/plain": [
       "  STANDARD MERCHANT CATEGORY CODES\\n**Please do not sort this spreadsheet**  \\\n",
       "0                                           MCC CODE                          \n",
       "1                                               0742                          \n",
       "2                                               0763                          \n",
       "3                                               0780                          \n",
       "4                                               1520                          \n",
       "\n",
       "                                Unnamed: 1 Unnamed: 2  \n",
       "0                            Program Type:        NaN  \n",
       "1                      Veterinary Services        NaN  \n",
       "2                Agricultural Cooperatives        NaN  \n",
       "3   Landscaping and Horticultural Services        NaN  \n",
       "4  General Contractor/Residential Building        NaN  "
      ]
     },
     "execution_count": 61,
     "metadata": {},
     "output_type": "execute_result"
    }
   ],
   "source": [
    "mcc.head()"
   ]
  },
  {
   "cell_type": "markdown",
   "metadata": {},
   "source": [
    "Очень часто бывае что эксель попадает в таком виде. Чтобы получить красивую табличку нужно пропустить первый ряд и убрать правую колонку с пустыми значениями. Так и сделаем:"
   ]
  },
  {
   "cell_type": "code",
   "execution_count": 62,
   "metadata": {},
   "outputs": [
    {
     "data": {
      "text/html": [
       "<div>\n",
       "<style scoped>\n",
       "    .dataframe tbody tr th:only-of-type {\n",
       "        vertical-align: middle;\n",
       "    }\n",
       "\n",
       "    .dataframe tbody tr th {\n",
       "        vertical-align: top;\n",
       "    }\n",
       "\n",
       "    .dataframe thead th {\n",
       "        text-align: right;\n",
       "    }\n",
       "</style>\n",
       "<table border=\"1\" class=\"dataframe\">\n",
       "  <thead>\n",
       "    <tr style=\"text-align: right;\">\n",
       "      <th></th>\n",
       "      <th>MCC CODE</th>\n",
       "      <th>Program Type:</th>\n",
       "    </tr>\n",
       "  </thead>\n",
       "  <tbody>\n",
       "    <tr>\n",
       "      <th>0</th>\n",
       "      <td>742.0</td>\n",
       "      <td>Veterinary Services</td>\n",
       "    </tr>\n",
       "    <tr>\n",
       "      <th>1</th>\n",
       "      <td>763.0</td>\n",
       "      <td>Agricultural Cooperatives</td>\n",
       "    </tr>\n",
       "    <tr>\n",
       "      <th>2</th>\n",
       "      <td>780.0</td>\n",
       "      <td>Landscaping and Horticultural Services</td>\n",
       "    </tr>\n",
       "    <tr>\n",
       "      <th>3</th>\n",
       "      <td>1520.0</td>\n",
       "      <td>General Contractor/Residential Building</td>\n",
       "    </tr>\n",
       "    <tr>\n",
       "      <th>4</th>\n",
       "      <td>1711.0</td>\n",
       "      <td>Heating, Plumbing, Air Conditioning Contractors</td>\n",
       "    </tr>\n",
       "  </tbody>\n",
       "</table>\n",
       "</div>"
      ],
      "text/plain": [
       "   MCC CODE                                    Program Type:\n",
       "0     742.0                              Veterinary Services\n",
       "1     763.0                        Agricultural Cooperatives\n",
       "2     780.0           Landscaping and Horticultural Services\n",
       "3    1520.0          General Contractor/Residential Building\n",
       "4    1711.0  Heating, Plumbing, Air Conditioning Contractors"
      ]
     },
     "execution_count": 62,
     "metadata": {},
     "output_type": "execute_result"
    }
   ],
   "source": [
    "mcc = pd.read_excel('../data/mean_check/mcc_codes.xls',skiprows=1)\n",
    "mcc = mcc.iloc[:,:-1]\n",
    "mcc.head()"
   ]
  },
  {
   "cell_type": "markdown",
   "metadata": {},
   "source": [
    "И переименуем колонки для красоты и удобства."
   ]
  },
  {
   "cell_type": "code",
   "execution_count": 63,
   "metadata": {},
   "outputs": [],
   "source": [
    "mcc = mcc.rename(columns={'MCC CODE':'mcc','Program Type:':'category'})"
   ]
  },
  {
   "cell_type": "code",
   "execution_count": 64,
   "metadata": {},
   "outputs": [
    {
     "data": {
      "text/html": [
       "<div>\n",
       "<style scoped>\n",
       "    .dataframe tbody tr th:only-of-type {\n",
       "        vertical-align: middle;\n",
       "    }\n",
       "\n",
       "    .dataframe tbody tr th {\n",
       "        vertical-align: top;\n",
       "    }\n",
       "\n",
       "    .dataframe thead th {\n",
       "        text-align: right;\n",
       "    }\n",
       "</style>\n",
       "<table border=\"1\" class=\"dataframe\">\n",
       "  <thead>\n",
       "    <tr style=\"text-align: right;\">\n",
       "      <th></th>\n",
       "      <th>mcc</th>\n",
       "      <th>category</th>\n",
       "    </tr>\n",
       "  </thead>\n",
       "  <tbody>\n",
       "    <tr>\n",
       "      <th>0</th>\n",
       "      <td>742.0</td>\n",
       "      <td>Veterinary Services</td>\n",
       "    </tr>\n",
       "    <tr>\n",
       "      <th>1</th>\n",
       "      <td>763.0</td>\n",
       "      <td>Agricultural Cooperatives</td>\n",
       "    </tr>\n",
       "    <tr>\n",
       "      <th>2</th>\n",
       "      <td>780.0</td>\n",
       "      <td>Landscaping and Horticultural Services</td>\n",
       "    </tr>\n",
       "    <tr>\n",
       "      <th>3</th>\n",
       "      <td>1520.0</td>\n",
       "      <td>General Contractor/Residential Building</td>\n",
       "    </tr>\n",
       "    <tr>\n",
       "      <th>4</th>\n",
       "      <td>1711.0</td>\n",
       "      <td>Heating, Plumbing, Air Conditioning Contractors</td>\n",
       "    </tr>\n",
       "  </tbody>\n",
       "</table>\n",
       "</div>"
      ],
      "text/plain": [
       "      mcc                                         category\n",
       "0   742.0                              Veterinary Services\n",
       "1   763.0                        Agricultural Cooperatives\n",
       "2   780.0           Landscaping and Horticultural Services\n",
       "3  1520.0          General Contractor/Residential Building\n",
       "4  1711.0  Heating, Plumbing, Air Conditioning Contractors"
      ]
     },
     "execution_count": 64,
     "metadata": {},
     "output_type": "execute_result"
    }
   ],
   "source": [
    "mcc.head()"
   ]
  },
  {
   "cell_type": "markdown",
   "metadata": {},
   "source": [
    "Объедним по категории к нашей общей таблице (левый мердж). <br>"
   ]
  },
  {
   "cell_type": "code",
   "execution_count": 65,
   "metadata": {},
   "outputs": [],
   "source": [
    "data = data.merge(mcc, on='mcc', how='left')"
   ]
  },
  {
   "cell_type": "code",
   "execution_count": 66,
   "metadata": {},
   "outputs": [
    {
     "data": {
      "text/html": [
       "<div>\n",
       "<style scoped>\n",
       "    .dataframe tbody tr th:only-of-type {\n",
       "        vertical-align: middle;\n",
       "    }\n",
       "\n",
       "    .dataframe tbody tr th {\n",
       "        vertical-align: top;\n",
       "    }\n",
       "\n",
       "    .dataframe thead th {\n",
       "        text-align: right;\n",
       "    }\n",
       "</style>\n",
       "<table border=\"1\" class=\"dataframe\">\n",
       "  <thead>\n",
       "    <tr style=\"text-align: right;\">\n",
       "      <th></th>\n",
       "      <th>mcc</th>\n",
       "      <th>period</th>\n",
       "      <th>trdatetime</th>\n",
       "      <th>amount</th>\n",
       "      <th>cl_id</th>\n",
       "      <th>currency</th>\n",
       "      <th>trx_category</th>\n",
       "      <th>transac_time</th>\n",
       "      <th>transac_day</th>\n",
       "      <th>transac_month</th>\n",
       "      <th>transac_year</th>\n",
       "      <th>transac_year_month</th>\n",
       "      <th>num_code</th>\n",
       "      <th>currency_code</th>\n",
       "      <th>title</th>\n",
       "      <th>category</th>\n",
       "    </tr>\n",
       "  </thead>\n",
       "  <tbody>\n",
       "    <tr>\n",
       "      <th>0</th>\n",
       "      <td>5200</td>\n",
       "      <td>2017-10-01</td>\n",
       "      <td>21OCT17:00:00:00</td>\n",
       "      <td>5023.0</td>\n",
       "      <td>0</td>\n",
       "      <td>810</td>\n",
       "      <td>POS</td>\n",
       "      <td>17:00:00</td>\n",
       "      <td>21</td>\n",
       "      <td>10</td>\n",
       "      <td>2017</td>\n",
       "      <td>2017-10</td>\n",
       "      <td>810</td>\n",
       "      <td>RUR</td>\n",
       "      <td>Russian ruble</td>\n",
       "      <td>Home Supply Warehouse</td>\n",
       "    </tr>\n",
       "    <tr>\n",
       "      <th>1</th>\n",
       "      <td>6011</td>\n",
       "      <td>2017-10-01</td>\n",
       "      <td>12OCT17:12:24:07</td>\n",
       "      <td>20000.0</td>\n",
       "      <td>0</td>\n",
       "      <td>810</td>\n",
       "      <td>DEPOSIT</td>\n",
       "      <td>17:12:24</td>\n",
       "      <td>12</td>\n",
       "      <td>10</td>\n",
       "      <td>2017</td>\n",
       "      <td>2017-10</td>\n",
       "      <td>810</td>\n",
       "      <td>RUR</td>\n",
       "      <td>Russian ruble</td>\n",
       "      <td>Financial Institutions--Automated Cash Disburs...</td>\n",
       "    </tr>\n",
       "    <tr>\n",
       "      <th>2</th>\n",
       "      <td>5921</td>\n",
       "      <td>2017-12-01</td>\n",
       "      <td>05DEC17:00:00:00</td>\n",
       "      <td>767.0</td>\n",
       "      <td>0</td>\n",
       "      <td>810</td>\n",
       "      <td>POS</td>\n",
       "      <td>17:00:00</td>\n",
       "      <td>05</td>\n",
       "      <td>12</td>\n",
       "      <td>2017</td>\n",
       "      <td>2017-12</td>\n",
       "      <td>810</td>\n",
       "      <td>RUR</td>\n",
       "      <td>Russian ruble</td>\n",
       "      <td>Package Stores--Beer, Wine, and Liquor</td>\n",
       "    </tr>\n",
       "  </tbody>\n",
       "</table>\n",
       "</div>"
      ],
      "text/plain": [
       "    mcc     period        trdatetime   amount  cl_id  currency trx_category  \\\n",
       "0  5200 2017-10-01  21OCT17:00:00:00   5023.0      0       810          POS   \n",
       "1  6011 2017-10-01  12OCT17:12:24:07  20000.0      0       810      DEPOSIT   \n",
       "2  5921 2017-12-01  05DEC17:00:00:00    767.0      0       810          POS   \n",
       "\n",
       "  transac_time transac_day transac_month transac_year transac_year_month  \\\n",
       "0     17:00:00          21            10         2017            2017-10   \n",
       "1     17:12:24          12            10         2017            2017-10   \n",
       "2     17:00:00          05            12         2017            2017-12   \n",
       "\n",
       "   num_code currency_code          title  \\\n",
       "0       810           RUR  Russian ruble   \n",
       "1       810           RUR  Russian ruble   \n",
       "2       810           RUR  Russian ruble   \n",
       "\n",
       "                                            category  \n",
       "0                              Home Supply Warehouse  \n",
       "1  Financial Institutions--Automated Cash Disburs...  \n",
       "2             Package Stores--Beer, Wine, and Liquor  "
      ]
     },
     "execution_count": 66,
     "metadata": {},
     "output_type": "execute_result"
    }
   ],
   "source": [
    "data.head(3)"
   ]
  },
  {
   "cell_type": "markdown",
   "metadata": {},
   "source": [
    "Проверим сколько у нас категорий не подтянулось с помощью методов **.isna()** и **.value_counts()**."
   ]
  },
  {
   "cell_type": "code",
   "execution_count": 67,
   "metadata": {},
   "outputs": [
    {
     "data": {
      "text/plain": [
       "False    1008888\n",
       "True           1\n",
       "Name: category, dtype: int64"
      ]
     },
     "execution_count": 67,
     "metadata": {},
     "output_type": "execute_result"
    }
   ],
   "source": [
    "data.category.isna().value_counts()"
   ]
  },
  {
   "cell_type": "code",
   "execution_count": 68,
   "metadata": {},
   "outputs": [
    {
     "data": {
      "text/plain": [
       "False    1008889\n",
       "Name: mcc, dtype: int64"
      ]
     },
     "execution_count": 68,
     "metadata": {},
     "output_type": "execute_result"
    }
   ],
   "source": [
    "data.mcc.isna().value_counts()"
   ]
  },
  {
   "cell_type": "markdown",
   "metadata": {},
   "source": [
    "Действительно, в силу тех или иных причин мы не смогли индифицировать всего лишь 1 код, так что мы можем этим пренебречь."
   ]
  },
  {
   "cell_type": "markdown",
   "metadata": {},
   "source": [
    "## 4.  Отчет по средним тратам."
   ]
  },
  {
   "cell_type": "markdown",
   "metadata": {},
   "source": [
    "Давайте уже построим отчет! Для этих целей отберем только рублевые транзакции и сделаем табличку в разрезе категория-даты.<br>\n",
    "\n",
    "Также, тк природа данных это покупки/транзакции, то присутствуют экстримальные значения, которые будут искажать среднее по больнице.\n",
    "Поэтому мы **отбросим по 5% максимальных значений и столько же минимальных**. Это называется **очисткой от выбросов** и для этого нам понадобится посчитать квартили и применить фильтрацию."
   ]
  },
  {
   "cell_type": "code",
   "execution_count": 69,
   "metadata": {},
   "outputs": [],
   "source": [
    "report = pd.DataFrame()\n",
    "currency = 810\n",
    "rubbles = data[data['currency'] == currency]\n",
    "dates = sorted(rubbles['transac_year_month'].unique())\n",
    "\n",
    "\n",
    "for date in dates:\n",
    "    buffer = rubbles[rubbles['transac_year_month'] == date][['transac_year_month','amount','category']].set_index(['transac_year_month','category'])\n",
    "\n",
    "    low = .05\n",
    "    high = .95\n",
    "    quant_df = buffer.quantile([low, high])\n",
    "\n",
    "    filtered_df = buffer.apply(lambda x: x[(x>quant_df.loc[low,x.name]) & (x < quant_df.loc[high,x.name])], axis=0)\n",
    "    filtered_df = filtered_df.reset_index().groupby(['transac_year_month','category']).mean()\n",
    "\n",
    "    report = pd.concat([report, filtered_df]) # объединяем нашу таблицу\n",
    "\n",
    "report = report.unstack().T # разворачиваем нашу таблицу \n",
    "report = round(report,2)"
   ]
  },
  {
   "cell_type": "code",
   "execution_count": 72,
   "metadata": {
    "scrolled": true
   },
   "outputs": [
    {
     "data": {
      "text/html": [
       "<div>\n",
       "<style scoped>\n",
       "    .dataframe tbody tr th:only-of-type {\n",
       "        vertical-align: middle;\n",
       "    }\n",
       "\n",
       "    .dataframe tbody tr th {\n",
       "        vertical-align: top;\n",
       "    }\n",
       "\n",
       "    .dataframe thead th {\n",
       "        text-align: right;\n",
       "    }\n",
       "</style>\n",
       "<table border=\"1\" class=\"dataframe\">\n",
       "  <thead>\n",
       "    <tr style=\"text-align: right;\">\n",
       "      <th></th>\n",
       "      <th>transac_year_month</th>\n",
       "      <th>2016-10</th>\n",
       "      <th>2016-11</th>\n",
       "      <th>2016-12</th>\n",
       "      <th>2017-01</th>\n",
       "      <th>2017-02</th>\n",
       "      <th>2017-03</th>\n",
       "      <th>2017-04</th>\n",
       "      <th>2017-05</th>\n",
       "      <th>2017-06</th>\n",
       "      <th>2017-07</th>\n",
       "      <th>2017-08</th>\n",
       "      <th>2017-09</th>\n",
       "      <th>2017-10</th>\n",
       "      <th>2017-11</th>\n",
       "      <th>2017-12</th>\n",
       "      <th>2018-01</th>\n",
       "      <th>2018-02</th>\n",
       "      <th>2018-03</th>\n",
       "      <th>2018-04</th>\n",
       "    </tr>\n",
       "    <tr>\n",
       "      <th></th>\n",
       "      <th>category</th>\n",
       "      <th></th>\n",
       "      <th></th>\n",
       "      <th></th>\n",
       "      <th></th>\n",
       "      <th></th>\n",
       "      <th></th>\n",
       "      <th></th>\n",
       "      <th></th>\n",
       "      <th></th>\n",
       "      <th></th>\n",
       "      <th></th>\n",
       "      <th></th>\n",
       "      <th></th>\n",
       "      <th></th>\n",
       "      <th></th>\n",
       "      <th></th>\n",
       "      <th></th>\n",
       "      <th></th>\n",
       "      <th></th>\n",
       "    </tr>\n",
       "  </thead>\n",
       "  <tbody>\n",
       "    <tr>\n",
       "      <th rowspan=\"5\" valign=\"top\">amount</th>\n",
       "      <th>AIR STANA</th>\n",
       "      <td>NaN</td>\n",
       "      <td>NaN</td>\n",
       "      <td>NaN</td>\n",
       "      <td>14061.00</td>\n",
       "      <td>10977.00</td>\n",
       "      <td>NaN</td>\n",
       "      <td>NaN</td>\n",
       "      <td>NaN</td>\n",
       "      <td>14092.00</td>\n",
       "      <td>11113.67</td>\n",
       "      <td>10691.00</td>\n",
       "      <td>NaN</td>\n",
       "      <td>NaN</td>\n",
       "      <td>NaN</td>\n",
       "      <td>NaN</td>\n",
       "      <td>NaN</td>\n",
       "      <td>NaN</td>\n",
       "      <td>NaN</td>\n",
       "      <td>NaN</td>\n",
       "    </tr>\n",
       "    <tr>\n",
       "      <th>Accounting, Auditing, and Bookkeeping Services</th>\n",
       "      <td>NaN</td>\n",
       "      <td>2294.42</td>\n",
       "      <td>NaN</td>\n",
       "      <td>960.00</td>\n",
       "      <td>NaN</td>\n",
       "      <td>NaN</td>\n",
       "      <td>NaN</td>\n",
       "      <td>290.00</td>\n",
       "      <td>NaN</td>\n",
       "      <td>NaN</td>\n",
       "      <td>NaN</td>\n",
       "      <td>720.00</td>\n",
       "      <td>NaN</td>\n",
       "      <td>NaN</td>\n",
       "      <td>NaN</td>\n",
       "      <td>NaN</td>\n",
       "      <td>NaN</td>\n",
       "      <td>NaN</td>\n",
       "      <td>NaN</td>\n",
       "    </tr>\n",
       "    <tr>\n",
       "      <th>Advertising Services</th>\n",
       "      <td>1306.57</td>\n",
       "      <td>2674.30</td>\n",
       "      <td>1863.58</td>\n",
       "      <td>1367.67</td>\n",
       "      <td>1071.13</td>\n",
       "      <td>1117.51</td>\n",
       "      <td>1783.02</td>\n",
       "      <td>1130.19</td>\n",
       "      <td>1490.12</td>\n",
       "      <td>2049.76</td>\n",
       "      <td>1517.03</td>\n",
       "      <td>1700.32</td>\n",
       "      <td>2955.57</td>\n",
       "      <td>533.81</td>\n",
       "      <td>191.31</td>\n",
       "      <td>293.31</td>\n",
       "      <td>339.00</td>\n",
       "      <td>339.64</td>\n",
       "      <td>NaN</td>\n",
       "    </tr>\n",
       "    <tr>\n",
       "      <th>AeroFlot</th>\n",
       "      <td>20423.09</td>\n",
       "      <td>12961.51</td>\n",
       "      <td>13992.32</td>\n",
       "      <td>8480.99</td>\n",
       "      <td>9766.56</td>\n",
       "      <td>11490.96</td>\n",
       "      <td>9601.84</td>\n",
       "      <td>8756.14</td>\n",
       "      <td>10632.52</td>\n",
       "      <td>9061.11</td>\n",
       "      <td>10445.11</td>\n",
       "      <td>9230.78</td>\n",
       "      <td>9766.24</td>\n",
       "      <td>16065.27</td>\n",
       "      <td>11272.70</td>\n",
       "      <td>12295.00</td>\n",
       "      <td>11299.33</td>\n",
       "      <td>7031.71</td>\n",
       "      <td>NaN</td>\n",
       "    </tr>\n",
       "    <tr>\n",
       "      <th>Agricultural Cooperatives</th>\n",
       "      <td>NaN</td>\n",
       "      <td>NaN</td>\n",
       "      <td>NaN</td>\n",
       "      <td>702.00</td>\n",
       "      <td>624.00</td>\n",
       "      <td>NaN</td>\n",
       "      <td>1879.50</td>\n",
       "      <td>1440.00</td>\n",
       "      <td>1531.50</td>\n",
       "      <td>NaN</td>\n",
       "      <td>NaN</td>\n",
       "      <td>174.00</td>\n",
       "      <td>NaN</td>\n",
       "      <td>NaN</td>\n",
       "      <td>NaN</td>\n",
       "      <td>NaN</td>\n",
       "      <td>NaN</td>\n",
       "      <td>NaN</td>\n",
       "      <td>NaN</td>\n",
       "    </tr>\n",
       "  </tbody>\n",
       "</table>\n",
       "</div>"
      ],
      "text/plain": [
       "transac_year_month                                       2016-10   2016-11  \\\n",
       "       category                                                              \n",
       "amount AIR STANA                                             NaN       NaN   \n",
       "       Accounting, Auditing, and Bookkeeping Services        NaN   2294.42   \n",
       "       Advertising Services                              1306.57   2674.30   \n",
       "       AeroFlot                                         20423.09  12961.51   \n",
       "       Agricultural Cooperatives                             NaN       NaN   \n",
       "\n",
       "transac_year_month                                       2016-12   2017-01  \\\n",
       "       category                                                              \n",
       "amount AIR STANA                                             NaN  14061.00   \n",
       "       Accounting, Auditing, and Bookkeeping Services        NaN    960.00   \n",
       "       Advertising Services                              1863.58   1367.67   \n",
       "       AeroFlot                                         13992.32   8480.99   \n",
       "       Agricultural Cooperatives                             NaN    702.00   \n",
       "\n",
       "transac_year_month                                       2017-02   2017-03  \\\n",
       "       category                                                              \n",
       "amount AIR STANA                                        10977.00       NaN   \n",
       "       Accounting, Auditing, and Bookkeeping Services        NaN       NaN   \n",
       "       Advertising Services                              1071.13   1117.51   \n",
       "       AeroFlot                                          9766.56  11490.96   \n",
       "       Agricultural Cooperatives                          624.00       NaN   \n",
       "\n",
       "transac_year_month                                      2017-04  2017-05  \\\n",
       "       category                                                            \n",
       "amount AIR STANA                                            NaN      NaN   \n",
       "       Accounting, Auditing, and Bookkeeping Services       NaN   290.00   \n",
       "       Advertising Services                             1783.02  1130.19   \n",
       "       AeroFlot                                         9601.84  8756.14   \n",
       "       Agricultural Cooperatives                        1879.50  1440.00   \n",
       "\n",
       "transac_year_month                                       2017-06   2017-07  \\\n",
       "       category                                                              \n",
       "amount AIR STANA                                        14092.00  11113.67   \n",
       "       Accounting, Auditing, and Bookkeeping Services        NaN       NaN   \n",
       "       Advertising Services                              1490.12   2049.76   \n",
       "       AeroFlot                                         10632.52   9061.11   \n",
       "       Agricultural Cooperatives                         1531.50       NaN   \n",
       "\n",
       "transac_year_month                                       2017-08  2017-09  \\\n",
       "       category                                                             \n",
       "amount AIR STANA                                        10691.00      NaN   \n",
       "       Accounting, Auditing, and Bookkeeping Services        NaN   720.00   \n",
       "       Advertising Services                              1517.03  1700.32   \n",
       "       AeroFlot                                         10445.11  9230.78   \n",
       "       Agricultural Cooperatives                             NaN   174.00   \n",
       "\n",
       "transac_year_month                                      2017-10   2017-11  \\\n",
       "       category                                                             \n",
       "amount AIR STANA                                            NaN       NaN   \n",
       "       Accounting, Auditing, and Bookkeeping Services       NaN       NaN   \n",
       "       Advertising Services                             2955.57    533.81   \n",
       "       AeroFlot                                         9766.24  16065.27   \n",
       "       Agricultural Cooperatives                            NaN       NaN   \n",
       "\n",
       "transac_year_month                                       2017-12   2018-01  \\\n",
       "       category                                                              \n",
       "amount AIR STANA                                             NaN       NaN   \n",
       "       Accounting, Auditing, and Bookkeeping Services        NaN       NaN   \n",
       "       Advertising Services                               191.31    293.31   \n",
       "       AeroFlot                                         11272.70  12295.00   \n",
       "       Agricultural Cooperatives                             NaN       NaN   \n",
       "\n",
       "transac_year_month                                       2018-02  2018-03  \\\n",
       "       category                                                             \n",
       "amount AIR STANA                                             NaN      NaN   \n",
       "       Accounting, Auditing, and Bookkeeping Services        NaN      NaN   \n",
       "       Advertising Services                               339.00   339.64   \n",
       "       AeroFlot                                         11299.33  7031.71   \n",
       "       Agricultural Cooperatives                             NaN      NaN   \n",
       "\n",
       "transac_year_month                                      2018-04  \n",
       "       category                                                  \n",
       "amount AIR STANA                                            NaN  \n",
       "       Accounting, Auditing, and Bookkeeping Services       NaN  \n",
       "       Advertising Services                                 NaN  \n",
       "       AeroFlot                                             NaN  \n",
       "       Agricultural Cooperatives                            NaN  "
      ]
     },
     "execution_count": 72,
     "metadata": {},
     "output_type": "execute_result"
    }
   ],
   "source": [
    "report.head()"
   ]
  },
  {
   "cell_type": "code",
   "execution_count": 76,
   "metadata": {},
   "outputs": [],
   "source": [
    "def do_report(dataframe, currency_int):\n",
    "    \"\"\"\n",
    "    Данная функция делает отчет по аналогии с тем что мыы делали выше, но принимает на вход таблицу и значение валюты\n",
    "    по которым нужно построить отчет.\n",
    "    \n",
    "    Сначала мы создаем пустую таблицу в которую будем добавлять уже посчитанные значения.\n",
    "    Далее создаем срез из переданной таблицы и создаем отсортированный вектор дат.\n",
    "    \n",
    "    После этого начинается цикл, которй бегает по сформированному срезу и берет транзакции по определенной дате и \n",
    "    выбирает значения ['transac_year_month','amount','category'].\n",
    "    \n",
    "    Далее рассчитаывается .05 и .95 квартиль распределения. По сути мы отбрасываем по 5% максимальных значений и \n",
    "    столько же минимальных, тем самым очищая от выбросов, которые могут исказить наши средние значения.\n",
    "    После того как рассчитали пороги, мы приминяем фильтрацию и получаем очищенную табличку.\n",
    "    \n",
    "    Присоединяем ее к созданной в начале с помощью метода pd.concat, разворачиваем и транспонируем.\n",
    "\n",
    "    \"\"\"\n",
    "    report = pd.DataFrame()\n",
    "    currency = currency_int\n",
    "    df = dataframe[dataframe['currency'] == currency]\n",
    "    dates = sorted(df['transac_year_month'].unique())\n",
    "\n",
    "\n",
    "    for date in dates:\n",
    "        buffer = df[df['transac_year_month'] == date][['transac_year_month','amount','category']].set_index(['transac_year_month','category'])\n",
    "        \n",
    "        # посчитаем значения квартилей по которым будем обрезать наши значния в транзакциях\n",
    "        low = .05\n",
    "        high = .95\n",
    "        quant_df = buffer.quantile([low, high])\n",
    "        \n",
    "        # отфильтруем значения \n",
    "        filtered_df = buffer.apply(lambda x: x[(x>quant_df.loc[low,x.name]) & (x < quant_df.loc[high,x.name])], axis=0)\n",
    "        filtered_df = filtered_df.reset_index().groupby(['transac_year_month','category']).mean()\n",
    "        \n",
    "        # объединяем нашу посчитанную таблицу с главной\n",
    "        report = pd.concat([report, filtered_df])\n",
    "\n",
    "    # разворачиваем нашу таблицу, транспонируем и удаляем одну колонку по которой индексировались - непростое комбо!\n",
    "    report = report.unstack().T\n",
    "    return round(report,2)"
   ]
  },
  {
   "cell_type": "code",
   "execution_count": 77,
   "metadata": {},
   "outputs": [
    {
     "data": {
      "text/html": [
       "<div>\n",
       "<style scoped>\n",
       "    .dataframe tbody tr th:only-of-type {\n",
       "        vertical-align: middle;\n",
       "    }\n",
       "\n",
       "    .dataframe tbody tr th {\n",
       "        vertical-align: top;\n",
       "    }\n",
       "\n",
       "    .dataframe thead th {\n",
       "        text-align: right;\n",
       "    }\n",
       "</style>\n",
       "<table border=\"1\" class=\"dataframe\">\n",
       "  <thead>\n",
       "    <tr style=\"text-align: right;\">\n",
       "      <th></th>\n",
       "      <th>transac_year_month</th>\n",
       "      <th>2017-02</th>\n",
       "      <th>2017-05</th>\n",
       "      <th>2017-06</th>\n",
       "    </tr>\n",
       "    <tr>\n",
       "      <th></th>\n",
       "      <th>category</th>\n",
       "      <th></th>\n",
       "      <th></th>\n",
       "      <th></th>\n",
       "    </tr>\n",
       "  </thead>\n",
       "  <tbody>\n",
       "    <tr>\n",
       "      <th rowspan=\"21\" valign=\"top\">amount</th>\n",
       "      <th>Artist Supply and Craft Stores</th>\n",
       "      <td>600.00</td>\n",
       "      <td>NaN</td>\n",
       "      <td>NaN</td>\n",
       "    </tr>\n",
       "    <tr>\n",
       "      <th>Bus Lines, includes Charters/Tour Buses</th>\n",
       "      <td>NaN</td>\n",
       "      <td>NaN</td>\n",
       "      <td>280.00</td>\n",
       "    </tr>\n",
       "    <tr>\n",
       "      <th>Business Services</th>\n",
       "      <td>NaN</td>\n",
       "      <td>NaN</td>\n",
       "      <td>370.00</td>\n",
       "    </tr>\n",
       "    <tr>\n",
       "      <th>Buying and Shopping Services and Clubs</th>\n",
       "      <td>NaN</td>\n",
       "      <td>800.0</td>\n",
       "      <td>NaN</td>\n",
       "    </tr>\n",
       "    <tr>\n",
       "      <th>Caterers - Prepare &amp; Delivery</th>\n",
       "      <td>NaN</td>\n",
       "      <td>NaN</td>\n",
       "      <td>82.00</td>\n",
       "    </tr>\n",
       "    <tr>\n",
       "      <th>Civic, Social, and Fraternal Associations</th>\n",
       "      <td>NaN</td>\n",
       "      <td>NaN</td>\n",
       "      <td>317.50</td>\n",
       "    </tr>\n",
       "    <tr>\n",
       "      <th>Direct Marketing/Direct Marketers--Not Elsewhere Classified</th>\n",
       "      <td>NaN</td>\n",
       "      <td>950.0</td>\n",
       "      <td>NaN</td>\n",
       "    </tr>\n",
       "    <tr>\n",
       "      <th>Drug Stores and Pharmacies</th>\n",
       "      <td>NaN</td>\n",
       "      <td>437.6</td>\n",
       "      <td>NaN</td>\n",
       "    </tr>\n",
       "    <tr>\n",
       "      <th>Eating Places and Restaurants</th>\n",
       "      <td>349.23</td>\n",
       "      <td>680.0</td>\n",
       "      <td>292.34</td>\n",
       "    </tr>\n",
       "    <tr>\n",
       "      <th>Freezer &amp; Locker Meat Provisions</th>\n",
       "      <td>NaN</td>\n",
       "      <td>NaN</td>\n",
       "      <td>543.31</td>\n",
       "    </tr>\n",
       "    <tr>\n",
       "      <th>Gift, Card, Novelty, and Souvenir Stores</th>\n",
       "      <td>1005.00</td>\n",
       "      <td>NaN</td>\n",
       "      <td>81.00</td>\n",
       "    </tr>\n",
       "    <tr>\n",
       "      <th>Lodging - Hotels, Motels, and Resorts</th>\n",
       "      <td>799.99</td>\n",
       "      <td>150.0</td>\n",
       "      <td>NaN</td>\n",
       "    </tr>\n",
       "    <tr>\n",
       "      <th>Miscellaneous Food Stores-Convenience Stores and Specialty Markets</th>\n",
       "      <td>86.00</td>\n",
       "      <td>417.0</td>\n",
       "      <td>NaN</td>\n",
       "    </tr>\n",
       "    <tr>\n",
       "      <th>Miscellaneous General Merchandise</th>\n",
       "      <td>NaN</td>\n",
       "      <td>NaN</td>\n",
       "      <td>150.00</td>\n",
       "    </tr>\n",
       "    <tr>\n",
       "      <th>Package Stores--Beer, Wine, and Liquor</th>\n",
       "      <td>269.84</td>\n",
       "      <td>NaN</td>\n",
       "      <td>NaN</td>\n",
       "    </tr>\n",
       "    <tr>\n",
       "      <th>Quick Payment Service-Fast Food Restaurants</th>\n",
       "      <td>NaN</td>\n",
       "      <td>NaN</td>\n",
       "      <td>60.00</td>\n",
       "    </tr>\n",
       "    <tr>\n",
       "      <th>Shoe Stores</th>\n",
       "      <td>NaN</td>\n",
       "      <td>959.0</td>\n",
       "      <td>NaN</td>\n",
       "    </tr>\n",
       "    <tr>\n",
       "      <th>Taxicabs and Limousines</th>\n",
       "      <td>93.72</td>\n",
       "      <td>NaN</td>\n",
       "      <td>NaN</td>\n",
       "    </tr>\n",
       "    <tr>\n",
       "      <th>Telecommunication Services, Including Local and Long Distance Calls, Credit Card Calls, Call Through Use of Magnetic-Strip-Reading Telephones, and Fax Services</th>\n",
       "      <td>369.00</td>\n",
       "      <td>NaN</td>\n",
       "      <td>NaN</td>\n",
       "    </tr>\n",
       "    <tr>\n",
       "      <th>Tourist Attractions and Exhibits</th>\n",
       "      <td>70.00</td>\n",
       "      <td>NaN</td>\n",
       "      <td>116.67</td>\n",
       "    </tr>\n",
       "    <tr>\n",
       "      <th>Utilities-Electric, Gas, Water, and Sanitary</th>\n",
       "      <td>NaN</td>\n",
       "      <td>NaN</td>\n",
       "      <td>172.00</td>\n",
       "    </tr>\n",
       "  </tbody>\n",
       "</table>\n",
       "</div>"
      ],
      "text/plain": [
       "transac_year_month                                         2017-02  2017-05  \\\n",
       "       category                                                               \n",
       "amount Artist Supply and Craft Stores                       600.00      NaN   \n",
       "       Bus Lines, includes Charters/Tour Buses                 NaN      NaN   \n",
       "       Business Services                                       NaN      NaN   \n",
       "       Buying and Shopping Services and Clubs                  NaN    800.0   \n",
       "       Caterers - Prepare & Delivery                           NaN      NaN   \n",
       "       Civic, Social, and Fraternal Associations               NaN      NaN   \n",
       "       Direct Marketing/Direct Marketers--Not Elsewher...      NaN    950.0   \n",
       "       Drug Stores and Pharmacies                              NaN    437.6   \n",
       "       Eating Places and Restaurants                        349.23    680.0   \n",
       "       Freezer & Locker Meat Provisions                        NaN      NaN   \n",
       "       Gift, Card, Novelty, and Souvenir Stores            1005.00      NaN   \n",
       "       Lodging - Hotels, Motels, and Resorts                799.99    150.0   \n",
       "       Miscellaneous Food Stores-Convenience Stores an...    86.00    417.0   \n",
       "       Miscellaneous General Merchandise                       NaN      NaN   \n",
       "       Package Stores--Beer, Wine, and Liquor               269.84      NaN   \n",
       "       Quick Payment Service-Fast Food Restaurants             NaN      NaN   \n",
       "       Shoe Stores                                             NaN    959.0   \n",
       "       Taxicabs and Limousines                               93.72      NaN   \n",
       "       Telecommunication Services, Including Local and...   369.00      NaN   \n",
       "       Tourist Attractions and Exhibits                      70.00      NaN   \n",
       "       Utilities-Electric, Gas, Water, and Sanitary            NaN      NaN   \n",
       "\n",
       "transac_year_month                                         2017-06  \n",
       "       category                                                     \n",
       "amount Artist Supply and Craft Stores                          NaN  \n",
       "       Bus Lines, includes Charters/Tour Buses              280.00  \n",
       "       Business Services                                    370.00  \n",
       "       Buying and Shopping Services and Clubs                  NaN  \n",
       "       Caterers - Prepare & Delivery                         82.00  \n",
       "       Civic, Social, and Fraternal Associations            317.50  \n",
       "       Direct Marketing/Direct Marketers--Not Elsewher...      NaN  \n",
       "       Drug Stores and Pharmacies                              NaN  \n",
       "       Eating Places and Restaurants                        292.34  \n",
       "       Freezer & Locker Meat Provisions                     543.31  \n",
       "       Gift, Card, Novelty, and Souvenir Stores              81.00  \n",
       "       Lodging - Hotels, Motels, and Resorts                   NaN  \n",
       "       Miscellaneous Food Stores-Convenience Stores an...      NaN  \n",
       "       Miscellaneous General Merchandise                    150.00  \n",
       "       Package Stores--Beer, Wine, and Liquor                  NaN  \n",
       "       Quick Payment Service-Fast Food Restaurants           60.00  \n",
       "       Shoe Stores                                             NaN  \n",
       "       Taxicabs and Limousines                                 NaN  \n",
       "       Telecommunication Services, Including Local and...      NaN  \n",
       "       Tourist Attractions and Exhibits                     116.67  \n",
       "       Utilities-Electric, Gas, Water, and Sanitary         172.00  "
      ]
     },
     "execution_count": 77,
     "metadata": {},
     "output_type": "execute_result"
    }
   ],
   "source": [
    "rep = do_report(data,484)\n",
    "rep"
   ]
  },
  {
   "cell_type": "markdown",
   "metadata": {},
   "source": [
    "Проверим. Работает!"
   ]
  },
  {
   "cell_type": "markdown",
   "metadata": {},
   "source": [
    "Осталось только проделать это все для каждой категории транзакций, записать на отдельный лист и записать в эксельник.<br>\n",
    "Ниже я написал функуцию, которая циклично добавляет табличку на новыый лист с названием этой таблицы."
   ]
  },
  {
   "cell_type": "code",
   "execution_count": 96,
   "metadata": {},
   "outputs": [],
   "source": [
    "def write_excel_cyclicaly(dataframe, dataframe_name):\n",
    "    import openpyxl\n",
    "    \"\"\"\n",
    "    Эта функция циклично добавляет табличку на новыый лист с названием этой таблицы, используя конструкцию with.\n",
    "    \n",
    "    \"\"\"\n",
    "\n",
    "    with pd.ExcelWriter('../data/mean_check/results/report.xlsx', engine='openpyxl') as writer:\n",
    "        writer.book = book\n",
    "        writer.sheets = dict((ws.title, ws) for ws in book.worksheets)    \n",
    "\n",
    "        dataframe.to_excel(writer, '{}'.format(str(dataframe_name)))\n",
    "        writer.save()  "
   ]
  },
  {
   "cell_type": "markdown",
   "metadata": {},
   "source": [
    "Осталось немного. А именно нам нужно создать/инициализировать пустой файл эксель отчета и произвести в него запись,<br>\n",
    "получившихся таблиц."
   ]
  },
  {
   "cell_type": "code",
   "execution_count": 101,
   "metadata": {},
   "outputs": [],
   "source": [
    "# определяем транзакционные категории\n",
    "trx_cats = data.trx_category.unique()\n",
    "\n",
    "# создаем/инициализируем файл \n",
    "import openpyxl\n",
    "filepath = \"../data/mean_check/results/\"\n",
    "book = openpyxl.Workbook()\n",
    "book.save(filepath+'report.xlsx')\n",
    "\n",
    "# цикл создания отчетов и записи в эксель файл\n",
    "for trx_cat in trx_cats:\n",
    "    report = do_report(data[data['trx_category'] == trx_cat], 810)\n",
    "    write_excel_cyclicaly(report, '{}'.format(trx_cat))"
   ]
  },
  {
   "cell_type": "markdown",
   "metadata": {},
   "source": [
    "## 5. Отчет по оттоку."
   ]
  },
  {
   "cell_type": "markdown",
   "metadata": {},
   "source": [
    "Отток, или **churn** можно определять по-разному, например в зависимости от периода.<br>\n",
    "Так же понятие оттока довольно тесно связано с удержанием или **retention**. Это напротив, сколько людей у нас остается на протяжении из месяца в месяц работы сервиса/подписки и приносит деньги.\n",
    "Давайте посчитаем классический месячныый отток, тоесть проверим сколько людей уходили в текущий месяц, сравнивая его с предыдущим."
   ]
  },
  {
   "cell_type": "code",
   "execution_count": 102,
   "metadata": {},
   "outputs": [
    {
     "data": {
      "text/html": [
       "<div>\n",
       "<style scoped>\n",
       "    .dataframe tbody tr th:only-of-type {\n",
       "        vertical-align: middle;\n",
       "    }\n",
       "\n",
       "    .dataframe tbody tr th {\n",
       "        vertical-align: top;\n",
       "    }\n",
       "\n",
       "    .dataframe thead th {\n",
       "        text-align: right;\n",
       "    }\n",
       "</style>\n",
       "<table border=\"1\" class=\"dataframe\">\n",
       "  <thead>\n",
       "    <tr style=\"text-align: right;\">\n",
       "      <th></th>\n",
       "      <th>mcc</th>\n",
       "      <th>period</th>\n",
       "      <th>trdatetime</th>\n",
       "      <th>amount</th>\n",
       "      <th>cl_id</th>\n",
       "      <th>currency</th>\n",
       "      <th>trx_category</th>\n",
       "      <th>transac_time</th>\n",
       "      <th>transac_day</th>\n",
       "      <th>transac_month</th>\n",
       "      <th>transac_year</th>\n",
       "      <th>transac_year_month</th>\n",
       "      <th>num_code</th>\n",
       "      <th>currency_code</th>\n",
       "      <th>title</th>\n",
       "      <th>category</th>\n",
       "    </tr>\n",
       "  </thead>\n",
       "  <tbody>\n",
       "    <tr>\n",
       "      <th>0</th>\n",
       "      <td>5200</td>\n",
       "      <td>2017-10-01</td>\n",
       "      <td>21OCT17:00:00:00</td>\n",
       "      <td>5023.0</td>\n",
       "      <td>0</td>\n",
       "      <td>810</td>\n",
       "      <td>POS</td>\n",
       "      <td>17:00:00</td>\n",
       "      <td>21</td>\n",
       "      <td>10</td>\n",
       "      <td>2017</td>\n",
       "      <td>2017-10</td>\n",
       "      <td>810</td>\n",
       "      <td>RUR</td>\n",
       "      <td>Russian ruble</td>\n",
       "      <td>Home Supply Warehouse</td>\n",
       "    </tr>\n",
       "    <tr>\n",
       "      <th>1</th>\n",
       "      <td>6011</td>\n",
       "      <td>2017-10-01</td>\n",
       "      <td>12OCT17:12:24:07</td>\n",
       "      <td>20000.0</td>\n",
       "      <td>0</td>\n",
       "      <td>810</td>\n",
       "      <td>DEPOSIT</td>\n",
       "      <td>17:12:24</td>\n",
       "      <td>12</td>\n",
       "      <td>10</td>\n",
       "      <td>2017</td>\n",
       "      <td>2017-10</td>\n",
       "      <td>810</td>\n",
       "      <td>RUR</td>\n",
       "      <td>Russian ruble</td>\n",
       "      <td>Financial Institutions--Automated Cash Disburs...</td>\n",
       "    </tr>\n",
       "    <tr>\n",
       "      <th>2</th>\n",
       "      <td>5921</td>\n",
       "      <td>2017-12-01</td>\n",
       "      <td>05DEC17:00:00:00</td>\n",
       "      <td>767.0</td>\n",
       "      <td>0</td>\n",
       "      <td>810</td>\n",
       "      <td>POS</td>\n",
       "      <td>17:00:00</td>\n",
       "      <td>05</td>\n",
       "      <td>12</td>\n",
       "      <td>2017</td>\n",
       "      <td>2017-12</td>\n",
       "      <td>810</td>\n",
       "      <td>RUR</td>\n",
       "      <td>Russian ruble</td>\n",
       "      <td>Package Stores--Beer, Wine, and Liquor</td>\n",
       "    </tr>\n",
       "  </tbody>\n",
       "</table>\n",
       "</div>"
      ],
      "text/plain": [
       "    mcc     period        trdatetime   amount  cl_id  currency trx_category  \\\n",
       "0  5200 2017-10-01  21OCT17:00:00:00   5023.0      0       810          POS   \n",
       "1  6011 2017-10-01  12OCT17:12:24:07  20000.0      0       810      DEPOSIT   \n",
       "2  5921 2017-12-01  05DEC17:00:00:00    767.0      0       810          POS   \n",
       "\n",
       "  transac_time transac_day transac_month transac_year transac_year_month  \\\n",
       "0     17:00:00          21            10         2017            2017-10   \n",
       "1     17:12:24          12            10         2017            2017-10   \n",
       "2     17:00:00          05            12         2017            2017-12   \n",
       "\n",
       "   num_code currency_code          title  \\\n",
       "0       810           RUR  Russian ruble   \n",
       "1       810           RUR  Russian ruble   \n",
       "2       810           RUR  Russian ruble   \n",
       "\n",
       "                                            category  \n",
       "0                              Home Supply Warehouse  \n",
       "1  Financial Institutions--Automated Cash Disburs...  \n",
       "2             Package Stores--Beer, Wine, and Liquor  "
      ]
     },
     "execution_count": 102,
     "metadata": {},
     "output_type": "execute_result"
    }
   ],
   "source": [
    "data.head(3)"
   ]
  },
  {
   "cell_type": "code",
   "execution_count": 110,
   "metadata": {},
   "outputs": [],
   "source": [
    "\"\"\"\n",
    "В этом куске кода мы будем искать оттекших пользователей тоесть cl_id, которых нет в этом месяце, но есть в прошлом. \n",
    "С точки зрения банковской деятельности это вобщем-то обосновано и у нас как раз транзакционные данные. В случае если \n",
    "это какой-то продукт, то возможно стоит увеличить окно в зависимости от бизнес процессов.\n",
    "\n",
    "`del previous, current` - Строчка которая, удаляет вектора \n",
    "Если вылезла ошибка, то нужно просто закомментировать, а потом раскомментировать, чтобы первая ячейка была всегда np.nan, \n",
    "потому что мы считаем отношение к прошлом месяцу, данными к которым мы еще не обладаем.\n",
    "\n",
    "1) Используем цикл с возможностью отловить ошибку: try ... except, который позволит нам не завершать цикл если вылезет ошибка.\n",
    "А ошибка у нас вылезает в случае, если у нас нет значения за прошлый период. \n",
    "2) Находим вектор айдишников пользователей в текущем месяце.\n",
    "3) Находим пересечение с прошлым месяцем, точнее инфертированное пересечение или те значения, которых нет в текущем месяце, \n",
    "сравнивая с предыдущим. У нас возвращается вектор True/False значений.\n",
    "P.S. На этом этапе у нас появляется ошибка в когда мы сравниваем первый месяц с прыдыдущего, которого у нас нет. У нас возникает\n",
    "ошибка, которую мы отлавливает и исполняем код в после except.\n",
    "4) Мы индексируемся, используя вектор True/False значений, получая только значения айдишников пользователей.\n",
    "5) Считаем длину вектора или по-другому количество \"оттекших\" пользователей.\n",
    "6) Переназначаем текущий вектор айдишников на прошлый период, чтобы сравнивать уже со следующим периодом.\n",
    "\n",
    "\"\"\"\n",
    "\n",
    "# del previous, current \n",
    "churn_array = []\n",
    "\n",
    "for month in sorted(data['transac_year_month'].unique()):\n",
    "    # 1\n",
    "    try:\n",
    "        # 2\n",
    "        current = data[data['transac_year_month'] == month]['cl_id'].unique()\n",
    "        # 3\n",
    "        churned_idx = np.isin(previous, current, invert=True) \n",
    "        # 4\n",
    "        churned = previous[churned_idx] \n",
    "        # 5\n",
    "        churn_array.append(len(churned))\n",
    "        # 6\n",
    "        previous = current\n",
    "    except NameError:\n",
    "        churn_array.append(np.nan)\n",
    "        # 7\n",
    "        previous = data[data['transac_year_month'] == month]['cl_id'].unique()"
   ]
  },
  {
   "cell_type": "code",
   "execution_count": 111,
   "metadata": {},
   "outputs": [
    {
     "data": {
      "text/html": [
       "<div>\n",
       "<style scoped>\n",
       "    .dataframe tbody tr th:only-of-type {\n",
       "        vertical-align: middle;\n",
       "    }\n",
       "\n",
       "    .dataframe tbody tr th {\n",
       "        vertical-align: top;\n",
       "    }\n",
       "\n",
       "    .dataframe thead th {\n",
       "        text-align: right;\n",
       "    }\n",
       "</style>\n",
       "<table border=\"1\" class=\"dataframe\">\n",
       "  <thead>\n",
       "    <tr style=\"text-align: right;\">\n",
       "      <th></th>\n",
       "      <th>months</th>\n",
       "      <th>churn</th>\n",
       "    </tr>\n",
       "  </thead>\n",
       "  <tbody>\n",
       "    <tr>\n",
       "      <th>0</th>\n",
       "      <td>2016-10</td>\n",
       "      <td>NaN</td>\n",
       "    </tr>\n",
       "    <tr>\n",
       "      <th>1</th>\n",
       "      <td>2016-11</td>\n",
       "      <td>21.0</td>\n",
       "    </tr>\n",
       "    <tr>\n",
       "      <th>2</th>\n",
       "      <td>2016-12</td>\n",
       "      <td>107.0</td>\n",
       "    </tr>\n",
       "    <tr>\n",
       "      <th>3</th>\n",
       "      <td>2017-01</td>\n",
       "      <td>313.0</td>\n",
       "    </tr>\n",
       "    <tr>\n",
       "      <th>4</th>\n",
       "      <td>2017-02</td>\n",
       "      <td>919.0</td>\n",
       "    </tr>\n",
       "    <tr>\n",
       "      <th>5</th>\n",
       "      <td>2017-03</td>\n",
       "      <td>1220.0</td>\n",
       "    </tr>\n",
       "    <tr>\n",
       "      <th>6</th>\n",
       "      <td>2017-04</td>\n",
       "      <td>1155.0</td>\n",
       "    </tr>\n",
       "    <tr>\n",
       "      <th>7</th>\n",
       "      <td>2017-05</td>\n",
       "      <td>595.0</td>\n",
       "    </tr>\n",
       "    <tr>\n",
       "      <th>8</th>\n",
       "      <td>2017-06</td>\n",
       "      <td>841.0</td>\n",
       "    </tr>\n",
       "    <tr>\n",
       "      <th>9</th>\n",
       "      <td>2017-07</td>\n",
       "      <td>946.0</td>\n",
       "    </tr>\n",
       "    <tr>\n",
       "      <th>10</th>\n",
       "      <td>2017-08</td>\n",
       "      <td>1072.0</td>\n",
       "    </tr>\n",
       "    <tr>\n",
       "      <th>11</th>\n",
       "      <td>2017-09</td>\n",
       "      <td>1010.0</td>\n",
       "    </tr>\n",
       "    <tr>\n",
       "      <th>12</th>\n",
       "      <td>2017-10</td>\n",
       "      <td>1009.0</td>\n",
       "    </tr>\n",
       "    <tr>\n",
       "      <th>13</th>\n",
       "      <td>2017-11</td>\n",
       "      <td>793.0</td>\n",
       "    </tr>\n",
       "    <tr>\n",
       "      <th>14</th>\n",
       "      <td>2017-12</td>\n",
       "      <td>194.0</td>\n",
       "    </tr>\n",
       "    <tr>\n",
       "      <th>15</th>\n",
       "      <td>2018-01</td>\n",
       "      <td>129.0</td>\n",
       "    </tr>\n",
       "    <tr>\n",
       "      <th>16</th>\n",
       "      <td>2018-02</td>\n",
       "      <td>96.0</td>\n",
       "    </tr>\n",
       "    <tr>\n",
       "      <th>17</th>\n",
       "      <td>2018-03</td>\n",
       "      <td>94.0</td>\n",
       "    </tr>\n",
       "    <tr>\n",
       "      <th>18</th>\n",
       "      <td>2018-04</td>\n",
       "      <td>138.0</td>\n",
       "    </tr>\n",
       "  </tbody>\n",
       "</table>\n",
       "</div>"
      ],
      "text/plain": [
       "     months   churn\n",
       "0   2016-10     NaN\n",
       "1   2016-11    21.0\n",
       "2   2016-12   107.0\n",
       "3   2017-01   313.0\n",
       "4   2017-02   919.0\n",
       "5   2017-03  1220.0\n",
       "6   2017-04  1155.0\n",
       "7   2017-05   595.0\n",
       "8   2017-06   841.0\n",
       "9   2017-07   946.0\n",
       "10  2017-08  1072.0\n",
       "11  2017-09  1010.0\n",
       "12  2017-10  1009.0\n",
       "13  2017-11   793.0\n",
       "14  2017-12   194.0\n",
       "15  2018-01   129.0\n",
       "16  2018-02    96.0\n",
       "17  2018-03    94.0\n",
       "18  2018-04   138.0"
      ]
     },
     "execution_count": 111,
     "metadata": {},
     "output_type": "execute_result"
    }
   ],
   "source": [
    "churn_table = pd.DataFrame({'months':sorted(data['transac_year_month'].unique()),\n",
    "                            'churn':churn_array\n",
    "                           }, columns=['months','churn'])\n",
    "\n",
    "churn_table"
   ]
  },
  {
   "cell_type": "markdown",
   "metadata": {},
   "source": [
    "Запишем наш файл."
   ]
  },
  {
   "cell_type": "code",
   "execution_count": 112,
   "metadata": {},
   "outputs": [],
   "source": [
    "churn_table.to_csv('../data/mean_check/results/churn.csv',index=False)"
   ]
  },
  {
   "cell_type": "markdown",
   "metadata": {},
   "source": [
    "Построим минимальный график, чтобы немного затронуть нашу следующую тему- визуализацию."
   ]
  },
  {
   "cell_type": "code",
   "execution_count": 118,
   "metadata": {},
   "outputs": [
    {
     "data": {
      "image/png": "[encoded data removed]",
      "text/plain": [
       "<Figure size 1080x360 with 1 Axes>"
      ]
     },
     "metadata": {},
     "output_type": "display_data"
    }
   ],
   "source": [
    "import matplotlib.pyplot as plt\n",
    "fig, ax = plt.subplots(1, 1, figsize=(15,5))\n",
    "churn_table['churn'].plot()\n",
    "\n",
    "plt.xlabel('dates', fontsize=14)\n",
    "ax = plt.gca()\n",
    "plt.xticks(np.arange(0, len(dates), 1.0))\n",
    "ax.set_xticklabels(churn_table['months'], fontsize=12, rotation=30)\n",
    "plt.tight_layout()\n",
    "\n",
    "plt.ylabel('ids')\n",
    "plt.xlabel('dates')\n",
    "plt.title('Users churned', fontsize=14)\n",
    "plt.savefig('../data/mean_check/results/churn.png', dpi=300, bbox_inches='tight')\n",
    "plt.show()"
   ]
  },
  {
   "cell_type": "markdown",
   "metadata": {},
   "source": [
    "## 6. Посылаем файлы на почту."
   ]
  },
  {
   "cell_type": "markdown",
   "metadata": {},
   "source": [
    "Эта монстр функция посылает прогноз по почте указаным адресам.<br>\n",
    "Не обязатально понимать сразу все что написано внутри, можно разобрать это по-тихоньку по этапам."
   ]
  },
  {
   "cell_type": "code",
   "execution_count": 119,
   "metadata": {},
   "outputs": [],
   "source": [
    "def send_email(mail_from, password, subject):  \n",
    "\n",
    "    \"\"\"\n",
    "    Эта функция посылает файл/файлы по почте указаным адресам.\n",
    "    \n",
    "    1) Константы и переменные которые остаются неизменными, либо меняются нечасто.\n",
    "    2) Параметры для письма.\n",
    "    3) Список всех путей до документов, которые нужно послать.\n",
    "    4) Цикл для присоединения документов к письму.\n",
    "    5) Цикл для посылки письма. Тестирует на соединение и посылает письмо.\n",
    "    \n",
    "    \"\"\"\n",
    "    import smtplib, os, sys\n",
    "    from email.mime.multipart import MIMEMultipart\n",
    "    from email.mime.text import MIMEText\n",
    "    from email.mime.base import MIMEBase\n",
    "    from email import encoders\n",
    "    \n",
    "    # 1\n",
    "    RESULTS_PATH = '../data/mean_check/'\n",
    "    SENDER = str(mail_from)\n",
    "    PASSWORD = str(password)\n",
    "    RECEPIENTS = 'maximkeremet@gmail.com','maximkeremet@ya.ru'\n",
    "    COMMASPACE = ', '\n",
    "    \n",
    "    # 2\n",
    "    outer = MIMEMultipart()\n",
    "    outer['Subject'] = subject\n",
    "    outer['To'] =  COMMASPACE.join(RECEPIENTS) #RECEPIENTS\n",
    "    outer['From'] = SENDER\n",
    "    #outer.preamble = ''\n",
    "\n",
    "    # 3\n",
    "    ATTACHEMENTS = ['../data/mean_check/results/report.xlsx',\n",
    "                    '../data/mean_check/results/churn.csv',\n",
    "                   '../data/mean_check/results/churn.png'] \n",
    "\n",
    "    # 4\n",
    "    for file in ATTACHEMENTS:\n",
    "        try:\n",
    "            with open(file, 'rb') as fp:\n",
    "                msg = MIMEBase('application', \"octet-stream\")\n",
    "                msg.set_payload(fp.read())\n",
    "            encoders.encode_base64(msg)\n",
    "            msg.add_header('Content-Disposition', 'attachment', filename=os.path.basename(file))\n",
    "            outer.attach(msg)\n",
    "        except:\n",
    "            print(\"Unable to open one of the attachments. Error: \", sys.exc_info()[0])\n",
    "            raise\n",
    "\n",
    "    COMPOSED = outer.as_string()\n",
    "\n",
    "    # 5\n",
    "    try:\n",
    "        with smtplib.SMTP('smtp.gmail.com', 587) as s:\n",
    "            s.ehlo()\n",
    "            s.starttls()\n",
    "            s.ehlo()\n",
    "            s.login(SENDER, PASSWORD)\n",
    "            s.sendmail(SENDER, RECEPIENTS, COMPOSED)\n",
    "            s.close()\n",
    "    except:\n",
    "        print(\"Unable to send the email. Error: \", sys.exc_info()[0])\n",
    "        raise"
   ]
  },
  {
   "cell_type": "markdown",
   "metadata": {},
   "source": [
    "Функция не быстрая, немного подумает, но все отработает.<br>\n",
    "При желаниии ее можно немного переделать, например переместив возможность задавать пути до файлов как аргументы для самой функции."
   ]
  },
  {
   "cell_type": "code",
   "execution_count": 121,
   "metadata": {},
   "outputs": [],
   "source": [
    "send_email('maximkeremet@gmail.com', 'gWmqYzkAVhfT8Hs', 'мой первый отчет')"
   ]
  },
  {
   "cell_type": "markdown",
   "metadata": {},
   "source": [
    "### Домашнее задание"
   ]
  },
  {
   "cell_type": "markdown",
   "metadata": {},
   "source": [
    "Практическая часть домашнего задания на этой неделе будет довольно объемным: \n",
    "\n",
    "1) Нужно поиграться с ноутбуком и подкрутить скрипт для подобного отчета **по долларам США** и еще одной валюте на выбор. Смело копируйте этот ноутбук и сделайте так, чтобы **отчет о транзакциях** был **в одном файле экселя** и пошлите себе **файлик на почту**.<br>\n",
    "\n",
    "2) Отток мы посчитали, как на счет посчитать retention? Или сколько пользователей в текущем месяце присутствуют в прошлом месяце. (по сути это ***обратная*** или ***инвертированная задача*** для той что уже мы посчитали.)\n",
    "\n",
    "3) И свободная часть: **реализовать похожий скрипт для своих нужд** и со своими данными.<br>\n",
    "\n",
    "**P.S.** В функции `send_email` можете указать несколько адресатов в поле `RECEPIENTS` через запятую.\n",
    "В таком случае нужно будет раскомментировать параметр `COMMASPACE = ', '` (убрать решетку до него) и заменить `RECEPIENTS` на `COMMASPACE.join(RECEPIENTS)` так же без решетки."
   ]
  }
 ],
 "metadata": {
  "kernelspec": {
   "display_name": "Python 3",
   "language": "python",
   "name": "python3"
  },
  "language_info": {
   "codemirror_mode": {
    "name": "ipython",
    "version": 3
   },
   "file_extension": ".py",
   "mimetype": "text/x-python",
   "name": "python",
   "nbconvert_exporter": "python",
   "pygments_lexer": "ipython3",
   "version": "3.7.3"
  }
 },
 "nbformat": 4,
 "nbformat_minor": 2
}
